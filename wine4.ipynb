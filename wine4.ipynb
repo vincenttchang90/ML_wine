{
 "cells": [
  {
   "cell_type": "code",
   "execution_count": 1,
   "metadata": {
    "collapsed": true
   },
   "outputs": [],
   "source": [
    "import pandas as pd\n",
    "import numpy as np\n",
    "import seaborn as sns\n",
    "import matplotlib.pyplot as plt\n",
    "from sklearn.cross_decomposition import PLSRegression\n",
    "from sklearn.model_selection import cross_val_score, cross_val_predict\n",
    "from scipy.stats import norm\n",
    "from sklearn.preprocessing import StandardScaler, RobustScaler, MinMaxScaler\n",
    "from sklearn.metrics import mean_absolute_error\n",
    "\n",
    "%matplotlib inline"
   ]
  },
  {
   "cell_type": "code",
   "execution_count": 2,
   "metadata": {
    "collapsed": true
   },
   "outputs": [],
   "source": [
    "red_wine = pd.read_csv('winequality-red.csv')\n",
    "white_wine = pd.read_csv('winequality-white.csv')"
   ]
  },
  {
   "cell_type": "code",
   "execution_count": 3,
   "metadata": {},
   "outputs": [
    {
     "data": {
      "text/html": [
       "<div>\n",
       "<style>\n",
       "    .dataframe thead tr:only-child th {\n",
       "        text-align: right;\n",
       "    }\n",
       "\n",
       "    .dataframe thead th {\n",
       "        text-align: left;\n",
       "    }\n",
       "\n",
       "    .dataframe tbody tr th {\n",
       "        vertical-align: top;\n",
       "    }\n",
       "</style>\n",
       "<table border=\"1\" class=\"dataframe\">\n",
       "  <thead>\n",
       "    <tr style=\"text-align: right;\">\n",
       "      <th></th>\n",
       "      <th>fixed acidity</th>\n",
       "      <th>volatile acidity</th>\n",
       "      <th>citric acid</th>\n",
       "      <th>residual sugar</th>\n",
       "      <th>chlorides</th>\n",
       "      <th>free sulfur dioxide</th>\n",
       "      <th>total sulfur dioxide</th>\n",
       "      <th>density</th>\n",
       "      <th>pH</th>\n",
       "      <th>sulphates</th>\n",
       "      <th>alcohol</th>\n",
       "      <th>quality</th>\n",
       "    </tr>\n",
       "  </thead>\n",
       "  <tbody>\n",
       "    <tr>\n",
       "      <th>0</th>\n",
       "      <td>7.4</td>\n",
       "      <td>0.70</td>\n",
       "      <td>0.00</td>\n",
       "      <td>1.9</td>\n",
       "      <td>0.076</td>\n",
       "      <td>11.0</td>\n",
       "      <td>34.0</td>\n",
       "      <td>0.9978</td>\n",
       "      <td>3.51</td>\n",
       "      <td>0.56</td>\n",
       "      <td>9.4</td>\n",
       "      <td>5</td>\n",
       "    </tr>\n",
       "    <tr>\n",
       "      <th>1</th>\n",
       "      <td>7.8</td>\n",
       "      <td>0.88</td>\n",
       "      <td>0.00</td>\n",
       "      <td>2.6</td>\n",
       "      <td>0.098</td>\n",
       "      <td>25.0</td>\n",
       "      <td>67.0</td>\n",
       "      <td>0.9968</td>\n",
       "      <td>3.20</td>\n",
       "      <td>0.68</td>\n",
       "      <td>9.8</td>\n",
       "      <td>5</td>\n",
       "    </tr>\n",
       "    <tr>\n",
       "      <th>2</th>\n",
       "      <td>7.8</td>\n",
       "      <td>0.76</td>\n",
       "      <td>0.04</td>\n",
       "      <td>2.3</td>\n",
       "      <td>0.092</td>\n",
       "      <td>15.0</td>\n",
       "      <td>54.0</td>\n",
       "      <td>0.9970</td>\n",
       "      <td>3.26</td>\n",
       "      <td>0.65</td>\n",
       "      <td>9.8</td>\n",
       "      <td>5</td>\n",
       "    </tr>\n",
       "    <tr>\n",
       "      <th>3</th>\n",
       "      <td>11.2</td>\n",
       "      <td>0.28</td>\n",
       "      <td>0.56</td>\n",
       "      <td>1.9</td>\n",
       "      <td>0.075</td>\n",
       "      <td>17.0</td>\n",
       "      <td>60.0</td>\n",
       "      <td>0.9980</td>\n",
       "      <td>3.16</td>\n",
       "      <td>0.58</td>\n",
       "      <td>9.8</td>\n",
       "      <td>6</td>\n",
       "    </tr>\n",
       "    <tr>\n",
       "      <th>4</th>\n",
       "      <td>7.4</td>\n",
       "      <td>0.70</td>\n",
       "      <td>0.00</td>\n",
       "      <td>1.9</td>\n",
       "      <td>0.076</td>\n",
       "      <td>11.0</td>\n",
       "      <td>34.0</td>\n",
       "      <td>0.9978</td>\n",
       "      <td>3.51</td>\n",
       "      <td>0.56</td>\n",
       "      <td>9.4</td>\n",
       "      <td>5</td>\n",
       "    </tr>\n",
       "  </tbody>\n",
       "</table>\n",
       "</div>"
      ],
      "text/plain": [
       "   fixed acidity  volatile acidity  citric acid  residual sugar  chlorides  \\\n",
       "0            7.4              0.70         0.00             1.9      0.076   \n",
       "1            7.8              0.88         0.00             2.6      0.098   \n",
       "2            7.8              0.76         0.04             2.3      0.092   \n",
       "3           11.2              0.28         0.56             1.9      0.075   \n",
       "4            7.4              0.70         0.00             1.9      0.076   \n",
       "\n",
       "   free sulfur dioxide  total sulfur dioxide  density    pH  sulphates  \\\n",
       "0                 11.0                  34.0   0.9978  3.51       0.56   \n",
       "1                 25.0                  67.0   0.9968  3.20       0.68   \n",
       "2                 15.0                  54.0   0.9970  3.26       0.65   \n",
       "3                 17.0                  60.0   0.9980  3.16       0.58   \n",
       "4                 11.0                  34.0   0.9978  3.51       0.56   \n",
       "\n",
       "   alcohol  quality  \n",
       "0      9.4        5  \n",
       "1      9.8        5  \n",
       "2      9.8        5  \n",
       "3      9.8        6  \n",
       "4      9.4        5  "
      ]
     },
     "execution_count": 3,
     "metadata": {},
     "output_type": "execute_result"
    }
   ],
   "source": [
    "red_wine.head()"
   ]
  },
  {
   "cell_type": "code",
   "execution_count": 7,
   "metadata": {},
   "outputs": [
    {
     "data": {
      "text/plain": [
       "1599"
      ]
     },
     "execution_count": 7,
     "metadata": {},
     "output_type": "execute_result"
    }
   ],
   "source": [
    "len(red_wine)"
   ]
  },
  {
   "cell_type": "code",
   "execution_count": 4,
   "metadata": {},
   "outputs": [
    {
     "data": {
      "text/html": [
       "<div>\n",
       "<style>\n",
       "    .dataframe thead tr:only-child th {\n",
       "        text-align: right;\n",
       "    }\n",
       "\n",
       "    .dataframe thead th {\n",
       "        text-align: left;\n",
       "    }\n",
       "\n",
       "    .dataframe tbody tr th {\n",
       "        vertical-align: top;\n",
       "    }\n",
       "</style>\n",
       "<table border=\"1\" class=\"dataframe\">\n",
       "  <thead>\n",
       "    <tr style=\"text-align: right;\">\n",
       "      <th></th>\n",
       "      <th>fixed acidity</th>\n",
       "      <th>volatile acidity</th>\n",
       "      <th>citric acid</th>\n",
       "      <th>residual sugar</th>\n",
       "      <th>chlorides</th>\n",
       "      <th>free sulfur dioxide</th>\n",
       "      <th>total sulfur dioxide</th>\n",
       "      <th>density</th>\n",
       "      <th>pH</th>\n",
       "      <th>sulphates</th>\n",
       "      <th>alcohol</th>\n",
       "      <th>quality</th>\n",
       "    </tr>\n",
       "  </thead>\n",
       "  <tbody>\n",
       "    <tr>\n",
       "      <th>0</th>\n",
       "      <td>7.0</td>\n",
       "      <td>0.27</td>\n",
       "      <td>0.36</td>\n",
       "      <td>20.7</td>\n",
       "      <td>0.045</td>\n",
       "      <td>45.0</td>\n",
       "      <td>170.0</td>\n",
       "      <td>1.0010</td>\n",
       "      <td>3.00</td>\n",
       "      <td>0.45</td>\n",
       "      <td>8.8</td>\n",
       "      <td>6</td>\n",
       "    </tr>\n",
       "    <tr>\n",
       "      <th>1</th>\n",
       "      <td>6.3</td>\n",
       "      <td>0.30</td>\n",
       "      <td>0.34</td>\n",
       "      <td>1.6</td>\n",
       "      <td>0.049</td>\n",
       "      <td>14.0</td>\n",
       "      <td>132.0</td>\n",
       "      <td>0.9940</td>\n",
       "      <td>3.30</td>\n",
       "      <td>0.49</td>\n",
       "      <td>9.5</td>\n",
       "      <td>6</td>\n",
       "    </tr>\n",
       "    <tr>\n",
       "      <th>2</th>\n",
       "      <td>8.1</td>\n",
       "      <td>0.28</td>\n",
       "      <td>0.40</td>\n",
       "      <td>6.9</td>\n",
       "      <td>0.050</td>\n",
       "      <td>30.0</td>\n",
       "      <td>97.0</td>\n",
       "      <td>0.9951</td>\n",
       "      <td>3.26</td>\n",
       "      <td>0.44</td>\n",
       "      <td>10.1</td>\n",
       "      <td>6</td>\n",
       "    </tr>\n",
       "    <tr>\n",
       "      <th>3</th>\n",
       "      <td>7.2</td>\n",
       "      <td>0.23</td>\n",
       "      <td>0.32</td>\n",
       "      <td>8.5</td>\n",
       "      <td>0.058</td>\n",
       "      <td>47.0</td>\n",
       "      <td>186.0</td>\n",
       "      <td>0.9956</td>\n",
       "      <td>3.19</td>\n",
       "      <td>0.40</td>\n",
       "      <td>9.9</td>\n",
       "      <td>6</td>\n",
       "    </tr>\n",
       "    <tr>\n",
       "      <th>4</th>\n",
       "      <td>7.2</td>\n",
       "      <td>0.23</td>\n",
       "      <td>0.32</td>\n",
       "      <td>8.5</td>\n",
       "      <td>0.058</td>\n",
       "      <td>47.0</td>\n",
       "      <td>186.0</td>\n",
       "      <td>0.9956</td>\n",
       "      <td>3.19</td>\n",
       "      <td>0.40</td>\n",
       "      <td>9.9</td>\n",
       "      <td>6</td>\n",
       "    </tr>\n",
       "  </tbody>\n",
       "</table>\n",
       "</div>"
      ],
      "text/plain": [
       "   fixed acidity  volatile acidity  citric acid  residual sugar  chlorides  \\\n",
       "0            7.0              0.27         0.36            20.7      0.045   \n",
       "1            6.3              0.30         0.34             1.6      0.049   \n",
       "2            8.1              0.28         0.40             6.9      0.050   \n",
       "3            7.2              0.23         0.32             8.5      0.058   \n",
       "4            7.2              0.23         0.32             8.5      0.058   \n",
       "\n",
       "   free sulfur dioxide  total sulfur dioxide  density    pH  sulphates  \\\n",
       "0                 45.0                 170.0   1.0010  3.00       0.45   \n",
       "1                 14.0                 132.0   0.9940  3.30       0.49   \n",
       "2                 30.0                  97.0   0.9951  3.26       0.44   \n",
       "3                 47.0                 186.0   0.9956  3.19       0.40   \n",
       "4                 47.0                 186.0   0.9956  3.19       0.40   \n",
       "\n",
       "   alcohol  quality  \n",
       "0      8.8        6  \n",
       "1      9.5        6  \n",
       "2     10.1        6  \n",
       "3      9.9        6  \n",
       "4      9.9        6  "
      ]
     },
     "execution_count": 4,
     "metadata": {},
     "output_type": "execute_result"
    }
   ],
   "source": [
    "white_wine.head()"
   ]
  },
  {
   "cell_type": "code",
   "execution_count": 8,
   "metadata": {},
   "outputs": [
    {
     "data": {
      "text/plain": [
       "4898"
      ]
     },
     "execution_count": 8,
     "metadata": {},
     "output_type": "execute_result"
    }
   ],
   "source": [
    "len(white_wine)"
   ]
  },
  {
   "cell_type": "code",
   "execution_count": 54,
   "metadata": {
    "collapsed": true
   },
   "outputs": [],
   "source": [
    "wine = pd.concat([red_wine, white_wine])\n",
    "wine.set_index(np.array(range(len(wine))), inplace = True)"
   ]
  },
  {
   "cell_type": "code",
   "execution_count": 325,
   "metadata": {},
   "outputs": [
    {
     "data": {
      "text/plain": [
       "fixed acidity           3.80000\n",
       "volatile acidity        0.08000\n",
       "citric acid             0.00000\n",
       "residual sugar          0.60000\n",
       "chlorides               0.00900\n",
       "free sulfur dioxide     1.00000\n",
       "total sulfur dioxide    6.00000\n",
       "density                 0.98711\n",
       "pH                      2.72000\n",
       "sulphates               0.22000\n",
       "alcohol                 8.00000\n",
       "quality                 3.00000\n",
       "dtype: float64"
      ]
     },
     "execution_count": 325,
     "metadata": {},
     "output_type": "execute_result"
    }
   ],
   "source": [
    "wine.min()"
   ]
  },
  {
   "cell_type": "code",
   "execution_count": 9,
   "metadata": {},
   "outputs": [
    {
     "data": {
      "text/plain": [
       "array([[<matplotlib.axes._subplots.AxesSubplot object at 0x0000024D5168A9B0>,\n",
       "        <matplotlib.axes._subplots.AxesSubplot object at 0x0000024D5175F9B0>,\n",
       "        <matplotlib.axes._subplots.AxesSubplot object at 0x0000024D519AA208>],\n",
       "       [<matplotlib.axes._subplots.AxesSubplot object at 0x0000024D519D8C88>,\n",
       "        <matplotlib.axes._subplots.AxesSubplot object at 0x0000024D51A11D68>,\n",
       "        <matplotlib.axes._subplots.AxesSubplot object at 0x0000024D51A11DA0>],\n",
       "       [<matplotlib.axes._subplots.AxesSubplot object at 0x0000024D51A77978>,\n",
       "        <matplotlib.axes._subplots.AxesSubplot object at 0x0000024D51AB34A8>,\n",
       "        <matplotlib.axes._subplots.AxesSubplot object at 0x0000024D51B3F048>],\n",
       "       [<matplotlib.axes._subplots.AxesSubplot object at 0x0000024D51B6BBA8>,\n",
       "        <matplotlib.axes._subplots.AxesSubplot object at 0x0000024D51B87860>,\n",
       "        <matplotlib.axes._subplots.AxesSubplot object at 0x0000024D51BCFDD8>]], dtype=object)"
      ]
     },
     "execution_count": 9,
     "metadata": {},
     "output_type": "execute_result"
    },
    {
     "data": {
      "image/png": "[encoded data removed]",
      "text/plain": [
       "<matplotlib.figure.Figure at 0x24d51695668>"
      ]
     },
     "metadata": {},
     "output_type": "display_data"
    }
   ],
   "source": [
    "wine.hist(figsize=(20,20), bins=50)"
   ]
  },
  {
   "cell_type": "code",
   "execution_count": 373,
   "metadata": {},
   "outputs": [
    {
     "data": {
      "text/plain": [
       "fixed acidity           1.723290\n",
       "volatile acidity        1.495097\n",
       "citric acid             0.471731\n",
       "residual sugar          1.435404\n",
       "chlorides               5.399828\n",
       "free sulfur dioxide     1.220066\n",
       "total sulfur dioxide   -0.001177\n",
       "density                 0.503602\n",
       "pH                      0.386839\n",
       "sulphates               1.797270\n",
       "alcohol                 0.565718\n",
       "quality                 0.189623\n",
       "dtype: float64"
      ]
     },
     "execution_count": 373,
     "metadata": {},
     "output_type": "execute_result"
    }
   ],
   "source": [
    "skew0 = wine.skew()\n",
    "skew0"
   ]
  },
  {
   "cell_type": "code",
   "execution_count": 182,
   "metadata": {},
   "outputs": [
    {
     "name": "stdout",
     "output_type": "stream",
     "text": [
      "-0.571947915193\n"
     ]
    }
   ],
   "source": [
    "model = PLSRegression(scale=False, n_components=11)\n",
    "score = cross_val_score(model, wine.iloc[:,:-1], wine.iloc[:,-1], cv=20, scoring='neg_mean_absolute_error')\n",
    "print(score.mean())"
   ]
  },
  {
   "cell_type": "code",
   "execution_count": 372,
   "metadata": {},
   "outputs": [
    {
     "name": "stdout",
     "output_type": "stream",
     "text": [
      "-0.5832237106980225\n"
     ]
    }
   ],
   "source": [
    "model = PLSRegression()\n",
    "score = cross_val_score(model, wine.iloc[:,:-1], wine.iloc[:,-1], cv=20, scoring='neg_mean_absolute_error')\n",
    "print(score.mean())"
   ]
  },
  {
   "cell_type": "code",
   "execution_count": 359,
   "metadata": {
    "collapsed": true
   },
   "outputs": [],
   "source": [
    "test_data = np.log1p(wine.iloc[:,:-1])\n",
    "skew1 = test_data.skew()"
   ]
  },
  {
   "cell_type": "code",
   "execution_count": 380,
   "metadata": {},
   "outputs": [
    {
     "data": {
      "text/plain": [
       "fixed acidity           False\n",
       "volatile acidity        False\n",
       "citric acid             False\n",
       "residual sugar          False\n",
       "chlorides               False\n",
       "free sulfur dioxide     False\n",
       "total sulfur dioxide     True\n",
       "density                 False\n",
       "pH                      False\n",
       "sulphates               False\n",
       "alcohol                 False\n",
       "quality                  True\n",
       "dtype: bool"
      ]
     },
     "execution_count": 380,
     "metadata": {},
     "output_type": "execute_result"
    }
   ],
   "source": [
    "abs(skew5) == abs(skew0)"
   ]
  },
  {
   "cell_type": "code",
   "execution_count": 23,
   "metadata": {},
   "outputs": [
    {
     "data": {
      "text/plain": [
       "<matplotlib.axes._subplots.AxesSubplot at 0x24d52082f28>"
      ]
     },
     "execution_count": 23,
     "metadata": {},
     "output_type": "execute_result"
    },
    {
     "data": {
      "image/png": "[encoded data removed]",
      "text/plain": [
       "<matplotlib.figure.Figure at 0x24d5204fcc0>"
      ]
     },
     "metadata": {},
     "output_type": "display_data"
    }
   ],
   "source": [
    "sns.distplot(wine['total sulfur dioxide'], fit=norm)"
   ]
  },
  {
   "cell_type": "code",
   "execution_count": 24,
   "metadata": {},
   "outputs": [
    {
     "data": {
      "text/plain": [
       "<matplotlib.axes._subplots.AxesSubplot at 0x24d524b3780>"
      ]
     },
     "execution_count": 24,
     "metadata": {},
     "output_type": "execute_result"
    },
    {
     "data": {
      "image/png": "[encoded data removed]",
      "text/plain": [
       "<matplotlib.figure.Figure at 0x24d5206a898>"
      ]
     },
     "metadata": {},
     "output_type": "display_data"
    }
   ],
   "source": [
    "sns.distplot(test_data['total sulfur dioxide'], fit=norm)"
   ]
  },
  {
   "cell_type": "code",
   "execution_count": 188,
   "metadata": {},
   "outputs": [
    {
     "name": "stdout",
     "output_type": "stream",
     "text": [
      "-0.568378635584\n"
     ]
    }
   ],
   "source": [
    "model = PLSRegression(n_components=11)\n",
    "score = cross_val_score(model, test_data, wine.iloc[:,-1], cv=20, scoring='neg_mean_absolute_error')\n",
    "print(score.mean())"
   ]
  },
  {
   "cell_type": "code",
   "execution_count": 360,
   "metadata": {},
   "outputs": [
    {
     "name": "stdout",
     "output_type": "stream",
     "text": [
      "-0.03677586458803948\n"
     ]
    }
   ],
   "source": [
    "test_data['total sulfur dioxide'] = wine['total sulfur dioxide']\n",
    "test_data['quality'] = wine['quality']\n",
    "\n",
    "#model = PLSRegression()\n",
    "score = cross_val_score(model, test_data, wine.iloc[:,-1], cv=20, scoring='neg_mean_absolute_error')\n",
    "print(score.mean())"
   ]
  },
  {
   "cell_type": "code",
   "execution_count": 43,
   "metadata": {},
   "outputs": [
    {
     "data": {
      "text/plain": [
       "array([[<matplotlib.axes._subplots.AxesSubplot object at 0x0000024D5503E7B8>,\n",
       "        <matplotlib.axes._subplots.AxesSubplot object at 0x0000024D56414FD0>,\n",
       "        <matplotlib.axes._subplots.AxesSubplot object at 0x0000024D55A67CC0>],\n",
       "       [<matplotlib.axes._subplots.AxesSubplot object at 0x0000024D55A76128>,\n",
       "        <matplotlib.axes._subplots.AxesSubplot object at 0x0000024D55AA92E8>,\n",
       "        <matplotlib.axes._subplots.AxesSubplot object at 0x0000024D55AA9320>],\n",
       "       [<matplotlib.axes._subplots.AxesSubplot object at 0x0000024D55B0F9E8>,\n",
       "        <matplotlib.axes._subplots.AxesSubplot object at 0x0000024D55B4B588>,\n",
       "        <matplotlib.axes._subplots.AxesSubplot object at 0x0000024D55B71A58>],\n",
       "       [<matplotlib.axes._subplots.AxesSubplot object at 0x0000024D55BB15F8>,\n",
       "        <matplotlib.axes._subplots.AxesSubplot object at 0x0000024D55BEB198>,\n",
       "        <matplotlib.axes._subplots.AxesSubplot object at 0x0000024D55C1FCF8>]], dtype=object)"
      ]
     },
     "execution_count": 43,
     "metadata": {},
     "output_type": "execute_result"
    },
    {
     "data": {
      "image/png": "[encoded data removed]",
      "text/plain": [
       "<matplotlib.figure.Figure at 0x24d54d6fbe0>"
      ]
     },
     "metadata": {},
     "output_type": "display_data"
    }
   ],
   "source": [
    "test_data.hist(figsize=(20,20), bins=50)"
   ]
  },
  {
   "cell_type": "code",
   "execution_count": 38,
   "metadata": {
    "collapsed": true
   },
   "outputs": [],
   "source": [
    "skew2 = test_data.skew()"
   ]
  },
  {
   "cell_type": "code",
   "execution_count": 365,
   "metadata": {},
   "outputs": [
    {
     "name": "stderr",
     "output_type": "stream",
     "text": [
      "C:\\Users\\Vincent\\Anaconda3\\lib\\site-packages\\sklearn\\utils\\validation.py:475: DataConversionWarning: Data with input dtype int64 was converted to float64 by StandardScaler.\n",
      "  warnings.warn(msg, DataConversionWarning)\n"
     ]
    }
   ],
   "source": [
    "#test_data = wine.iloc[:,:-1].copy()\n",
    "\n",
    "for i in test_data:\n",
    "    test_data[i] = StandardScaler().fit_transform(test_data[i].values.reshape(-1,1))\n",
    "\n",
    "test_data['quality'] = wine['quality']\n",
    "\n",
    "outliers =[]\n",
    "\n",
    "for i in range(len(test_data)):\n",
    "    for j in test_data.iloc[i,:-1]:\n",
    "        if j > 8 or j < -8:\n",
    "            outliers.append(i)"
   ]
  },
  {
   "cell_type": "code",
   "execution_count": 350,
   "metadata": {
    "collapsed": true
   },
   "outputs": [],
   "source": [
    "outliers = pd.DataFrame(pd.Series(outliers).value_counts(), columns = ['count'])"
   ]
  },
  {
   "cell_type": "code",
   "execution_count": 366,
   "metadata": {},
   "outputs": [
    {
     "data": {
      "text/plain": [
       "1    19\n",
       "Name: count, dtype: int64"
      ]
     },
     "execution_count": 366,
     "metadata": {},
     "output_type": "execute_result"
    }
   ],
   "source": [
    "outliers = pd.DataFrame(pd.Series(outliers).value_counts(), columns = ['count'])\n",
    "outliers['count'].value_counts()"
   ]
  },
  {
   "cell_type": "code",
   "execution_count": 367,
   "metadata": {},
   "outputs": [
    {
     "name": "stdout",
     "output_type": "stream",
     "text": [
      "-0.580405487532804\n"
     ]
    }
   ],
   "source": [
    "#for i in np.array(outliers.index):\n",
    " #   if outliers.loc[i].values < 4:\n",
    "  #      outliers.drop(i, inplace=True)\n",
    "\n",
    "log_data = test_data.copy()\n",
    "log_data.drop(outliers.index, inplace = True)\n",
    "score = cross_val_score(model, log_data.iloc[:,:-1], log_data.iloc[:,-1], cv=20, scoring='neg_mean_absolute_error')\n",
    "print(score.mean())"
   ]
  },
  {
   "cell_type": "code",
   "execution_count": 99,
   "metadata": {},
   "outputs": [
    {
     "name": "stdout",
     "output_type": "stream",
     "text": [
      "-0.580626623168\n"
     ]
    }
   ],
   "source": [
    "for i in np.array(outliers.index):\n",
    "    if outliers.loc[i].values < 3:\n",
    "        outliers.drop(i, inplace=True)\n",
    "\n",
    "log_data = test_data.copy()\n",
    "log_data.drop(outliers.index, inplace = True)\n",
    "score = cross_val_score(model, log_data.iloc[:,:-1], log_data.iloc[:,-1], cv=20, scoring='neg_mean_absolute_error')\n",
    "print(score.mean())"
   ]
  },
  {
   "cell_type": "code",
   "execution_count": 107,
   "metadata": {},
   "outputs": [
    {
     "name": "stdout",
     "output_type": "stream",
     "text": [
      "-0.580656537732\n"
     ]
    }
   ],
   "source": [
    "for i in np.array(outliers.index):\n",
    "    if outliers.loc[i].values < 2:\n",
    "        outliers.drop(i, inplace=True)\n",
    "\n",
    "log_data = test_data.copy()\n",
    "log_data.drop(outliers.index, inplace = True)\n",
    "score = cross_val_score(model, log_data.iloc[:,:-1], log_data.iloc[:,-1], cv=20, scoring='neg_mean_absolute_error')\n",
    "print(score.mean())"
   ]
  },
  {
   "cell_type": "code",
   "execution_count": 75,
   "metadata": {},
   "outputs": [
    {
     "name": "stdout",
     "output_type": "stream",
     "text": [
      "-0.5810367388714347\n"
     ]
    }
   ],
   "source": [
    "for i in np.array(outliers.index):\n",
    "    if outliers.loc[i].values < 1:\n",
    "        outliers.drop(i, inplace=True)\n",
    "\n",
    "log_data = test_data.copy()\n",
    "log_data.drop(outliers.index, inplace = True)\n",
    "score = cross_val_score(model, log_data.iloc[:,:-1], log_data.iloc[:,-1], cv=20, scoring='neg_mean_absolute_error')\n",
    "print(score.mean())"
   ]
  },
  {
   "cell_type": "code",
   "execution_count": 76,
   "metadata": {},
   "outputs": [
    {
     "data": {
      "text/plain": [
       "0.0029244266584577496"
      ]
     },
     "execution_count": 76,
     "metadata": {},
     "output_type": "execute_result"
    }
   ],
   "source": [
    "len(outliers) / len(wine)"
   ]
  },
  {
   "cell_type": "code",
   "execution_count": 113,
   "metadata": {},
   "outputs": [
    {
     "data": {
      "image/png": "[encoded data removed]",
      "text/plain": [
       "<matplotlib.figure.Figure at 0x24d5a912dd8>"
      ]
     },
     "metadata": {},
     "output_type": "display_data"
    }
   ],
   "source": [
    "corrmat = log_data.corr()\n",
    "f, ax = plt.subplots(figsize=(12, 9))\n",
    "sns.heatmap(corrmat, vmax=.8, square=True,annot=True);"
   ]
  },
  {
   "cell_type": "code",
   "execution_count": 205,
   "metadata": {},
   "outputs": [
    {
     "name": "stdout",
     "output_type": "stream",
     "text": [
      "fixed acidity -0.574592151374\n",
      "volatile acidity -0.58408909161\n",
      "citric acid -0.572714386186\n",
      "residual sugar -0.586880845437\n",
      "chlorides -0.574991308047\n",
      "free sulfur dioxide -0.578982638821\n",
      "total sulfur dioxide -0.579481855687\n",
      "density -0.579079974799\n",
      "pH -0.578162510462\n",
      "sulphates -0.582063767269\n",
      "alcohol -0.613844290171\n"
     ]
    }
   ],
   "source": [
    "for i in log_data:\n",
    "    if i == 'quality':\n",
    "        pass\n",
    "    else:\n",
    "        test = log_data.drop(i, axis=1)\n",
    "        model = PLSRegression(n_components=2)\n",
    "        score = cross_val_score(model, test.iloc[:,:-1], test.iloc[:,-1], cv=20, scoring='neg_mean_absolute_error')\n",
    "        print(i,score.mean())"
   ]
  },
  {
   "cell_type": "code",
   "execution_count": 125,
   "metadata": {},
   "outputs": [
    {
     "name": "stdout",
     "output_type": "stream",
     "text": [
      "-0.579906118248\n"
     ]
    }
   ],
   "source": [
    "copy = log_data.copy()\n",
    "copy.insert(5, 'sulfur ratio', copy['free sulfur dioxide'] / copy['total sulfur dioxide'])\n",
    "copy.drop(['free sulfur dioxide', 'total sulfur dioxide'], axis=1, inplace=True)\n",
    "score = cross_val_score(model, copy.iloc[:,:-1], copy.iloc[:,-1], cv=20, scoring='neg_mean_absolute_error')\n",
    "print(score.mean())"
   ]
  },
  {
   "cell_type": "code",
   "execution_count": 131,
   "metadata": {},
   "outputs": [
    {
     "name": "stdout",
     "output_type": "stream",
     "text": [
      "-0.572714386186\n"
     ]
    }
   ],
   "source": [
    "copy = log_data.copy()\n",
    "\n",
    "copy.drop(['citric acid'], axis=1, inplace=True)\n",
    "score = cross_val_score(model, copy.iloc[:,:-1], copy.iloc[:,-1], cv=20, scoring='neg_mean_absolute_error')\n",
    "print(score.mean())"
   ]
  },
  {
   "cell_type": "code",
   "execution_count": 133,
   "metadata": {},
   "outputs": [
    {
     "name": "stdout",
     "output_type": "stream",
     "text": [
      "fixed acidity -0.572697169216\n",
      "volatile acidity -0.584903771355\n",
      "residual sugar -0.585005407691\n",
      "chlorides -0.574315522947\n",
      "free sulfur dioxide -0.575102856599\n",
      "total sulfur dioxide -0.576620247457\n",
      "density -0.576596031998\n",
      "pH -0.574368865714\n",
      "sulphates -0.579029433288\n",
      "alcohol -0.611573808208\n"
     ]
    }
   ],
   "source": [
    "for i in copy:\n",
    "    if i == 'quality':\n",
    "        pass\n",
    "    else:\n",
    "        test = copy.drop(i, axis=1)\n",
    "        score = cross_val_score(model, test.iloc[:,:-1], test.iloc[:,-1], cv=20, scoring='neg_mean_absolute_error')\n",
    "        print(i,score.mean())"
   ]
  },
  {
   "cell_type": "code",
   "execution_count": 134,
   "metadata": {},
   "outputs": [
    {
     "name": "stdout",
     "output_type": "stream",
     "text": [
      "-0.576502913562\n"
     ]
    }
   ],
   "source": [
    "\n",
    "copy.insert(5, 'sulfur ratio', copy['free sulfur dioxide'] / copy['total sulfur dioxide'])\n",
    "copy.drop(['free sulfur dioxide', 'total sulfur dioxide'], axis=1, inplace=True)\n",
    "score = cross_val_score(model, copy.iloc[:,:-1], copy.iloc[:,-1], cv=20, scoring='neg_mean_absolute_error')\n",
    "print(score.mean())"
   ]
  },
  {
   "cell_type": "code",
   "execution_count": 137,
   "metadata": {},
   "outputs": [
    {
     "data": {
      "text/plain": [
       "6    2836\n",
       "5    2138\n",
       "7    1079\n",
       "4     216\n",
       "8     193\n",
       "3      30\n",
       "9       5\n",
       "Name: quality, dtype: int64"
      ]
     },
     "execution_count": 137,
     "metadata": {},
     "output_type": "execute_result"
    }
   ],
   "source": [
    "wine['quality'].value_counts()"
   ]
  },
  {
   "cell_type": "code",
   "execution_count": 136,
   "metadata": {
    "collapsed": true
   },
   "outputs": [],
   "source": [
    "quality3 = wine[wine['quality'] == 3]\n",
    "quality4 = wine[wine['quality'] == 4]\n",
    "quality5 = wine[wine['quality'] == 5]\n",
    "quality6 = wine[wine['quality'] == 6]\n",
    "quality7 = wine[wine['quality'] == 7]\n",
    "quality8 = wine[wine['quality'] == 8]\n",
    "quality9 = wine[wine['quality'] == 9]"
   ]
  },
  {
   "cell_type": "code",
   "execution_count": 159,
   "metadata": {
    "collapsed": true
   },
   "outputs": [],
   "source": [
    "resampled_wine = []\n",
    "\n",
    "random_wine = np.random.choice(quality3.index, int(len(quality3.index)/2), replace = False)\n",
    "resampled_wine.extend(random_wine)\n",
    "random_wine = np.random.choice(quality4.index, int(len(quality4.index)/2), replace = False)\n",
    "resampled_wine.extend(random_wine)\n",
    "random_wine = np.random.choice(quality5.index, int(len(quality5.index)/2), replace = False)\n",
    "resampled_wine.extend(random_wine)\n",
    "random_wine = np.random.choice(quality6.index, int(len(quality6.index)/2), replace = False)\n",
    "resampled_wine.extend(random_wine)\n",
    "random_wine = np.random.choice(quality7.index, int(len(quality5.index)/2), replace = False)\n",
    "resampled_wine.extend(random_wine)\n",
    "random_wine = np.random.choice(quality8.index, int(len(quality4.index)/2), replace = False)\n",
    "resampled_wine.extend(random_wine)\n",
    "random_wine = np.random.choice(quality9.index, int(len(quality3.index)/2), replace = True)\n",
    "resampled_wine.extend(random_wine)\n",
    "\n",
    "data = wine.loc[resampled_wine]"
   ]
  },
  {
   "cell_type": "code",
   "execution_count": 160,
   "metadata": {},
   "outputs": [
    {
     "data": {
      "text/plain": [
       "6    1418\n",
       "7    1069\n",
       "5    1069\n",
       "8     108\n",
       "4     108\n",
       "9      15\n",
       "3      15\n",
       "Name: quality, dtype: int64"
      ]
     },
     "execution_count": 160,
     "metadata": {},
     "output_type": "execute_result"
    }
   ],
   "source": [
    "data['quality'].value_counts()"
   ]
  },
  {
   "cell_type": "code",
   "execution_count": 161,
   "metadata": {},
   "outputs": [
    {
     "name": "stdout",
     "output_type": "stream",
     "text": [
      "-0.648543137733\n"
     ]
    }
   ],
   "source": [
    "score = cross_val_score(model, data.iloc[:,:-1], data.iloc[:,-1], cv=20, scoring='neg_mean_absolute_error')\n",
    "print(score.mean())"
   ]
  },
  {
   "cell_type": "code",
   "execution_count": 145,
   "metadata": {},
   "outputs": [
    {
     "data": {
      "text/plain": [
       "<matplotlib.axes._subplots.AxesSubplot at 0x24d5b6aa9e8>"
      ]
     },
     "execution_count": 145,
     "metadata": {},
     "output_type": "execute_result"
    },
    {
     "data": {
      "image/png": "[encoded data removed]",
      "text/plain": [
       "<matplotlib.figure.Figure at 0x24d5b6abdd8>"
      ]
     },
     "metadata": {},
     "output_type": "display_data"
    }
   ],
   "source": [
    "sns.distplot(data['quality'], fit=norm)"
   ]
  },
  {
   "cell_type": "code",
   "execution_count": 179,
   "metadata": {},
   "outputs": [
    {
     "data": {
      "text/plain": [
       "0.57911253028549647"
      ]
     },
     "execution_count": 179,
     "metadata": {},
     "output_type": "execute_result"
    }
   ],
   "source": [
    "model = PLSRegression(n_components=11)\n",
    "model.fit(data.iloc[:,:-1],data.iloc[:,-1])\n",
    "mean_absolute_error(wine.iloc[:,-1], model.predict(wine.iloc[:,:-1]))"
   ]
  },
  {
   "cell_type": "code",
   "execution_count": 206,
   "metadata": {
    "collapsed": true
   },
   "outputs": [],
   "source": [
    "from sklearn.ensemble import RandomForestRegressor\n",
    "forest = RandomForestRegressor()"
   ]
  },
  {
   "cell_type": "code",
   "execution_count": 207,
   "metadata": {},
   "outputs": [
    {
     "data": {
      "text/plain": [
       "0.31289826073572413"
      ]
     },
     "execution_count": 207,
     "metadata": {},
     "output_type": "execute_result"
    }
   ],
   "source": [
    "forest.fit(data.iloc[:,:-1],data.iloc[:,-1])\n",
    "mean_absolute_error(wine.iloc[:,-1], forest.predict(wine.iloc[:,:-1]))"
   ]
  },
  {
   "cell_type": "code",
   "execution_count": 208,
   "metadata": {
    "collapsed": true
   },
   "outputs": [],
   "source": [
    "from sklearn.ensemble import GradientBoostingRegressor\n",
    "boost = GradientBoostingRegressor()"
   ]
  },
  {
   "cell_type": "code",
   "execution_count": 209,
   "metadata": {},
   "outputs": [
    {
     "data": {
      "text/plain": [
       "0.51302103478684613"
      ]
     },
     "execution_count": 209,
     "metadata": {},
     "output_type": "execute_result"
    }
   ],
   "source": [
    "boost.fit(data.iloc[:,:-1],data.iloc[:,-1])\n",
    "mean_absolute_error(wine.iloc[:,-1], boost.predict(wine.iloc[:,:-1]))"
   ]
  },
  {
   "cell_type": "code",
   "execution_count": 210,
   "metadata": {},
   "outputs": [
    {
     "name": "stdout",
     "output_type": "stream",
     "text": [
      "-0.562525519285\n"
     ]
    }
   ],
   "source": [
    "score = cross_val_score(boost, copy.iloc[:,:-1], copy.iloc[:,-1], cv=20, scoring='neg_mean_absolute_error')\n",
    "print(score.mean())"
   ]
  },
  {
   "cell_type": "code",
   "execution_count": 211,
   "metadata": {},
   "outputs": [
    {
     "name": "stdout",
     "output_type": "stream",
     "text": [
      "-0.587044985204\n"
     ]
    }
   ],
   "source": [
    "score = cross_val_score(forest, copy.iloc[:,:-1], copy.iloc[:,-1], cv=20, scoring='neg_mean_absolute_error')\n",
    "print(score.mean())"
   ]
  },
  {
   "cell_type": "code",
   "execution_count": 212,
   "metadata": {},
   "outputs": [
    {
     "data": {
      "text/plain": [
       "0.64654161086284323"
      ]
     },
     "execution_count": 212,
     "metadata": {},
     "output_type": "execute_result"
    }
   ],
   "source": [
    "from sklearn import linear_model\n",
    "clf = linear_model.Lasso()\n",
    "clf.fit(data.iloc[:,:-1],data.iloc[:,-1])\n",
    "mean_absolute_error(wine.iloc[:,-1], clf.predict(wine.iloc[:,:-1]))"
   ]
  },
  {
   "cell_type": "code",
   "execution_count": 313,
   "metadata": {},
   "outputs": [
    {
     "name": "stderr",
     "output_type": "stream",
     "text": [
      "C:\\Users\\Vincent\\Anaconda3\\lib\\site-packages\\sklearn\\utils\\validation.py:475: DataConversionWarning: Data with input dtype int64 was converted to float64 by StandardScaler.\n",
      "  warnings.warn(msg, DataConversionWarning)\n",
      "C:\\Users\\Vincent\\Anaconda3\\lib\\site-packages\\sklearn\\utils\\validation.py:475: DataConversionWarning: Data with input dtype int64 was converted to float64 by MinMaxScaler.\n",
      "  warnings.warn(msg, DataConversionWarning)\n"
     ]
    }
   ],
   "source": [
    "model = PLSRegression(scale=False)\n",
    "std_data = log_data.copy()\n",
    "robust_data = log_data.copy()\n",
    "minmax_data = log_data.copy()\n",
    "\n",
    "for i in std_data:\n",
    "    std_data[i] = StandardScaler().fit_transform(std_data[i].values.reshape(-1,1))\n",
    "\n",
    "std_data['quality'] = wine['quality']\n",
    "\n",
    "for i in std_data:\n",
    "    robust_data[i] = RobustScaler().fit_transform(robust_data[i].values.reshape(-1,1))\n",
    "\n",
    "robust_data['quality'] = wine['quality']\n",
    "\n",
    "for i in std_data:\n",
    "    minmax_data[i] = MinMaxScaler().fit_transform(minmax_data[i].values.reshape(-1,1))\n",
    "\n",
    "minmax_data['quality'] = wine['quality']\n"
   ]
  },
  {
   "cell_type": "code",
   "execution_count": 314,
   "metadata": {},
   "outputs": [
    {
     "name": "stdout",
     "output_type": "stream",
     "text": [
      "-0.5775710703682982\n"
     ]
    }
   ],
   "source": [
    "score = cross_val_score(model, std_data.iloc[:,:-1], std_data.iloc[:,-1], cv=20, scoring='neg_mean_absolute_error')\n",
    "pred = cross_val_predict(model, std_data.iloc[:,:-1], std_data.iloc[:,-1], cv=20)\n",
    "print(score.mean())"
   ]
  },
  {
   "cell_type": "code",
   "execution_count": 315,
   "metadata": {},
   "outputs": [
    {
     "name": "stdout",
     "output_type": "stream",
     "text": [
      "-0.5886129856372782\n"
     ]
    }
   ],
   "source": [
    "score = cross_val_score(model, robust_data.iloc[:,:-1], std_data.iloc[:,-1], cv=20, scoring='neg_mean_absolute_error')\n",
    "print(score.mean())"
   ]
  },
  {
   "cell_type": "code",
   "execution_count": 316,
   "metadata": {},
   "outputs": [
    {
     "name": "stdout",
     "output_type": "stream",
     "text": [
      "-0.574952674362202\n"
     ]
    }
   ],
   "source": [
    "score = cross_val_score(model, minmax_data.iloc[:,:-1], std_data.iloc[:,-1], cv=20, scoring='neg_mean_absolute_error')\n",
    "print(score.mean())"
   ]
  },
  {
   "cell_type": "code",
   "execution_count": 11,
   "metadata": {},
   "outputs": [
    {
     "name": "stdout",
     "output_type": "stream",
     "text": [
      "-0.674964379926115\n"
     ]
    }
   ],
   "source": [
    "score = cross_val_score(model, wine.iloc[:,:-1], std_data.iloc[:,-1], cv=20, scoring='neg_mean_absolute_error')\n",
    "print(score.mean())"
   ]
  },
  {
   "cell_type": "code",
   "execution_count": 14,
   "metadata": {},
   "outputs": [
    {
     "data": {
      "text/plain": [
       "<matplotlib.axes._subplots.AxesSubplot at 0x238aa666e10>"
      ]
     },
     "execution_count": 14,
     "metadata": {},
     "output_type": "execute_result"
    },
    {
     "data": {
      "image/png": "[encoded data removed]",
      "text/plain": [
       "<matplotlib.figure.Figure at 0x238a70317f0>"
      ]
     },
     "metadata": {},
     "output_type": "display_data"
    }
   ],
   "source": [
    "wine['quality'].hist(bins=7, figsize=(15,5))"
   ]
  },
  {
   "cell_type": "code",
   "execution_count": 23,
   "metadata": {},
   "outputs": [
    {
     "data": {
      "image/png": "[encoded data removed]",
      "text/plain": [
       "<matplotlib.figure.Figure at 0x238aab98160>"
      ]
     },
     "metadata": {},
     "output_type": "display_data"
    }
   ],
   "source": [
    "plt.style.use('seaborn')\n",
    "plt.figure(figsize=(15,5))\n",
    "\n",
    "plt.hist(pred, bins=7);"
   ]
  },
  {
   "cell_type": "code",
   "execution_count": 263,
   "metadata": {},
   "outputs": [],
   "source": [
    "test = wine.copy()\n",
    "from scipy import stats\n",
    "\n",
    "for i in test:\n",
    "    x,_ = stats.boxcox(test[i] - test[i].min() + 1)\n",
    "    test[i] = x\n",
    "\n",
    "test['quality'] = wine['quality']\n",
    "#test.hist(bins=50, figsize=(15,15))"
   ]
  },
  {
   "cell_type": "code",
   "execution_count": 33,
   "metadata": {},
   "outputs": [
    {
     "name": "stdout",
     "output_type": "stream",
     "text": [
      "-0.580807945176932\n"
     ]
    }
   ],
   "source": [
    "model = PLSRegression()\n",
    "score = cross_val_score(model, test.iloc[:,:-1], std_data.iloc[:,-1], cv=20, scoring='neg_mean_absolute_error')\n",
    "print(score.mean())"
   ]
  },
  {
   "cell_type": "code",
   "execution_count": 36,
   "metadata": {},
   "outputs": [
    {
     "data": {
      "text/plain": [
       "6497"
      ]
     },
     "execution_count": 36,
     "metadata": {},
     "output_type": "execute_result"
    }
   ],
   "source": [
    "np.cbrt(test['total sulfur dioxide'])\n"
   ]
  },
  {
   "cell_type": "code",
   "execution_count": 38,
   "metadata": {},
   "outputs": [
    {
     "data": {
      "image/png": "[encoded data removed]",
      "text/plain": [
       "<matplotlib.figure.Figure at 0x238ac157ba8>"
      ]
     },
     "metadata": {},
     "output_type": "display_data"
    }
   ],
   "source": [
    "plt.style.use('seaborn')\n",
    "plt.figure(figsize=(15,5))\n",
    "\n",
    "plt.hist(np.cbrt(test['total sulfur dioxide']), bins=50);"
   ]
  },
  {
   "cell_type": "code",
   "execution_count": 41,
   "metadata": {},
   "outputs": [
    {
     "data": {
      "text/plain": [
       "<matplotlib.collections.PathCollection at 0x238acfad2e8>"
      ]
     },
     "execution_count": 41,
     "metadata": {},
     "output_type": "execute_result"
    },
    {
     "data": {
      "image/png": "[encoded data removed]",
      "text/plain": [
       "<matplotlib.figure.Figure at 0x238ad296780>"
      ]
     },
     "metadata": {},
     "output_type": "display_data"
    }
   ],
   "source": [
    "plt.scatter(y = wine['alcohol'], x = wine['quality'])"
   ]
  },
  {
   "cell_type": "code",
   "execution_count": null,
   "metadata": {
    "collapsed": true
   },
   "outputs": [],
   "source": []
  },
  {
   "cell_type": "code",
   "execution_count": 44,
   "metadata": {
    "scrolled": false
   },
   "outputs": [
    {
     "data": {
      "image/png": "[encoded data removed]",
      "text/plain": [
       "<matplotlib.figure.Figure at 0x238ae90f4e0>"
      ]
     },
     "metadata": {},
     "output_type": "display_data"
    },
    {
     "data": {
      "image/png": "[encoded data removed]",
      "text/plain": [
       "<matplotlib.figure.Figure at 0x238aeab46d8>"
      ]
     },
     "metadata": {},
     "output_type": "display_data"
    },
    {
     "data": {
      "image/png": "[encoded data removed]",
      "text/plain": [
       "<matplotlib.figure.Figure at 0x238aeb18eb8>"
      ]
     },
     "metadata": {},
     "output_type": "display_data"
    },
    {
     "data": {
      "image/png": "[encoded data removed]",
      "text/plain": [
       "<matplotlib.figure.Figure at 0x238aeb836d8>"
      ]
     },
     "metadata": {},
     "output_type": "display_data"
    },
    {
     "data": {
      "image/png": "[encoded data removed]",
      "text/plain": [
       "<matplotlib.figure.Figure at 0x238aebff860>"
      ]
     },
     "metadata": {},
     "output_type": "display_data"
    },
    {
     "data": {
      "image/png": "[encoded data removed]",
      "text/plain": [
       "<matplotlib.figure.Figure at 0x238ae943c50>"
      ]
     },
     "metadata": {},
     "output_type": "display_data"
    },
    {
     "data": {
      "image/png": "[encoded data removed]",
      "text/plain": [
       "<matplotlib.figure.Figure at 0x238aec0df98>"
      ]
     },
     "metadata": {},
     "output_type": "display_data"
    },
    {
     "data": {
      "image/png": "[encoded data removed]",
      "text/plain": [
       "<matplotlib.figure.Figure at 0x238aece2dd8>"
      ]
     },
     "metadata": {},
     "output_type": "display_data"
    },
    {
     "data": {
      "image/png": "[encoded data removed]",
      "text/plain": [
       "<matplotlib.figure.Figure at 0x238aed8de10>"
      ]
     },
     "metadata": {},
     "output_type": "display_data"
    },
    {
     "data": {
      "image/png": "[encoded data removed]",
      "text/plain": [
       "<matplotlib.figure.Figure at 0x238aed33f98>"
      ]
     },
     "metadata": {},
     "output_type": "display_data"
    },
    {
     "data": {
      "image/png": "[encoded data removed]",
      "text/plain": [
       "<matplotlib.figure.Figure at 0x238aeccf0b8>"
      ]
     },
     "metadata": {},
     "output_type": "display_data"
    },
    {
     "data": {
      "image/png": "[encoded data removed]",
      "text/plain": [
       "<matplotlib.figure.Figure at 0x238afe9f320>"
      ]
     },
     "metadata": {},
     "output_type": "display_data"
    }
   ],
   "source": [
    "for i in wine:\n",
    "    plt.scatter(wine['quality'], wine[i])\n",
    "    plt.title(i)\n",
    "    plt.show()"
   ]
  },
  {
   "cell_type": "code",
   "execution_count": 52,
   "metadata": {},
   "outputs": [
    {
     "data": {
      "text/html": [
       "<div>\n",
       "<style>\n",
       "    .dataframe thead tr:only-child th {\n",
       "        text-align: right;\n",
       "    }\n",
       "\n",
       "    .dataframe thead th {\n",
       "        text-align: left;\n",
       "    }\n",
       "\n",
       "    .dataframe tbody tr th {\n",
       "        vertical-align: top;\n",
       "    }\n",
       "</style>\n",
       "<table border=\"1\" class=\"dataframe\">\n",
       "  <thead>\n",
       "    <tr style=\"text-align: right;\">\n",
       "      <th></th>\n",
       "      <th>fixed acidity</th>\n",
       "      <th>volatile acidity</th>\n",
       "      <th>citric acid</th>\n",
       "      <th>residual sugar</th>\n",
       "      <th>chlorides</th>\n",
       "      <th>free sulfur dioxide</th>\n",
       "      <th>total sulfur dioxide</th>\n",
       "      <th>density</th>\n",
       "      <th>pH</th>\n",
       "      <th>sulphates</th>\n",
       "      <th>alcohol</th>\n",
       "      <th>quality</th>\n",
       "    </tr>\n",
       "  </thead>\n",
       "  <tbody>\n",
       "    <tr>\n",
       "      <th>4380</th>\n",
       "      <td>7.8</td>\n",
       "      <td>0.965</td>\n",
       "      <td>0.6</td>\n",
       "      <td>65.8</td>\n",
       "      <td>0.074</td>\n",
       "      <td>8.0</td>\n",
       "      <td>160.0</td>\n",
       "      <td>1.03898</td>\n",
       "      <td>3.39</td>\n",
       "      <td>0.69</td>\n",
       "      <td>11.7</td>\n",
       "      <td>6</td>\n",
       "    </tr>\n",
       "  </tbody>\n",
       "</table>\n",
       "</div>"
      ],
      "text/plain": [
       "      fixed acidity  volatile acidity  citric acid  residual sugar  chlorides  \\\n",
       "4380            7.8             0.965          0.6            65.8      0.074   \n",
       "\n",
       "      free sulfur dioxide  total sulfur dioxide  density    pH  sulphates  \\\n",
       "4380                  8.0                 160.0  1.03898  3.39       0.69   \n",
       "\n",
       "      alcohol  quality  \n",
       "4380     11.7        6  "
      ]
     },
     "execution_count": 52,
     "metadata": {},
     "output_type": "execute_result"
    }
   ],
   "source": [
    "wine[wine['residual sugar'] == wine['residual sugar'].max()]"
   ]
  },
  {
   "cell_type": "code",
   "execution_count": 53,
   "metadata": {
    "collapsed": true
   },
   "outputs": [],
   "source": [
    "test=wine.copy()\n",
    "test.drop(4380, axis=0, inplace=True)"
   ]
  },
  {
   "cell_type": "code",
   "execution_count": 56,
   "metadata": {},
   "outputs": [
    {
     "data": {
      "text/plain": [
       "fixed acidity             6.20000\n",
       "volatile acidity          0.23500\n",
       "citric acid               0.34000\n",
       "residual sugar            1.90000\n",
       "chlorides                 0.03600\n",
       "free sulfur dioxide       4.00000\n",
       "total sulfur dioxide    117.00000\n",
       "density                   0.99032\n",
       "pH                        3.40000\n",
       "sulphates                 0.44000\n",
       "alcohol                  12.20000\n",
       "quality                   5.00000\n",
       "Name: 4379, dtype: float64"
      ]
     },
     "execution_count": 56,
     "metadata": {},
     "output_type": "execute_result"
    }
   ],
   "source": [
    "test.loc[4379]"
   ]
  },
  {
   "cell_type": "code",
   "execution_count": 59,
   "metadata": {},
   "outputs": [
    {
     "data": {
      "image/png": "[encoded data removed]",
      "text/plain": [
       "<matplotlib.figure.Figure at 0x238aff7bc50>"
      ]
     },
     "metadata": {},
     "output_type": "display_data"
    }
   ],
   "source": [
    "plt.scatter(test['quality'], test['residual sugar'])\n",
    "plt.title(i)\n",
    "plt.show()"
   ]
  },
  {
   "cell_type": "code",
   "execution_count": 60,
   "metadata": {},
   "outputs": [
    {
     "name": "stdout",
     "output_type": "stream",
     "text": [
      "-0.5835087505176475\n"
     ]
    }
   ],
   "source": [
    "model = PLSRegression()\n",
    "score = cross_val_score(model, test.iloc[:,:-1], test.iloc[:,-1], cv=20, scoring='neg_mean_absolute_error')\n",
    "print(score.mean())"
   ]
  },
  {
   "cell_type": "code",
   "execution_count": 96,
   "metadata": {},
   "outputs": [
    {
     "name": "stdout",
     "output_type": "stream",
     "text": [
      "-0.5741196142077896\n"
     ]
    }
   ],
   "source": [
    "score = cross_val_score(model, wine[wine['quality'] != 3].iloc[:,:-1], wine[wine['quality'] != 3].iloc[:,-1], cv=20, scoring='neg_mean_absolute_error')\n",
    "print(score.mean())"
   ]
  },
  {
   "cell_type": "code",
   "execution_count": 87,
   "metadata": {},
   "outputs": [
    {
     "name": "stdout",
     "output_type": "stream",
     "text": [
      "9\n",
      "9\n",
      "9\n",
      "9\n",
      "9\n",
      "9\n",
      "9\n",
      "9\n",
      "9\n",
      "9\n",
      "9\n",
      "9\n",
      "9\n",
      "9\n",
      "9\n",
      "9\n",
      "9\n",
      "9\n",
      "9\n",
      "9\n",
      "9\n",
      "9\n",
      "9\n",
      "9\n",
      "9\n",
      "9\n",
      "9\n",
      "9\n",
      "9\n",
      "9\n",
      "9\n",
      "9\n",
      "9\n",
      "9\n",
      "9\n",
      "9\n",
      "9\n",
      "9\n",
      "9\n",
      "9\n",
      "9\n",
      "9\n",
      "9\n",
      "9\n",
      "9\n",
      "9\n",
      "9\n",
      "9\n",
      "9\n",
      "9\n",
      "9\n",
      "9\n",
      "9\n",
      "9\n",
      "9\n",
      "9\n",
      "9\n",
      "9\n",
      "9\n",
      "9\n",
      "9\n",
      "9\n",
      "9\n",
      "9\n",
      "9\n",
      "9\n",
      "9\n",
      "9\n",
      "9\n",
      "9\n",
      "9\n",
      "9\n",
      "9\n",
      "9\n",
      "9\n",
      "9\n",
      "9\n",
      "9\n",
      "9\n",
      "9\n",
      "9\n",
      "9\n",
      "9\n",
      "9\n",
      "9\n",
      "9\n",
      "9\n",
      "9\n",
      "9\n",
      "9\n",
      "9\n",
      "9\n",
      "9\n",
      "9\n",
      "9\n",
      "9\n",
      "9\n",
      "9\n",
      "9\n",
      "9\n",
      "9\n",
      "9\n",
      "9\n",
      "9\n",
      "9\n",
      "9\n",
      "9\n",
      "9\n",
      "9\n",
      "9\n",
      "9\n",
      "9\n",
      "9\n",
      "9\n",
      "9\n",
      "9\n",
      "9\n",
      "9\n",
      "9\n",
      "9\n",
      "9\n",
      "9\n",
      "9\n",
      "9\n",
      "9\n",
      "9\n",
      "9\n",
      "9\n",
      "9\n",
      "9\n",
      "9\n",
      "9\n",
      "9\n",
      "9\n",
      "9\n",
      "9\n",
      "9\n",
      "9\n",
      "9\n",
      "9\n",
      "9\n",
      "9\n",
      "9\n",
      "9\n",
      "9\n",
      "9\n",
      "9\n",
      "9\n",
      "9\n",
      "9\n",
      "9\n",
      "9\n",
      "9\n",
      "9\n",
      "9\n",
      "9\n",
      "9\n",
      "9\n",
      "9\n",
      "9\n",
      "9\n",
      "9\n",
      "9\n",
      "9\n",
      "9\n",
      "9\n",
      "9\n",
      "9\n",
      "9\n",
      "9\n",
      "9\n",
      "9\n",
      "9\n",
      "9\n",
      "9\n",
      "9\n",
      "9\n",
      "9\n",
      "9\n",
      "9\n",
      "9\n",
      "9\n",
      "9\n",
      "9\n",
      "9\n",
      "9\n",
      "9\n",
      "9\n",
      "9\n",
      "9\n",
      "9\n",
      "9\n",
      "9\n",
      "9\n",
      "9\n",
      "9\n",
      "9\n",
      "9\n",
      "9\n",
      "9\n",
      "9\n",
      "9\n",
      "9\n",
      "9\n",
      "9\n",
      "9\n",
      "9\n",
      "9\n",
      "9\n",
      "9\n",
      "9\n",
      "9\n",
      "9\n",
      "9\n",
      "9\n",
      "9\n",
      "9\n",
      "9\n",
      "9\n",
      "9\n",
      "9\n",
      "9\n",
      "9\n",
      "9\n",
      "9\n",
      "9\n",
      "9\n",
      "9\n",
      "9\n",
      "9\n",
      "9\n",
      "9\n",
      "9\n",
      "9\n",
      "9\n",
      "9\n",
      "9\n",
      "9\n",
      "9\n",
      "9\n",
      "9\n",
      "9\n",
      "9\n",
      "9\n",
      "9\n"
     ]
    }
   ],
   "source": [
    "pred = cross_val_predict(model, wine.iloc[:,:-1], wine.iloc[:,-1], cv=20)\n",
    "for i in pred:\n",
    "    if i < 5 :\n",
    "        print('9')"
   ]
  },
  {
   "cell_type": "code",
   "execution_count": 97,
   "metadata": {},
   "outputs": [
    {
     "data": {
      "text/html": [
       "<div>\n",
       "<style>\n",
       "    .dataframe thead tr:only-child th {\n",
       "        text-align: right;\n",
       "    }\n",
       "\n",
       "    .dataframe thead th {\n",
       "        text-align: left;\n",
       "    }\n",
       "\n",
       "    .dataframe tbody tr th {\n",
       "        vertical-align: top;\n",
       "    }\n",
       "</style>\n",
       "<table border=\"1\" class=\"dataframe\">\n",
       "  <thead>\n",
       "    <tr style=\"text-align: right;\">\n",
       "      <th></th>\n",
       "      <th>fixed acidity</th>\n",
       "      <th>volatile acidity</th>\n",
       "      <th>citric acid</th>\n",
       "      <th>residual sugar</th>\n",
       "      <th>chlorides</th>\n",
       "      <th>free sulfur dioxide</th>\n",
       "      <th>total sulfur dioxide</th>\n",
       "      <th>density</th>\n",
       "      <th>pH</th>\n",
       "      <th>sulphates</th>\n",
       "      <th>alcohol</th>\n",
       "      <th>quality</th>\n",
       "    </tr>\n",
       "  </thead>\n",
       "  <tbody>\n",
       "    <tr>\n",
       "      <th>2373</th>\n",
       "      <td>9.1</td>\n",
       "      <td>0.27</td>\n",
       "      <td>0.45</td>\n",
       "      <td>10.6</td>\n",
       "      <td>0.035</td>\n",
       "      <td>28.0</td>\n",
       "      <td>124.0</td>\n",
       "      <td>0.99700</td>\n",
       "      <td>3.20</td>\n",
       "      <td>0.46</td>\n",
       "      <td>10.4</td>\n",
       "      <td>9</td>\n",
       "    </tr>\n",
       "    <tr>\n",
       "      <th>2419</th>\n",
       "      <td>6.6</td>\n",
       "      <td>0.36</td>\n",
       "      <td>0.29</td>\n",
       "      <td>1.6</td>\n",
       "      <td>0.021</td>\n",
       "      <td>24.0</td>\n",
       "      <td>85.0</td>\n",
       "      <td>0.98965</td>\n",
       "      <td>3.41</td>\n",
       "      <td>0.61</td>\n",
       "      <td>12.4</td>\n",
       "      <td>9</td>\n",
       "    </tr>\n",
       "    <tr>\n",
       "      <th>2426</th>\n",
       "      <td>7.4</td>\n",
       "      <td>0.24</td>\n",
       "      <td>0.36</td>\n",
       "      <td>2.0</td>\n",
       "      <td>0.031</td>\n",
       "      <td>27.0</td>\n",
       "      <td>139.0</td>\n",
       "      <td>0.99055</td>\n",
       "      <td>3.28</td>\n",
       "      <td>0.48</td>\n",
       "      <td>12.5</td>\n",
       "      <td>9</td>\n",
       "    </tr>\n",
       "    <tr>\n",
       "      <th>2475</th>\n",
       "      <td>6.9</td>\n",
       "      <td>0.36</td>\n",
       "      <td>0.34</td>\n",
       "      <td>4.2</td>\n",
       "      <td>0.018</td>\n",
       "      <td>57.0</td>\n",
       "      <td>119.0</td>\n",
       "      <td>0.98980</td>\n",
       "      <td>3.28</td>\n",
       "      <td>0.36</td>\n",
       "      <td>12.7</td>\n",
       "      <td>9</td>\n",
       "    </tr>\n",
       "    <tr>\n",
       "      <th>3204</th>\n",
       "      <td>7.1</td>\n",
       "      <td>0.26</td>\n",
       "      <td>0.49</td>\n",
       "      <td>2.2</td>\n",
       "      <td>0.032</td>\n",
       "      <td>31.0</td>\n",
       "      <td>113.0</td>\n",
       "      <td>0.99030</td>\n",
       "      <td>3.37</td>\n",
       "      <td>0.42</td>\n",
       "      <td>12.9</td>\n",
       "      <td>9</td>\n",
       "    </tr>\n",
       "  </tbody>\n",
       "</table>\n",
       "</div>"
      ],
      "text/plain": [
       "      fixed acidity  volatile acidity  citric acid  residual sugar  chlorides  \\\n",
       "2373            9.1              0.27         0.45            10.6      0.035   \n",
       "2419            6.6              0.36         0.29             1.6      0.021   \n",
       "2426            7.4              0.24         0.36             2.0      0.031   \n",
       "2475            6.9              0.36         0.34             4.2      0.018   \n",
       "3204            7.1              0.26         0.49             2.2      0.032   \n",
       "\n",
       "      free sulfur dioxide  total sulfur dioxide  density    pH  sulphates  \\\n",
       "2373                 28.0                 124.0  0.99700  3.20       0.46   \n",
       "2419                 24.0                  85.0  0.98965  3.41       0.61   \n",
       "2426                 27.0                 139.0  0.99055  3.28       0.48   \n",
       "2475                 57.0                 119.0  0.98980  3.28       0.36   \n",
       "3204                 31.0                 113.0  0.99030  3.37       0.42   \n",
       "\n",
       "      alcohol  quality  \n",
       "2373     10.4        9  \n",
       "2419     12.4        9  \n",
       "2426     12.5        9  \n",
       "2475     12.7        9  \n",
       "3204     12.9        9  "
      ]
     },
     "execution_count": 97,
     "metadata": {},
     "output_type": "execute_result"
    }
   ],
   "source": [
    "wine[wine['quality'] == 9]"
   ]
  },
  {
   "cell_type": "code",
   "execution_count": 102,
   "metadata": {},
   "outputs": [
    {
     "name": "stdout",
     "output_type": "stream",
     "text": [
      "6497\n",
      "6496\n"
     ]
    }
   ],
   "source": [
    "test = wine.copy()\n",
    "print(len(test))\n",
    "test.drop(2373, inplace=True)\n",
    "print(len(test))"
   ]
  },
  {
   "cell_type": "code",
   "execution_count": 258,
   "metadata": {
    "collapsed": true
   },
   "outputs": [],
   "source": [
    "quality3 = wine[wine['quality'] == 3]\n",
    "quality4 = wine[wine['quality'] == 4]\n",
    "quality5 = wine[wine['quality'] == 5]\n",
    "quality6 = wine[wine['quality'] == 6]\n",
    "quality7 = wine[wine['quality'] == 7]\n",
    "quality8 = wine[wine['quality'] == 8]\n",
    "quality9 = test[test['quality'] == 9]"
   ]
  },
  {
   "cell_type": "code",
   "execution_count": 264,
   "metadata": {
    "collapsed": true
   },
   "outputs": [],
   "source": [
    "resampled_wine = []\n",
    "\n",
    "random_wine = np.random.choice(quality3.index, int(len(quality3.index)/2), replace = False)\n",
    "resampled_wine.extend(random_wine)\n",
    "random_wine = np.random.choice(quality4.index, int(len(quality4.index)/2), replace = False)\n",
    "resampled_wine.extend(random_wine)\n",
    "random_wine = np.random.choice(quality5.index, int(len(quality5.index)/2), replace = False)\n",
    "resampled_wine.extend(random_wine)\n",
    "random_wine = np.random.choice(quality6.index, int(len(quality6.index)/2), replace = False)\n",
    "resampled_wine.extend(random_wine)\n",
    "random_wine = np.random.choice(quality7.index, int(len(quality5.index)/2), replace = False)\n",
    "resampled_wine.extend(random_wine)\n",
    "random_wine = np.random.choice(quality8.index, int(len(quality4.index)/2), replace = False)\n",
    "resampled_wine.extend(random_wine)\n",
    "random_wine = np.random.choice(quality9.index, int(len(quality3.index)/2), replace = True)\n",
    "resampled_wine.extend(random_wine)\n",
    "\n",
    "data = test.loc[resampled_wine]"
   ]
  },
  {
   "cell_type": "code",
   "execution_count": 128,
   "metadata": {},
   "outputs": [],
   "source": [
    "resampled_wine = []\n",
    "random_wine = np.random.choice(quality9.index, len(quality3.index), replace = True)\n",
    "resampled_wine.extend(random_wine)\n",
    "random_wine = np.random.choice(quality7.index, len(quality5.index), replace = True)\n",
    "resampled_wine.extend(random_wine)\n",
    "list1 = [quality3.index, quality4.index, quality5.index, quality6.index, quality8.index]\n",
    "for i in list1:\n",
    "    resampled_wine.extend(i)\n",
    "\n",
    "data = wine.loc[resampled_wine]\n",
    "data['quality'].value_counts()"
   ]
  },
  {
   "cell_type": "code",
   "execution_count": 129,
   "metadata": {},
   "outputs": [
    {
     "data": {
      "text/plain": [
       "6    2836\n",
       "7    2138\n",
       "5    2138\n",
       "4     216\n",
       "8     193\n",
       "3      30\n",
       "9      30\n",
       "Name: quality, dtype: int64"
      ]
     },
     "execution_count": 129,
     "metadata": {},
     "output_type": "execute_result"
    }
   ],
   "source": [
    "data['quality'].value_counts()"
   ]
  },
  {
   "cell_type": "code",
   "execution_count": 125,
   "metadata": {},
   "outputs": [
    {
     "data": {
      "image/png": "[encoded data removed]",
      "text/plain": [
       "<matplotlib.figure.Figure at 0x238afef0e10>"
      ]
     },
     "metadata": {},
     "output_type": "display_data"
    }
   ],
   "source": [
    "plt.scatter(data['quality'], data['alcohol'])\n",
    "plt.title(i)\n",
    "plt.show()"
   ]
  },
  {
   "cell_type": "code",
   "execution_count": 130,
   "metadata": {},
   "outputs": [
    {
     "name": "stdout",
     "output_type": "stream",
     "text": [
      "-0.6451158227686823\n"
     ]
    }
   ],
   "source": [
    "model = PLSRegression()\n",
    "score = cross_val_score(model, data.iloc[:,:-1], data.iloc[:,-1], cv=20, scoring='neg_mean_absolute_error')\n",
    "print(score.mean())"
   ]
  },
  {
   "cell_type": "code",
   "execution_count": 127,
   "metadata": {},
   "outputs": [
    {
     "data": {
      "text/plain": [
       "6522"
      ]
     },
     "execution_count": 127,
     "metadata": {},
     "output_type": "execute_result"
    }
   ],
   "source": [
    "len(data)"
   ]
  },
  {
   "cell_type": "code",
   "execution_count": 311,
   "metadata": {},
   "outputs": [
    {
     "name": "stderr",
     "output_type": "stream",
     "text": [
      "C:\\Users\\Vincent\\Anaconda3\\lib\\site-packages\\sklearn\\utils\\validation.py:475: DataConversionWarning: Data with input dtype int64 was converted to float64 by StandardScaler.\n",
      "  warnings.warn(msg, DataConversionWarning)\n"
     ]
    },
    {
     "data": {
      "text/plain": [
       "1    98\n",
       "2     9\n",
       "3     1\n",
       "Name: count, dtype: int64"
      ]
     },
     "execution_count": 311,
     "metadata": {},
     "output_type": "execute_result"
    }
   ],
   "source": [
    "#test_data = wine.iloc[:,:-1].copy()\n",
    "test1 = test.copy()\n",
    "for i in test:\n",
    "    test1[i] = StandardScaler().fit_transform(test1[i].values.reshape(-1,1))\n",
    "\n",
    "test1['quality'] = wine['quality']\n",
    "\n",
    "outliers =[]\n",
    "\n",
    "for i in range(len(test)):\n",
    "    for j in test1.iloc[i,:-1]:\n",
    "        if j > 3 or j < -3:\n",
    "            outliers.append(i)\n",
    "outliers = pd.DataFrame(pd.Series(outliers).value_counts(), columns = ['count'])\n",
    "outliers['count'].value_counts()"
   ]
  },
  {
   "cell_type": "code",
   "execution_count": 312,
   "metadata": {},
   "outputs": [
    {
     "name": "stdout",
     "output_type": "stream",
     "text": [
      "-0.5769604681171666\n"
     ]
    }
   ],
   "source": [
    "#for i in np.array(outliers.index):\n",
    " #   if outliers.loc[i].values < 4:\n",
    "  #      outliers.drop(i, inplace=True)\n",
    "\n",
    "log_data = test1.copy()\n",
    "log_data.drop(outliers.index, inplace = True)\n",
    "score = cross_val_score(model, log_data.iloc[:,:-1], log_data.iloc[:,-1], cv=20, scoring='neg_mean_absolute_error')\n",
    "print(score.mean())"
   ]
  },
  {
   "cell_type": "code",
   "execution_count": 149,
   "metadata": {},
   "outputs": [],
   "source": [
    "log_data.drop(2373, inplace=True)"
   ]
  },
  {
   "cell_type": "code",
   "execution_count": 150,
   "metadata": {},
   "outputs": [],
   "source": [
    "quality3 = log_data[log_data['quality'] == 3]\n",
    "quality4 = log_data[log_data['quality'] == 4]\n",
    "quality5 = log_data[log_data['quality'] == 5]\n",
    "quality6 = log_data[log_data['quality'] == 6]\n",
    "quality7 = log_data[log_data['quality'] == 7]\n",
    "quality8 = log_data[log_data['quality'] == 8]\n",
    "quality9 = log_data[log_data['quality'] == 9]"
   ]
  },
  {
   "cell_type": "code",
   "execution_count": 151,
   "metadata": {},
   "outputs": [
    {
     "data": {
      "text/plain": [
       "6    2829\n",
       "7    2137\n",
       "5    2137\n",
       "4     216\n",
       "8     191\n",
       "3      27\n",
       "9      27\n",
       "Name: quality, dtype: int64"
      ]
     },
     "execution_count": 151,
     "metadata": {},
     "output_type": "execute_result"
    }
   ],
   "source": [
    "resampled_wine = []\n",
    "random_wine = np.random.choice(quality9.index, len(quality3.index), replace = True)\n",
    "resampled_wine.extend(random_wine)\n",
    "random_wine = np.random.choice(quality7.index, len(quality5.index), replace = True)\n",
    "resampled_wine.extend(random_wine)\n",
    "list1 = [quality3.index, quality4.index, quality5.index, quality6.index, quality8.index]\n",
    "for i in list1:\n",
    "    resampled_wine.extend(i)\n",
    "\n",
    "data = log_data.loc[resampled_wine]\n",
    "data['quality'].value_counts()"
   ]
  },
  {
   "cell_type": "code",
   "execution_count": 169,
   "metadata": {},
   "outputs": [
    {
     "name": "stdout",
     "output_type": "stream",
     "text": [
      "-0.6511035373325695\n"
     ]
    }
   ],
   "source": [
    "score = cross_val_score(model, data.iloc[:,:-1], data.iloc[:,-1], cv=20, scoring='neg_mean_absolute_error')\n",
    "print(score.mean())"
   ]
  },
  {
   "cell_type": "code",
   "execution_count": 170,
   "metadata": {},
   "outputs": [],
   "source": [
    "pred = cross_val_predict(model, data.iloc[:,:-1], data.iloc[:,-1], cv=20)"
   ]
  },
  {
   "cell_type": "code",
   "execution_count": 183,
   "metadata": {},
   "outputs": [
    {
     "data": {
      "text/plain": [
       "array([[5.39494355],\n",
       "       [4.9158555 ],\n",
       "       [5.55676407],\n",
       "       [5.8656183 ],\n",
       "       [5.55086272],\n",
       "       [5.37504881],\n",
       "       [5.11447227],\n",
       "       [5.27206174],\n",
       "       [5.40659957],\n",
       "       [5.45252183],\n",
       "       [5.55774145],\n",
       "       [6.52460557],\n",
       "       [4.68967151],\n",
       "       [6.33464906],\n",
       "       [6.67963896],\n",
       "       [5.77684045],\n",
       "       [5.04249313],\n",
       "       [6.36102056],\n",
       "       [5.5754151 ],\n",
       "       [5.32101547],\n",
       "       [5.81627528],\n",
       "       [5.92806726],\n",
       "       [5.95128189],\n",
       "       [5.89292592],\n",
       "       [6.18555479],\n",
       "       [6.09471496]])"
      ]
     },
     "execution_count": 183,
     "metadata": {},
     "output_type": "execute_result"
    }
   ],
   "source": [
    "pred[2164:2190]"
   ]
  },
  {
   "cell_type": "code",
   "execution_count": 182,
   "metadata": {},
   "outputs": [
    {
     "data": {
      "text/html": [
       "<div>\n",
       "<style>\n",
       "    .dataframe thead tr:only-child th {\n",
       "        text-align: right;\n",
       "    }\n",
       "\n",
       "    .dataframe thead th {\n",
       "        text-align: left;\n",
       "    }\n",
       "\n",
       "    .dataframe tbody tr th {\n",
       "        vertical-align: top;\n",
       "    }\n",
       "</style>\n",
       "<table border=\"1\" class=\"dataframe\">\n",
       "  <thead>\n",
       "    <tr style=\"text-align: right;\">\n",
       "      <th></th>\n",
       "      <th>fixed acidity</th>\n",
       "      <th>volatile acidity</th>\n",
       "      <th>citric acid</th>\n",
       "      <th>residual sugar</th>\n",
       "      <th>chlorides</th>\n",
       "      <th>free sulfur dioxide</th>\n",
       "      <th>total sulfur dioxide</th>\n",
       "      <th>density</th>\n",
       "      <th>pH</th>\n",
       "      <th>sulphates</th>\n",
       "      <th>alcohol</th>\n",
       "      <th>quality</th>\n",
       "    </tr>\n",
       "  </thead>\n",
       "  <tbody>\n",
       "    <tr>\n",
       "      <th>2164</th>\n",
       "      <td>2.482902</td>\n",
       "      <td>1.449071</td>\n",
       "      <td>2.188219</td>\n",
       "      <td>-0.597919</td>\n",
       "      <td>1.046165</td>\n",
       "      <td>-1.300511</td>\n",
       "      <td>-1.213807</td>\n",
       "      <td>1.940888</td>\n",
       "      <td>0.256158</td>\n",
       "      <td>0.468566</td>\n",
       "      <td>-1.467194</td>\n",
       "      <td>3</td>\n",
       "    </tr>\n",
       "    <tr>\n",
       "      <th>2165</th>\n",
       "      <td>2.038689</td>\n",
       "      <td>1.539606</td>\n",
       "      <td>1.170680</td>\n",
       "      <td>-0.657809</td>\n",
       "      <td>2.374967</td>\n",
       "      <td>-1.896867</td>\n",
       "      <td>-1.888910</td>\n",
       "      <td>1.529347</td>\n",
       "      <td>-0.312613</td>\n",
       "      <td>0.845717</td>\n",
       "      <td>-2.527575</td>\n",
       "      <td>3</td>\n",
       "    </tr>\n",
       "    <tr>\n",
       "      <th>2166</th>\n",
       "      <td>0.337344</td>\n",
       "      <td>2.370956</td>\n",
       "      <td>-2.411240</td>\n",
       "      <td>0.214193</td>\n",
       "      <td>1.605758</td>\n",
       "      <td>-1.896867</td>\n",
       "      <td>-1.939098</td>\n",
       "      <td>0.662157</td>\n",
       "      <td>2.292974</td>\n",
       "      <td>0.256845</td>\n",
       "      <td>0.342446</td>\n",
       "      <td>3</td>\n",
       "    </tr>\n",
       "    <tr>\n",
       "      <th>2167</th>\n",
       "      <td>2.038689</td>\n",
       "      <td>0.890979</td>\n",
       "      <td>0.724093</td>\n",
       "      <td>-1.096531</td>\n",
       "      <td>2.159608</td>\n",
       "      <td>0.349017</td>\n",
       "      <td>-1.193826</td>\n",
       "      <td>1.201975</td>\n",
       "      <td>1.012971</td>\n",
       "      <td>1.877015</td>\n",
       "      <td>-0.371293</td>\n",
       "      <td>3</td>\n",
       "    </tr>\n",
       "    <tr>\n",
       "      <th>2168</th>\n",
       "      <td>0.976516</td>\n",
       "      <td>2.239988</td>\n",
       "      <td>-2.239625</td>\n",
       "      <td>-0.052387</td>\n",
       "      <td>1.325061</td>\n",
       "      <td>-1.757908</td>\n",
       "      <td>-2.017938</td>\n",
       "      <td>1.384930</td>\n",
       "      <td>1.550048</td>\n",
       "      <td>-0.136162</td>\n",
       "      <td>0.570049</td>\n",
       "      <td>3</td>\n",
       "    </tr>\n",
       "    <tr>\n",
       "      <th>2169</th>\n",
       "      <td>0.493133</td>\n",
       "      <td>2.546946</td>\n",
       "      <td>-2.411240</td>\n",
       "      <td>-0.657809</td>\n",
       "      <td>2.102171</td>\n",
       "      <td>-1.896867</td>\n",
       "      <td>-2.073958</td>\n",
       "      <td>0.058561</td>\n",
       "      <td>1.653241</td>\n",
       "      <td>-0.998636</td>\n",
       "      <td>0.496178</td>\n",
       "      <td>3</td>\n",
       "    </tr>\n",
       "    <tr>\n",
       "      <th>2170</th>\n",
       "      <td>-0.190466</td>\n",
       "      <td>1.984273</td>\n",
       "      <td>-2.411240</td>\n",
       "      <td>-1.389621</td>\n",
       "      <td>2.453083</td>\n",
       "      <td>-0.773578</td>\n",
       "      <td>-1.588942</td>\n",
       "      <td>0.041770</td>\n",
       "      <td>0.672493</td>\n",
       "      <td>0.027486</td>\n",
       "      <td>-0.474412</td>\n",
       "      <td>3</td>\n",
       "    </tr>\n",
       "    <tr>\n",
       "      <th>2171</th>\n",
       "      <td>0.256000</td>\n",
       "      <td>2.199834</td>\n",
       "      <td>-1.987259</td>\n",
       "      <td>-0.657809</td>\n",
       "      <td>0.575123</td>\n",
       "      <td>-0.480698</td>\n",
       "      <td>-1.173917</td>\n",
       "      <td>0.805623</td>\n",
       "      <td>0.614316</td>\n",
       "      <td>0.329290</td>\n",
       "      <td>-0.581366</td>\n",
       "      <td>3</td>\n",
       "    </tr>\n",
       "    <tr>\n",
       "      <th>2172</th>\n",
       "      <td>0.085795</td>\n",
       "      <td>2.073401</td>\n",
       "      <td>-1.987259</td>\n",
       "      <td>0.548835</td>\n",
       "      <td>1.274182</td>\n",
       "      <td>-2.229592</td>\n",
       "      <td>-1.939098</td>\n",
       "      <td>1.128028</td>\n",
       "      <td>1.123321</td>\n",
       "      <td>0.106013</td>\n",
       "      <td>-0.082436</td>\n",
       "      <td>3</td>\n",
       "    </tr>\n",
       "    <tr>\n",
       "      <th>2173</th>\n",
       "      <td>-0.288801</td>\n",
       "      <td>1.888993</td>\n",
       "      <td>-2.239625</td>\n",
       "      <td>-0.857817</td>\n",
       "      <td>1.165305</td>\n",
       "      <td>-1.757908</td>\n",
       "      <td>-1.991088</td>\n",
       "      <td>0.468358</td>\n",
       "      <td>1.905480</td>\n",
       "      <td>0.845717</td>\n",
       "      <td>-0.321087</td>\n",
       "      <td>3</td>\n",
       "    </tr>\n",
       "    <tr>\n",
       "      <th>2174</th>\n",
       "      <td>1.099669</td>\n",
       "      <td>-0.368763</td>\n",
       "      <td>-0.732478</td>\n",
       "      <td>1.578055</td>\n",
       "      <td>1.046165</td>\n",
       "      <td>0.693444</td>\n",
       "      <td>1.379820</td>\n",
       "      <td>1.103281</td>\n",
       "      <td>-1.284223</td>\n",
       "      <td>-0.053213</td>\n",
       "      <td>-0.474412</td>\n",
       "      <td>3</td>\n",
       "    </tr>\n",
       "    <tr>\n",
       "      <th>2175</th>\n",
       "      <td>-1.359462</td>\n",
       "      <td>-0.569263</td>\n",
       "      <td>0.853481</td>\n",
       "      <td>-0.017201</td>\n",
       "      <td>-1.409357</td>\n",
       "      <td>-1.896867</td>\n",
       "      <td>-0.069317</td>\n",
       "      <td>-1.154159</td>\n",
       "      <td>1.805550</td>\n",
       "      <td>-0.685917</td>\n",
       "      <td>1.039632</td>\n",
       "      <td>3</td>\n",
       "    </tr>\n",
       "    <tr>\n",
       "      <th>2176</th>\n",
       "      <td>1.436859</td>\n",
       "      <td>1.480180</td>\n",
       "      <td>0.460812</td>\n",
       "      <td>-1.011851</td>\n",
       "      <td>0.772943</td>\n",
       "      <td>0.349017</td>\n",
       "      <td>1.141869</td>\n",
       "      <td>0.726118</td>\n",
       "      <td>0.133159</td>\n",
       "      <td>-1.223171</td>\n",
       "      <td>-2.321817</td>\n",
       "      <td>3</td>\n",
       "    </tr>\n",
       "    <tr>\n",
       "      <th>2177</th>\n",
       "      <td>0.085795</td>\n",
       "      <td>0.146977</td>\n",
       "      <td>0.054023</td>\n",
       "      <td>1.226350</td>\n",
       "      <td>-0.695015</td>\n",
       "      <td>-0.773578</td>\n",
       "      <td>-0.845065</td>\n",
       "      <td>-0.301917</td>\n",
       "      <td>0.194892</td>\n",
       "      <td>-0.998636</td>\n",
       "      <td>0.913174</td>\n",
       "      <td>3</td>\n",
       "    </tr>\n",
       "    <tr>\n",
       "      <th>2178</th>\n",
       "      <td>-0.095374</td>\n",
       "      <td>0.619102</td>\n",
       "      <td>0.593216</td>\n",
       "      <td>0.306269</td>\n",
       "      <td>-2.079860</td>\n",
       "      <td>-1.896867</td>\n",
       "      <td>-1.816213</td>\n",
       "      <td>-1.081173</td>\n",
       "      <td>0.614316</td>\n",
       "      <td>-1.340638</td>\n",
       "      <td>1.547925</td>\n",
       "      <td>3</td>\n",
       "    </tr>\n",
       "    <tr>\n",
       "      <th>2179</th>\n",
       "      <td>1.997450</td>\n",
       "      <td>-1.414587</td>\n",
       "      <td>1.044853</td>\n",
       "      <td>-1.187169</td>\n",
       "      <td>-0.767141</td>\n",
       "      <td>-1.896867</td>\n",
       "      <td>-1.502579</td>\n",
       "      <td>-0.233172</td>\n",
       "      <td>-2.301138</td>\n",
       "      <td>-2.581434</td>\n",
       "      <td>-0.692447</td>\n",
       "      <td>3</td>\n",
       "    </tr>\n",
       "    <tr>\n",
       "      <th>2180</th>\n",
       "      <td>0.711177</td>\n",
       "      <td>1.622257</td>\n",
       "      <td>0.981418</td>\n",
       "      <td>1.190878</td>\n",
       "      <td>2.436731</td>\n",
       "      <td>0.296780</td>\n",
       "      <td>1.847239</td>\n",
       "      <td>1.195830</td>\n",
       "      <td>-2.469119</td>\n",
       "      <td>1.407367</td>\n",
       "      <td>-1.322783</td>\n",
       "      <td>3</td>\n",
       "    </tr>\n",
       "    <tr>\n",
       "      <th>2181</th>\n",
       "      <td>0.976516</td>\n",
       "      <td>0.222071</td>\n",
       "      <td>0.724093</td>\n",
       "      <td>-1.445389</td>\n",
       "      <td>-1.073161</td>\n",
       "      <td>-0.622727</td>\n",
       "      <td>-0.297315</td>\n",
       "      <td>-1.227510</td>\n",
       "      <td>-0.054906</td>\n",
       "      <td>-1.985794</td>\n",
       "      <td>1.442577</td>\n",
       "      <td>3</td>\n",
       "    </tr>\n",
       "    <tr>\n",
       "      <th>2182</th>\n",
       "      <td>1.159094</td>\n",
       "      <td>1.349717</td>\n",
       "      <td>0.259253</td>\n",
       "      <td>1.542470</td>\n",
       "      <td>0.399741</td>\n",
       "      <td>0.425838</td>\n",
       "      <td>3.909871</td>\n",
       "      <td>1.736900</td>\n",
       "      <td>-1.138220</td>\n",
       "      <td>0.845717</td>\n",
       "      <td>0.570049</td>\n",
       "      <td>3</td>\n",
       "    </tr>\n",
       "    <tr>\n",
       "      <th>2183</th>\n",
       "      <td>0.416350</td>\n",
       "      <td>0.146977</td>\n",
       "      <td>-0.512401</td>\n",
       "      <td>0.306269</td>\n",
       "      <td>0.207478</td>\n",
       "      <td>-1.513561</td>\n",
       "      <td>0.357127</td>\n",
       "      <td>0.403114</td>\n",
       "      <td>-0.444581</td>\n",
       "      <td>-0.053213</td>\n",
       "      <td>-1.322783</td>\n",
       "      <td>3</td>\n",
       "    </tr>\n",
       "    <tr>\n",
       "      <th>2184</th>\n",
       "      <td>-0.288801</td>\n",
       "      <td>-0.467023</td>\n",
       "      <td>-0.368073</td>\n",
       "      <td>-1.053491</td>\n",
       "      <td>-0.488487</td>\n",
       "      <td>3.319179</td>\n",
       "      <td>1.677080</td>\n",
       "      <td>0.105464</td>\n",
       "      <td>1.905480</td>\n",
       "      <td>0.845717</td>\n",
       "      <td>-0.928338</td>\n",
       "      <td>3</td>\n",
       "    </tr>\n",
       "    <tr>\n",
       "      <th>2185</th>\n",
       "      <td>2.549052</td>\n",
       "      <td>-0.675682</td>\n",
       "      <td>0.460812</td>\n",
       "      <td>1.234968</td>\n",
       "      <td>-0.993942</td>\n",
       "      <td>-0.852841</td>\n",
       "      <td>0.171259</td>\n",
       "      <td>1.618739</td>\n",
       "      <td>-1.974895</td>\n",
       "      <td>0.329290</td>\n",
       "      <td>-0.581366</td>\n",
       "      <td>3</td>\n",
       "    </tr>\n",
       "    <tr>\n",
       "      <th>2186</th>\n",
       "      <td>0.493133</td>\n",
       "      <td>1.077316</td>\n",
       "      <td>0.394025</td>\n",
       "      <td>-1.389621</td>\n",
       "      <td>-0.993942</td>\n",
       "      <td>-1.896867</td>\n",
       "      <td>-1.017060</td>\n",
       "      <td>-0.700374</td>\n",
       "      <td>-1.066172</td>\n",
       "      <td>0.256845</td>\n",
       "      <td>0.095148</td>\n",
       "      <td>3</td>\n",
       "    </tr>\n",
       "    <tr>\n",
       "      <th>2187</th>\n",
       "      <td>-0.959387</td>\n",
       "      <td>-1.022165</td>\n",
       "      <td>0.191258</td>\n",
       "      <td>1.084072</td>\n",
       "      <td>-0.488487</td>\n",
       "      <td>0.550069</td>\n",
       "      <td>1.442771</td>\n",
       "      <td>0.138866</td>\n",
       "      <td>-0.444581</td>\n",
       "      <td>-0.587630</td>\n",
       "      <td>-0.175530</td>\n",
       "      <td>3</td>\n",
       "    </tr>\n",
       "    <tr>\n",
       "      <th>2188</th>\n",
       "      <td>1.589711</td>\n",
       "      <td>-0.569263</td>\n",
       "      <td>-0.155032</td>\n",
       "      <td>0.972752</td>\n",
       "      <td>-0.767141</td>\n",
       "      <td>3.462466</td>\n",
       "      <td>1.552454</td>\n",
       "      <td>-0.216039</td>\n",
       "      <td>-2.218385</td>\n",
       "      <td>-1.223171</td>\n",
       "      <td>0.570049</td>\n",
       "      <td>3</td>\n",
       "    </tr>\n",
       "    <tr>\n",
       "      <th>2189</th>\n",
       "      <td>-0.836729</td>\n",
       "      <td>-0.675682</td>\n",
       "      <td>0.259253</td>\n",
       "      <td>-2.081767</td>\n",
       "      <td>0.104493</td>\n",
       "      <td>-0.218092</td>\n",
       "      <td>-0.034652</td>\n",
       "      <td>-1.044817</td>\n",
       "      <td>0.957219</td>\n",
       "      <td>-0.685917</td>\n",
       "      <td>0.570049</td>\n",
       "      <td>3</td>\n",
       "    </tr>\n",
       "    <tr>\n",
       "      <th>2190</th>\n",
       "      <td>-0.190466</td>\n",
       "      <td>-0.368763</td>\n",
       "      <td>0.191258</td>\n",
       "      <td>1.516719</td>\n",
       "      <td>0.532773</td>\n",
       "      <td>0.739968</td>\n",
       "      <td>0.819572</td>\n",
       "      <td>0.805623</td>\n",
       "      <td>0.194892</td>\n",
       "      <td>0.106013</td>\n",
       "      <td>0.179977</td>\n",
       "      <td>3</td>\n",
       "    </tr>\n",
       "  </tbody>\n",
       "</table>\n",
       "</div>"
      ],
      "text/plain": [
       "      fixed acidity  volatile acidity  citric acid  residual sugar  chlorides  \\\n",
       "2164       2.482902          1.449071     2.188219       -0.597919   1.046165   \n",
       "2165       2.038689          1.539606     1.170680       -0.657809   2.374967   \n",
       "2166       0.337344          2.370956    -2.411240        0.214193   1.605758   \n",
       "2167       2.038689          0.890979     0.724093       -1.096531   2.159608   \n",
       "2168       0.976516          2.239988    -2.239625       -0.052387   1.325061   \n",
       "2169       0.493133          2.546946    -2.411240       -0.657809   2.102171   \n",
       "2170      -0.190466          1.984273    -2.411240       -1.389621   2.453083   \n",
       "2171       0.256000          2.199834    -1.987259       -0.657809   0.575123   \n",
       "2172       0.085795          2.073401    -1.987259        0.548835   1.274182   \n",
       "2173      -0.288801          1.888993    -2.239625       -0.857817   1.165305   \n",
       "2174       1.099669         -0.368763    -0.732478        1.578055   1.046165   \n",
       "2175      -1.359462         -0.569263     0.853481       -0.017201  -1.409357   \n",
       "2176       1.436859          1.480180     0.460812       -1.011851   0.772943   \n",
       "2177       0.085795          0.146977     0.054023        1.226350  -0.695015   \n",
       "2178      -0.095374          0.619102     0.593216        0.306269  -2.079860   \n",
       "2179       1.997450         -1.414587     1.044853       -1.187169  -0.767141   \n",
       "2180       0.711177          1.622257     0.981418        1.190878   2.436731   \n",
       "2181       0.976516          0.222071     0.724093       -1.445389  -1.073161   \n",
       "2182       1.159094          1.349717     0.259253        1.542470   0.399741   \n",
       "2183       0.416350          0.146977    -0.512401        0.306269   0.207478   \n",
       "2184      -0.288801         -0.467023    -0.368073       -1.053491  -0.488487   \n",
       "2185       2.549052         -0.675682     0.460812        1.234968  -0.993942   \n",
       "2186       0.493133          1.077316     0.394025       -1.389621  -0.993942   \n",
       "2187      -0.959387         -1.022165     0.191258        1.084072  -0.488487   \n",
       "2188       1.589711         -0.569263    -0.155032        0.972752  -0.767141   \n",
       "2189      -0.836729         -0.675682     0.259253       -2.081767   0.104493   \n",
       "2190      -0.190466         -0.368763     0.191258        1.516719   0.532773   \n",
       "\n",
       "      free sulfur dioxide  total sulfur dioxide   density        pH  \\\n",
       "2164            -1.300511             -1.213807  1.940888  0.256158   \n",
       "2165            -1.896867             -1.888910  1.529347 -0.312613   \n",
       "2166            -1.896867             -1.939098  0.662157  2.292974   \n",
       "2167             0.349017             -1.193826  1.201975  1.012971   \n",
       "2168            -1.757908             -2.017938  1.384930  1.550048   \n",
       "2169            -1.896867             -2.073958  0.058561  1.653241   \n",
       "2170            -0.773578             -1.588942  0.041770  0.672493   \n",
       "2171            -0.480698             -1.173917  0.805623  0.614316   \n",
       "2172            -2.229592             -1.939098  1.128028  1.123321   \n",
       "2173            -1.757908             -1.991088  0.468358  1.905480   \n",
       "2174             0.693444              1.379820  1.103281 -1.284223   \n",
       "2175            -1.896867             -0.069317 -1.154159  1.805550   \n",
       "2176             0.349017              1.141869  0.726118  0.133159   \n",
       "2177            -0.773578             -0.845065 -0.301917  0.194892   \n",
       "2178            -1.896867             -1.816213 -1.081173  0.614316   \n",
       "2179            -1.896867             -1.502579 -0.233172 -2.301138   \n",
       "2180             0.296780              1.847239  1.195830 -2.469119   \n",
       "2181            -0.622727             -0.297315 -1.227510 -0.054906   \n",
       "2182             0.425838              3.909871  1.736900 -1.138220   \n",
       "2183            -1.513561              0.357127  0.403114 -0.444581   \n",
       "2184             3.319179              1.677080  0.105464  1.905480   \n",
       "2185            -0.852841              0.171259  1.618739 -1.974895   \n",
       "2186            -1.896867             -1.017060 -0.700374 -1.066172   \n",
       "2187             0.550069              1.442771  0.138866 -0.444581   \n",
       "2188             3.462466              1.552454 -0.216039 -2.218385   \n",
       "2189            -0.218092             -0.034652 -1.044817  0.957219   \n",
       "2190             0.739968              0.819572  0.805623  0.194892   \n",
       "\n",
       "      sulphates   alcohol  quality  \n",
       "2164   0.468566 -1.467194        3  \n",
       "2165   0.845717 -2.527575        3  \n",
       "2166   0.256845  0.342446        3  \n",
       "2167   1.877015 -0.371293        3  \n",
       "2168  -0.136162  0.570049        3  \n",
       "2169  -0.998636  0.496178        3  \n",
       "2170   0.027486 -0.474412        3  \n",
       "2171   0.329290 -0.581366        3  \n",
       "2172   0.106013 -0.082436        3  \n",
       "2173   0.845717 -0.321087        3  \n",
       "2174  -0.053213 -0.474412        3  \n",
       "2175  -0.685917  1.039632        3  \n",
       "2176  -1.223171 -2.321817        3  \n",
       "2177  -0.998636  0.913174        3  \n",
       "2178  -1.340638  1.547925        3  \n",
       "2179  -2.581434 -0.692447        3  \n",
       "2180   1.407367 -1.322783        3  \n",
       "2181  -1.985794  1.442577        3  \n",
       "2182   0.845717  0.570049        3  \n",
       "2183  -0.053213 -1.322783        3  \n",
       "2184   0.845717 -0.928338        3  \n",
       "2185   0.329290 -0.581366        3  \n",
       "2186   0.256845  0.095148        3  \n",
       "2187  -0.587630 -0.175530        3  \n",
       "2188  -1.223171  0.570049        3  \n",
       "2189  -0.685917  0.570049        3  \n",
       "2190   0.106013  0.179977        3  "
      ]
     },
     "execution_count": 182,
     "metadata": {},
     "output_type": "execute_result"
    }
   ],
   "source": [
    "#data.loc[3204]\n",
    "data[data['quality']==3]"
   ]
  },
  {
   "cell_type": "code",
   "execution_count": 168,
   "metadata": {
    "collapsed": true
   },
   "outputs": [],
   "source": [
    "data.set_index(np.array(range(len(data))), inplace = True)"
   ]
  },
  {
   "cell_type": "code",
   "execution_count": 32,
   "metadata": {},
   "outputs": [
    {
     "data": {
      "text/html": [
       "<div>\n",
       "<style>\n",
       "    .dataframe thead tr:only-child th {\n",
       "        text-align: right;\n",
       "    }\n",
       "\n",
       "    .dataframe thead th {\n",
       "        text-align: left;\n",
       "    }\n",
       "\n",
       "    .dataframe tbody tr th {\n",
       "        vertical-align: top;\n",
       "    }\n",
       "</style>\n",
       "<table border=\"1\" class=\"dataframe\">\n",
       "  <thead>\n",
       "    <tr style=\"text-align: right;\">\n",
       "      <th></th>\n",
       "      <th>volatile acidity</th>\n",
       "      <th>citric acid</th>\n",
       "      <th>residual sugar</th>\n",
       "      <th>chlorides</th>\n",
       "      <th>sulfur ratio</th>\n",
       "      <th>pH</th>\n",
       "      <th>sulphates</th>\n",
       "      <th>alcohol</th>\n",
       "      <th>acid</th>\n",
       "      <th>quality</th>\n",
       "    </tr>\n",
       "  </thead>\n",
       "  <tbody>\n",
       "    <tr>\n",
       "      <th>0</th>\n",
       "      <td>0.70</td>\n",
       "      <td>0.00</td>\n",
       "      <td>1.9</td>\n",
       "      <td>0.076</td>\n",
       "      <td>0.323529</td>\n",
       "      <td>3.51</td>\n",
       "      <td>0.56</td>\n",
       "      <td>9.4</td>\n",
       "      <td>2</td>\n",
       "      <td>5</td>\n",
       "    </tr>\n",
       "    <tr>\n",
       "      <th>1</th>\n",
       "      <td>0.88</td>\n",
       "      <td>0.00</td>\n",
       "      <td>2.6</td>\n",
       "      <td>0.098</td>\n",
       "      <td>0.373134</td>\n",
       "      <td>3.20</td>\n",
       "      <td>0.68</td>\n",
       "      <td>9.8</td>\n",
       "      <td>3</td>\n",
       "      <td>5</td>\n",
       "    </tr>\n",
       "    <tr>\n",
       "      <th>2</th>\n",
       "      <td>0.76</td>\n",
       "      <td>0.04</td>\n",
       "      <td>2.3</td>\n",
       "      <td>0.092</td>\n",
       "      <td>0.277778</td>\n",
       "      <td>3.26</td>\n",
       "      <td>0.65</td>\n",
       "      <td>9.8</td>\n",
       "      <td>3</td>\n",
       "      <td>5</td>\n",
       "    </tr>\n",
       "    <tr>\n",
       "      <th>3</th>\n",
       "      <td>0.28</td>\n",
       "      <td>0.56</td>\n",
       "      <td>1.9</td>\n",
       "      <td>0.075</td>\n",
       "      <td>0.283333</td>\n",
       "      <td>3.16</td>\n",
       "      <td>0.58</td>\n",
       "      <td>9.8</td>\n",
       "      <td>3</td>\n",
       "      <td>6</td>\n",
       "    </tr>\n",
       "    <tr>\n",
       "      <th>4</th>\n",
       "      <td>0.70</td>\n",
       "      <td>0.00</td>\n",
       "      <td>1.9</td>\n",
       "      <td>0.076</td>\n",
       "      <td>0.323529</td>\n",
       "      <td>3.51</td>\n",
       "      <td>0.56</td>\n",
       "      <td>9.4</td>\n",
       "      <td>2</td>\n",
       "      <td>5</td>\n",
       "    </tr>\n",
       "  </tbody>\n",
       "</table>\n",
       "</div>"
      ],
      "text/plain": [
       "   volatile acidity  citric acid  residual sugar  chlorides  sulfur ratio  \\\n",
       "0              0.70         0.00             1.9      0.076      0.323529   \n",
       "1              0.88         0.00             2.6      0.098      0.373134   \n",
       "2              0.76         0.04             2.3      0.092      0.277778   \n",
       "3              0.28         0.56             1.9      0.075      0.283333   \n",
       "4              0.70         0.00             1.9      0.076      0.323529   \n",
       "\n",
       "     pH  sulphates  alcohol acid  quality  \n",
       "0  3.51       0.56      9.4    2        5  \n",
       "1  3.20       0.68      9.8    3        5  \n",
       "2  3.26       0.65      9.8    3        5  \n",
       "3  3.16       0.58      9.8    3        6  \n",
       "4  3.51       0.56      9.4    2        5  "
      ]
     },
     "execution_count": 32,
     "metadata": {},
     "output_type": "execute_result"
    }
   ],
   "source": [
    "test.head()"
   ]
  },
  {
   "cell_type": "code",
   "execution_count": 33,
   "metadata": {},
   "outputs": [
    {
     "data": {
      "image/png": "[encoded data removed]",
      "text/plain": [
       "<matplotlib.figure.Figure at 0x16b8b2de668>"
      ]
     },
     "metadata": {},
     "output_type": "display_data"
    }
   ],
   "source": [
    "corrmat = test.corr()\n",
    "f, ax = plt.subplots(figsize=(12, 9))\n",
    "sns.heatmap(corrmat, vmax=.8, square=True,annot=True);"
   ]
  },
  {
   "cell_type": "code",
   "execution_count": 186,
   "metadata": {},
   "outputs": [
    {
     "name": "stdout",
     "output_type": "stream",
     "text": [
      "fixed acidity -0.5775760337115823\n",
      "volatile acidity -0.5937233496841815\n",
      "citric acid -0.5773718340320466\n",
      "residual sugar -0.5921253015401325\n",
      "chlorides -0.5794080270187946\n",
      "free sulfur dioxide -0.5826535316167205\n",
      "total sulfur dioxide -0.5849300022617491\n",
      "density -0.5829157648194085\n",
      "pH -0.5820726172036839\n",
      "sulphates -0.5863038949542043\n",
      "alcohol -0.6167871156380413\n"
     ]
    }
   ],
   "source": [
    "for i in test:\n",
    "    if i == 'quality':\n",
    "        pass\n",
    "    else:\n",
    "        stuff = test.drop(i, axis=1)\n",
    "        model = PLSRegression(n_components=2)\n",
    "        score = cross_val_score(model, stuff.iloc[:,:-1], stuff.iloc[:,-1], cv=20, scoring='neg_mean_absolute_error')\n",
    "        print(i,score.mean())"
   ]
  },
  {
   "cell_type": "code",
   "execution_count": 216,
   "metadata": {},
   "outputs": [
    {
     "name": "stdout",
     "output_type": "stream",
     "text": [
      "-0.5736246388876101\n"
     ]
    }
   ],
   "source": [
    "#test.drop(['citric acid', 'chlorides'], axis=1, inplace=True)\n",
    "model = PLSRegression()\n",
    "score = cross_val_score(model, test.iloc[:,:-1], test.iloc[:,-1], cv=20, scoring='neg_mean_absolute_error')\n",
    "print(score.mean())"
   ]
  },
  {
   "cell_type": "code",
   "execution_count": 395,
   "metadata": {
    "collapsed": true
   },
   "outputs": [],
   "source": [
    "test.insert(5, 'sulfur ratio', wine['free sulfur dioxide'] / wine['total sulfur dioxide'])\n",
    "test.drop(['free sulfur dioxide', 'total sulfur dioxide'], axis=1, inplace=True)"
   ]
  },
  {
   "cell_type": "code",
   "execution_count": 202,
   "metadata": {},
   "outputs": [],
   "source": [
    "test1 = np.log1p(test)\n",
    "test1['quality'] = test['quality']"
   ]
  },
  {
   "cell_type": "code",
   "execution_count": 210,
   "metadata": {},
   "outputs": [],
   "source": [
    "test = wine.copy()"
   ]
  },
  {
   "cell_type": "code",
   "execution_count": 385,
   "metadata": {
    "collapsed": true
   },
   "outputs": [],
   "source": [
    "test.drop(['citric acid', 'chlorides'], axis=1, inplace=True)\n",
    "#test.insert(5, 'sulfur ratio', test['free sulfur dioxide'] / test['total sulfur dioxide'])\n",
    "#test.drop(['free sulfur dioxide', 'total sulfur dioxide'], axis=1, inplace=True)"
   ]
  },
  {
   "cell_type": "code",
   "execution_count": 217,
   "metadata": {},
   "outputs": [
    {
     "data": {
      "text/html": [
       "<div>\n",
       "<style>\n",
       "    .dataframe thead tr:only-child th {\n",
       "        text-align: right;\n",
       "    }\n",
       "\n",
       "    .dataframe thead th {\n",
       "        text-align: left;\n",
       "    }\n",
       "\n",
       "    .dataframe tbody tr th {\n",
       "        vertical-align: top;\n",
       "    }\n",
       "</style>\n",
       "<table border=\"1\" class=\"dataframe\">\n",
       "  <thead>\n",
       "    <tr style=\"text-align: right;\">\n",
       "      <th></th>\n",
       "      <th>fixed acidity</th>\n",
       "      <th>volatile acidity</th>\n",
       "      <th>residual sugar</th>\n",
       "      <th>sulfur ratio</th>\n",
       "      <th>density</th>\n",
       "      <th>pH</th>\n",
       "      <th>sulphates</th>\n",
       "      <th>alcohol</th>\n",
       "      <th>quality</th>\n",
       "    </tr>\n",
       "  </thead>\n",
       "  <tbody>\n",
       "    <tr>\n",
       "      <th>0</th>\n",
       "      <td>1.189512</td>\n",
       "      <td>0.227025</td>\n",
       "      <td>0.739740</td>\n",
       "      <td>0.203762</td>\n",
       "      <td>0.009381</td>\n",
       "      <td>0.557029</td>\n",
       "      <td>0.207029</td>\n",
       "      <td>0.867158</td>\n",
       "      <td>5</td>\n",
       "    </tr>\n",
       "    <tr>\n",
       "      <th>1</th>\n",
       "      <td>1.238344</td>\n",
       "      <td>0.242091</td>\n",
       "      <td>0.940452</td>\n",
       "      <td>0.224891</td>\n",
       "      <td>0.008606</td>\n",
       "      <td>0.380512</td>\n",
       "      <td>0.243922</td>\n",
       "      <td>1.018138</td>\n",
       "      <td>5</td>\n",
       "    </tr>\n",
       "    <tr>\n",
       "      <th>2</th>\n",
       "      <td>1.238344</td>\n",
       "      <td>0.232891</td>\n",
       "      <td>0.862713</td>\n",
       "      <td>0.181988</td>\n",
       "      <td>0.008762</td>\n",
       "      <td>0.417824</td>\n",
       "      <td>0.235709</td>\n",
       "      <td>1.018138</td>\n",
       "      <td>5</td>\n",
       "    </tr>\n",
       "    <tr>\n",
       "      <th>3</th>\n",
       "      <td>1.512852</td>\n",
       "      <td>0.133183</td>\n",
       "      <td>0.739740</td>\n",
       "      <td>0.184761</td>\n",
       "      <td>0.009534</td>\n",
       "      <td>0.354655</td>\n",
       "      <td>0.213985</td>\n",
       "      <td>1.018138</td>\n",
       "      <td>6</td>\n",
       "    </tr>\n",
       "    <tr>\n",
       "      <th>4</th>\n",
       "      <td>1.189512</td>\n",
       "      <td>0.227025</td>\n",
       "      <td>0.739740</td>\n",
       "      <td>0.203762</td>\n",
       "      <td>0.009381</td>\n",
       "      <td>0.557029</td>\n",
       "      <td>0.207029</td>\n",
       "      <td>0.867158</td>\n",
       "      <td>5</td>\n",
       "    </tr>\n",
       "  </tbody>\n",
       "</table>\n",
       "</div>"
      ],
      "text/plain": [
       "   fixed acidity  volatile acidity  residual sugar  sulfur ratio   density  \\\n",
       "0       1.189512          0.227025        0.739740      0.203762  0.009381   \n",
       "1       1.238344          0.242091        0.940452      0.224891  0.008606   \n",
       "2       1.238344          0.232891        0.862713      0.181988  0.008762   \n",
       "3       1.512852          0.133183        0.739740      0.184761  0.009534   \n",
       "4       1.189512          0.227025        0.739740      0.203762  0.009381   \n",
       "\n",
       "         pH  sulphates   alcohol  quality  \n",
       "0  0.557029   0.207029  0.867158        5  \n",
       "1  0.380512   0.243922  1.018138        5  \n",
       "2  0.417824   0.235709  1.018138        5  \n",
       "3  0.354655   0.213985  1.018138        6  \n",
       "4  0.557029   0.207029  0.867158        5  "
      ]
     },
     "execution_count": 217,
     "metadata": {},
     "output_type": "execute_result"
    }
   ],
   "source": [
    "test.head()"
   ]
  },
  {
   "cell_type": "code",
   "execution_count": 248,
   "metadata": {},
   "outputs": [],
   "source": [
    "i=0\n",
    "for x in pred:\n",
    "    if x >= 6 and x <7:\n",
    "        i+=1"
   ]
  },
  {
   "cell_type": "code",
   "execution_count": 249,
   "metadata": {},
   "outputs": [
    {
     "data": {
      "text/plain": [
       "2402"
      ]
     },
     "execution_count": 249,
     "metadata": {},
     "output_type": "execute_result"
    }
   ],
   "source": [
    "i"
   ]
  },
  {
   "cell_type": "code",
   "execution_count": 250,
   "metadata": {},
   "outputs": [
    {
     "data": {
      "text/plain": [
       "0.36970909650607975"
      ]
     },
     "execution_count": 250,
     "metadata": {},
     "output_type": "execute_result"
    }
   ],
   "source": [
    "i/len(test)"
   ]
  },
  {
   "cell_type": "code",
   "execution_count": 251,
   "metadata": {},
   "outputs": [
    {
     "data": {
      "text/plain": [
       "0.43650915807295676"
      ]
     },
     "execution_count": 251,
     "metadata": {},
     "output_type": "execute_result"
    }
   ],
   "source": [
    "len(wine[wine['quality'] == 6]) / len(wine)"
   ]
  },
  {
   "cell_type": "code",
   "execution_count": 227,
   "metadata": {
    "collapsed": true
   },
   "outputs": [],
   "source": [
    "pred = cross_val_predict(model, test.iloc[:,:-1], test.iloc[:,-1], cv=20)\n"
   ]
  },
  {
   "cell_type": "code",
   "execution_count": 252,
   "metadata": {},
   "outputs": [
    {
     "data": {
      "text/plain": [
       "(array([   5.,   34.,  326.,  770., 1280., 1339., 1371.,  983.,  345.,\n",
       "          44.]),\n",
       " array([4.1723407 , 4.46610746, 4.75987422, 5.05364099, 5.34740775,\n",
       "        5.64117451, 5.93494128, 6.22870804, 6.52247481, 6.81624157,\n",
       "        7.11000833]),\n",
       " <a list of 10 Patch objects>)"
      ]
     },
     "execution_count": 252,
     "metadata": {},
     "output_type": "execute_result"
    },
    {
     "data": {
      "image/png": "[encoded data removed]",
      "text/plain": [
       "<matplotlib.figure.Figure at 0x238b2f59550>"
      ]
     },
     "metadata": {},
     "output_type": "display_data"
    }
   ],
   "source": [
    "plt.hist(pred)"
   ]
  },
  {
   "cell_type": "code",
   "execution_count": 253,
   "metadata": {},
   "outputs": [
    {
     "data": {
      "text/plain": [
       "6    2836\n",
       "5    2138\n",
       "7    1079\n",
       "4     216\n",
       "8     193\n",
       "3      30\n",
       "9       5\n",
       "Name: quality, dtype: int64"
      ]
     },
     "execution_count": 253,
     "metadata": {},
     "output_type": "execute_result"
    }
   ],
   "source": [
    "wine['quality'].value_counts()"
   ]
  },
  {
   "cell_type": "code",
   "execution_count": 254,
   "metadata": {},
   "outputs": [
    {
     "data": {
      "text/plain": [
       "0.005387101739264276"
      ]
     },
     "execution_count": 254,
     "metadata": {},
     "output_type": "execute_result"
    }
   ],
   "source": [
    "35/len(wine)"
   ]
  },
  {
   "cell_type": "code",
   "execution_count": 255,
   "metadata": {},
   "outputs": [
    {
     "data": {
      "text/plain": [
       "0.06295213175311683"
      ]
     },
     "execution_count": 255,
     "metadata": {},
     "output_type": "execute_result"
    }
   ],
   "source": [
    "409/len(wine)"
   ]
  },
  {
   "cell_type": "code",
   "execution_count": 256,
   "metadata": {},
   "outputs": [
    {
     "data": {
      "text/plain": [
       "0.43650915807295676"
      ]
     },
     "execution_count": 256,
     "metadata": {},
     "output_type": "execute_result"
    }
   ],
   "source": [
    "2836/len(wine)"
   ]
  },
  {
   "cell_type": "code",
   "execution_count": 257,
   "metadata": {},
   "outputs": [
    {
     "data": {
      "text/plain": [
       "0.49515160843466216"
      ]
     },
     "execution_count": 257,
     "metadata": {},
     "output_type": "execute_result"
    }
   ],
   "source": [
    "3217/len(wine)"
   ]
  },
  {
   "cell_type": "code",
   "execution_count": 289,
   "metadata": {},
   "outputs": [],
   "source": [
    "resampled_wine = []\n",
    "\n",
    "random_wine = np.random.choice(quality3.index, 346, replace = True)\n",
    "resampled_wine.extend(random_wine)\n",
    "random_wine = np.random.choice(quality4.index, 639, replace = True)\n",
    "resampled_wine.extend(random_wine)\n",
    "random_wine = np.random.choice(quality5.index, 1472, replace = False)\n",
    "resampled_wine.extend(random_wine)\n",
    "random_wine = np.random.choice(quality6.index, 1472, replace = False)\n",
    "resampled_wine.extend(random_wine)\n",
    "random_wine = np.random.choice(quality7.index, 1472, replace = True)\n",
    "resampled_wine.extend(random_wine)\n",
    "random_wine = np.random.choice(quality8.index, 639, replace = True)\n",
    "resampled_wine.extend(random_wine)\n",
    "random_wine = np.random.choice(quality9.index, 346, replace = True)\n",
    "resampled_wine.extend(random_wine)\n",
    "\n",
    "data = test.loc[resampled_wine]"
   ]
  },
  {
   "cell_type": "code",
   "execution_count": 290,
   "metadata": {},
   "outputs": [
    {
     "data": {
      "text/plain": [
       "7    1472\n",
       "6    1472\n",
       "5    1472\n",
       "8     639\n",
       "4     639\n",
       "3     346\n",
       "9     346\n",
       "Name: quality, dtype: int64"
      ]
     },
     "execution_count": 290,
     "metadata": {},
     "output_type": "execute_result"
    }
   ],
   "source": [
    "data['quality'].value_counts()"
   ]
  },
  {
   "cell_type": "code",
   "execution_count": 386,
   "metadata": {},
   "outputs": [
    {
     "name": "stdout",
     "output_type": "stream",
     "text": [
      "-0.5744679751488145\n"
     ]
    }
   ],
   "source": [
    "model = PLSRegression()\n",
    "score = cross_val_score(model, test.iloc[:,:-1], test.iloc[:,-1], cv=20, scoring='neg_mean_absolute_error')\n",
    "print(score.mean())"
   ]
  },
  {
   "cell_type": "code",
   "execution_count": 101,
   "metadata": {},
   "outputs": [
    {
     "name": "stdout",
     "output_type": "stream",
     "text": [
      "-0.5738376216684636\n"
     ]
    }
   ],
   "source": [
    "test = wine.copy()\n",
    "from scipy import stats\n",
    "test.insert(5, 'sulfur ratio', wine['free sulfur dioxide'] / wine['total sulfur dioxide'])\n",
    "test.drop(['free sulfur dioxide', 'total sulfur dioxide'], axis=1, inplace=True)\n",
    "#test.insert(5, 'sugar*density', wine['residual sugar'] * wine['density'])\n",
    "#test.drop(['residual sugar', 'density'], axis=1, inplace=True)\n",
    "for i in test:\n",
    "    x,_ = stats.boxcox(test[i] - test[i].min() + 1)\n",
    "    test[i] = x\n",
    "model = PLSRegression()\n",
    "test['quality'] = wine['quality']\n",
    "\n",
    "skew5 = test.skew()\n",
    "score = cross_val_score(model, test.iloc[:,:-1], test.iloc[:,-1], cv=20, scoring='neg_mean_absolute_error')\n",
    "print(score.mean())"
   ]
  },
  {
   "cell_type": "code",
   "execution_count": 369,
   "metadata": {},
   "outputs": [
    {
     "name": "stdout",
     "output_type": "stream",
     "text": [
      "-0.5829893386462903\n"
     ]
    }
   ],
   "source": [
    "test = np.log1p(wine.iloc[:,:-1])\n",
    "test['quality'] = wine['quality']\n",
    "score = cross_val_score(model, test.iloc[:,:-1], test.iloc[:,-1], cv=20, scoring='neg_mean_absolute_error')\n",
    "print(score.mean())"
   ]
  },
  {
   "cell_type": "code",
   "execution_count": 422,
   "metadata": {},
   "outputs": [],
   "source": [
    "test.to_csv('winedata', encoding='utf-8', index=False)"
   ]
  },
  {
   "cell_type": "code",
   "execution_count": 421,
   "metadata": {},
   "outputs": [],
   "source": [
    "test.drop(['density'], axis=1, inplace=True)"
   ]
  },
  {
   "cell_type": "code",
   "execution_count": 102,
   "metadata": {},
   "outputs": [
    {
     "data": {
      "text/html": [
       "<div>\n",
       "<style>\n",
       "    .dataframe thead tr:only-child th {\n",
       "        text-align: right;\n",
       "    }\n",
       "\n",
       "    .dataframe thead th {\n",
       "        text-align: left;\n",
       "    }\n",
       "\n",
       "    .dataframe tbody tr th {\n",
       "        vertical-align: top;\n",
       "    }\n",
       "</style>\n",
       "<table border=\"1\" class=\"dataframe\">\n",
       "  <thead>\n",
       "    <tr style=\"text-align: right;\">\n",
       "      <th></th>\n",
       "      <th>fixed acidity</th>\n",
       "      <th>volatile acidity</th>\n",
       "      <th>citric acid</th>\n",
       "      <th>residual sugar</th>\n",
       "      <th>chlorides</th>\n",
       "      <th>sulfur ratio</th>\n",
       "      <th>density</th>\n",
       "      <th>pH</th>\n",
       "      <th>sulphates</th>\n",
       "      <th>alcohol</th>\n",
       "      <th>quality</th>\n",
       "    </tr>\n",
       "  </thead>\n",
       "  <tbody>\n",
       "    <tr>\n",
       "      <th>0</th>\n",
       "      <td>1.189512</td>\n",
       "      <td>0.227025</td>\n",
       "      <td>0.000000</td>\n",
       "      <td>0.739740</td>\n",
       "      <td>0.033633</td>\n",
       "      <td>0.203762</td>\n",
       "      <td>0.009381</td>\n",
       "      <td>0.557029</td>\n",
       "      <td>0.207029</td>\n",
       "      <td>0.867158</td>\n",
       "      <td>5</td>\n",
       "    </tr>\n",
       "    <tr>\n",
       "      <th>1</th>\n",
       "      <td>1.238344</td>\n",
       "      <td>0.242091</td>\n",
       "      <td>0.000000</td>\n",
       "      <td>0.940452</td>\n",
       "      <td>0.037278</td>\n",
       "      <td>0.224891</td>\n",
       "      <td>0.008606</td>\n",
       "      <td>0.380512</td>\n",
       "      <td>0.243922</td>\n",
       "      <td>1.018138</td>\n",
       "      <td>5</td>\n",
       "    </tr>\n",
       "    <tr>\n",
       "      <th>2</th>\n",
       "      <td>1.238344</td>\n",
       "      <td>0.232891</td>\n",
       "      <td>0.039366</td>\n",
       "      <td>0.862713</td>\n",
       "      <td>0.036454</td>\n",
       "      <td>0.181988</td>\n",
       "      <td>0.008762</td>\n",
       "      <td>0.417824</td>\n",
       "      <td>0.235709</td>\n",
       "      <td>1.018138</td>\n",
       "      <td>5</td>\n",
       "    </tr>\n",
       "    <tr>\n",
       "      <th>3</th>\n",
       "      <td>1.512852</td>\n",
       "      <td>0.133183</td>\n",
       "      <td>0.463782</td>\n",
       "      <td>0.739740</td>\n",
       "      <td>0.033421</td>\n",
       "      <td>0.184761</td>\n",
       "      <td>0.009534</td>\n",
       "      <td>0.354655</td>\n",
       "      <td>0.213985</td>\n",
       "      <td>1.018138</td>\n",
       "      <td>6</td>\n",
       "    </tr>\n",
       "    <tr>\n",
       "      <th>4</th>\n",
       "      <td>1.189512</td>\n",
       "      <td>0.227025</td>\n",
       "      <td>0.000000</td>\n",
       "      <td>0.739740</td>\n",
       "      <td>0.033633</td>\n",
       "      <td>0.203762</td>\n",
       "      <td>0.009381</td>\n",
       "      <td>0.557029</td>\n",
       "      <td>0.207029</td>\n",
       "      <td>0.867158</td>\n",
       "      <td>5</td>\n",
       "    </tr>\n",
       "  </tbody>\n",
       "</table>\n",
       "</div>"
      ],
      "text/plain": [
       "   fixed acidity  volatile acidity  citric acid  residual sugar  chlorides  \\\n",
       "0       1.189512          0.227025     0.000000        0.739740   0.033633   \n",
       "1       1.238344          0.242091     0.000000        0.940452   0.037278   \n",
       "2       1.238344          0.232891     0.039366        0.862713   0.036454   \n",
       "3       1.512852          0.133183     0.463782        0.739740   0.033421   \n",
       "4       1.189512          0.227025     0.000000        0.739740   0.033633   \n",
       "\n",
       "   sulfur ratio   density        pH  sulphates   alcohol  quality  \n",
       "0      0.203762  0.009381  0.557029   0.207029  0.867158        5  \n",
       "1      0.224891  0.008606  0.380512   0.243922  1.018138        5  \n",
       "2      0.181988  0.008762  0.417824   0.235709  1.018138        5  \n",
       "3      0.184761  0.009534  0.354655   0.213985  1.018138        6  \n",
       "4      0.203762  0.009381  0.557029   0.207029  0.867158        5  "
      ]
     },
     "execution_count": 102,
     "metadata": {},
     "output_type": "execute_result"
    }
   ],
   "source": [
    "test.head()"
   ]
  },
  {
   "cell_type": "code",
   "execution_count": 89,
   "metadata": {},
   "outputs": [
    {
     "data": {
      "text/plain": [
       "<matplotlib.axes._subplots.AxesSubplot at 0x16b8f32a630>"
      ]
     },
     "execution_count": 89,
     "metadata": {},
     "output_type": "execute_result"
    },
    {
     "data": {
      "image/png": "[encoded data removed]",
      "text/plain": [
       "<matplotlib.figure.Figure at 0x16b8dea8cc0>"
      ]
     },
     "metadata": {},
     "output_type": "display_data"
    }
   ],
   "source": [
    "x = test['residual sugar']\n",
    "sns.distplot(x,fit=norm)"
   ]
  },
  {
   "cell_type": "code",
   "execution_count": 90,
   "metadata": {},
   "outputs": [
    {
     "data": {
      "text/plain": [
       "<matplotlib.axes._subplots.AxesSubplot at 0x16b8de000f0>"
      ]
     },
     "execution_count": 90,
     "metadata": {},
     "output_type": "execute_result"
    },
    {
     "data": {
      "image/png": "[encoded data removed]",
      "text/plain": [
       "<matplotlib.figure.Figure at 0x16b8de72908>"
      ]
     },
     "metadata": {},
     "output_type": "display_data"
    }
   ],
   "source": [
    "x = abs(x-x.mean())\n",
    "sns.distplot(x,fit=norm)"
   ]
  },
  {
   "cell_type": "code",
   "execution_count": 88,
   "metadata": {},
   "outputs": [
    {
     "name": "stderr",
     "output_type": "stream",
     "text": [
      "C:\\Users\\Vincent\\Anaconda3\\lib\\site-packages\\ipykernel_launcher.py:1: RuntimeWarning: divide by zero encountered in log\n",
      "  \"\"\"Entry point for launching an IPython kernel.\n"
     ]
    },
    {
     "ename": "OverflowError",
     "evalue": "cannot convert float infinity to integer",
     "output_type": "error",
     "traceback": [
      "\u001b[1;31m---------------------------------------------------------------------------\u001b[0m",
      "\u001b[1;31mOverflowError\u001b[0m                             Traceback (most recent call last)",
      "\u001b[1;32m<ipython-input-88-2372c0bef9b9>\u001b[0m in \u001b[0;36m<module>\u001b[1;34m()\u001b[0m\n\u001b[0;32m      1\u001b[0m \u001b[0mx\u001b[0m \u001b[1;33m=\u001b[0m \u001b[0mnp\u001b[0m\u001b[1;33m.\u001b[0m\u001b[0mlog\u001b[0m\u001b[1;33m(\u001b[0m\u001b[0mx\u001b[0m\u001b[1;33m)\u001b[0m\u001b[1;33m\u001b[0m\u001b[0m\n\u001b[1;32m----> 2\u001b[1;33m \u001b[0msns\u001b[0m\u001b[1;33m.\u001b[0m\u001b[0mdistplot\u001b[0m\u001b[1;33m(\u001b[0m\u001b[0mx\u001b[0m\u001b[1;33m,\u001b[0m\u001b[0mfit\u001b[0m\u001b[1;33m=\u001b[0m\u001b[0mnorm\u001b[0m\u001b[1;33m)\u001b[0m\u001b[1;33m\u001b[0m\u001b[0m\n\u001b[0m",
      "\u001b[1;32m~\\Anaconda3\\lib\\site-packages\\seaborn\\distributions.py\u001b[0m in \u001b[0;36mdistplot\u001b[1;34m(a, bins, hist, kde, rug, fit, hist_kws, kde_kws, rug_kws, fit_kws, color, vertical, norm_hist, axlabel, label, ax)\u001b[0m\n\u001b[0;32m    206\u001b[0m     \u001b[1;32mif\u001b[0m \u001b[0mhist\u001b[0m\u001b[1;33m:\u001b[0m\u001b[1;33m\u001b[0m\u001b[0m\n\u001b[0;32m    207\u001b[0m         \u001b[1;32mif\u001b[0m \u001b[0mbins\u001b[0m \u001b[1;32mis\u001b[0m \u001b[1;32mNone\u001b[0m\u001b[1;33m:\u001b[0m\u001b[1;33m\u001b[0m\u001b[0m\n\u001b[1;32m--> 208\u001b[1;33m             \u001b[0mbins\u001b[0m \u001b[1;33m=\u001b[0m \u001b[0mmin\u001b[0m\u001b[1;33m(\u001b[0m\u001b[0m_freedman_diaconis_bins\u001b[0m\u001b[1;33m(\u001b[0m\u001b[0ma\u001b[0m\u001b[1;33m)\u001b[0m\u001b[1;33m,\u001b[0m \u001b[1;36m50\u001b[0m\u001b[1;33m)\u001b[0m\u001b[1;33m\u001b[0m\u001b[0m\n\u001b[0m\u001b[0;32m    209\u001b[0m         \u001b[0mhist_kws\u001b[0m\u001b[1;33m.\u001b[0m\u001b[0msetdefault\u001b[0m\u001b[1;33m(\u001b[0m\u001b[1;34m\"alpha\"\u001b[0m\u001b[1;33m,\u001b[0m \u001b[1;36m0.4\u001b[0m\u001b[1;33m)\u001b[0m\u001b[1;33m\u001b[0m\u001b[0m\n\u001b[0;32m    210\u001b[0m         \u001b[0mhist_kws\u001b[0m\u001b[1;33m.\u001b[0m\u001b[0msetdefault\u001b[0m\u001b[1;33m(\u001b[0m\u001b[1;34m\"normed\"\u001b[0m\u001b[1;33m,\u001b[0m \u001b[0mnorm_hist\u001b[0m\u001b[1;33m)\u001b[0m\u001b[1;33m\u001b[0m\u001b[0m\n",
      "\u001b[1;32m~\\Anaconda3\\lib\\site-packages\\seaborn\\distributions.py\u001b[0m in \u001b[0;36m_freedman_diaconis_bins\u001b[1;34m(a)\u001b[0m\n\u001b[0;32m     32\u001b[0m         \u001b[1;32mreturn\u001b[0m \u001b[0mint\u001b[0m\u001b[1;33m(\u001b[0m\u001b[0mnp\u001b[0m\u001b[1;33m.\u001b[0m\u001b[0msqrt\u001b[0m\u001b[1;33m(\u001b[0m\u001b[0ma\u001b[0m\u001b[1;33m.\u001b[0m\u001b[0msize\u001b[0m\u001b[1;33m)\u001b[0m\u001b[1;33m)\u001b[0m\u001b[1;33m\u001b[0m\u001b[0m\n\u001b[0;32m     33\u001b[0m     \u001b[1;32melse\u001b[0m\u001b[1;33m:\u001b[0m\u001b[1;33m\u001b[0m\u001b[0m\n\u001b[1;32m---> 34\u001b[1;33m         \u001b[1;32mreturn\u001b[0m \u001b[0mint\u001b[0m\u001b[1;33m(\u001b[0m\u001b[0mnp\u001b[0m\u001b[1;33m.\u001b[0m\u001b[0mceil\u001b[0m\u001b[1;33m(\u001b[0m\u001b[1;33m(\u001b[0m\u001b[0ma\u001b[0m\u001b[1;33m.\u001b[0m\u001b[0mmax\u001b[0m\u001b[1;33m(\u001b[0m\u001b[1;33m)\u001b[0m \u001b[1;33m-\u001b[0m \u001b[0ma\u001b[0m\u001b[1;33m.\u001b[0m\u001b[0mmin\u001b[0m\u001b[1;33m(\u001b[0m\u001b[1;33m)\u001b[0m\u001b[1;33m)\u001b[0m \u001b[1;33m/\u001b[0m \u001b[0mh\u001b[0m\u001b[1;33m)\u001b[0m\u001b[1;33m)\u001b[0m\u001b[1;33m\u001b[0m\u001b[0m\n\u001b[0m\u001b[0;32m     35\u001b[0m \u001b[1;33m\u001b[0m\u001b[0m\n\u001b[0;32m     36\u001b[0m \u001b[1;33m\u001b[0m\u001b[0m\n",
      "\u001b[1;31mOverflowError\u001b[0m: cannot convert float infinity to integer"
     ]
    },
    {
     "data": {
      "image/png": "[encoded data removed]",
      "text/plain": [
       "<matplotlib.figure.Figure at 0x16b8f338be0>"
      ]
     },
     "metadata": {},
     "output_type": "display_data"
    }
   ],
   "source": [
    "x = np.log(x)\n",
    "sns.distplot(x,fit=norm)"
   ]
  },
  {
   "cell_type": "code",
   "execution_count": 423,
   "metadata": {},
   "outputs": [
    {
     "data": {
      "text/html": [
       "<div>\n",
       "<style>\n",
       "    .dataframe thead tr:only-child th {\n",
       "        text-align: right;\n",
       "    }\n",
       "\n",
       "    .dataframe thead th {\n",
       "        text-align: left;\n",
       "    }\n",
       "\n",
       "    .dataframe tbody tr th {\n",
       "        vertical-align: top;\n",
       "    }\n",
       "</style>\n",
       "<table border=\"1\" class=\"dataframe\">\n",
       "  <thead>\n",
       "    <tr style=\"text-align: right;\">\n",
       "      <th></th>\n",
       "      <th>fixed acidity</th>\n",
       "      <th>volatile acidity</th>\n",
       "      <th>citric acid</th>\n",
       "      <th>residual sugar</th>\n",
       "      <th>chlorides</th>\n",
       "      <th>free sulfur dioxide</th>\n",
       "      <th>total sulfur dioxide</th>\n",
       "      <th>density</th>\n",
       "      <th>pH</th>\n",
       "      <th>sulphates</th>\n",
       "      <th>alcohol</th>\n",
       "      <th>quality</th>\n",
       "    </tr>\n",
       "  </thead>\n",
       "  <tbody>\n",
       "    <tr>\n",
       "      <th>0</th>\n",
       "      <td>7.4</td>\n",
       "      <td>0.700</td>\n",
       "      <td>0.00</td>\n",
       "      <td>1.90</td>\n",
       "      <td>0.076</td>\n",
       "      <td>11.0</td>\n",
       "      <td>34.0</td>\n",
       "      <td>0.99780</td>\n",
       "      <td>3.51</td>\n",
       "      <td>0.56</td>\n",
       "      <td>9.400000</td>\n",
       "      <td>5</td>\n",
       "    </tr>\n",
       "    <tr>\n",
       "      <th>1</th>\n",
       "      <td>7.8</td>\n",
       "      <td>0.880</td>\n",
       "      <td>0.00</td>\n",
       "      <td>2.60</td>\n",
       "      <td>0.098</td>\n",
       "      <td>25.0</td>\n",
       "      <td>67.0</td>\n",
       "      <td>0.99680</td>\n",
       "      <td>3.20</td>\n",
       "      <td>0.68</td>\n",
       "      <td>9.800000</td>\n",
       "      <td>5</td>\n",
       "    </tr>\n",
       "    <tr>\n",
       "      <th>2</th>\n",
       "      <td>7.8</td>\n",
       "      <td>0.760</td>\n",
       "      <td>0.04</td>\n",
       "      <td>2.30</td>\n",
       "      <td>0.092</td>\n",
       "      <td>15.0</td>\n",
       "      <td>54.0</td>\n",
       "      <td>0.99700</td>\n",
       "      <td>3.26</td>\n",
       "      <td>0.65</td>\n",
       "      <td>9.800000</td>\n",
       "      <td>5</td>\n",
       "    </tr>\n",
       "    <tr>\n",
       "      <th>3</th>\n",
       "      <td>11.2</td>\n",
       "      <td>0.280</td>\n",
       "      <td>0.56</td>\n",
       "      <td>1.90</td>\n",
       "      <td>0.075</td>\n",
       "      <td>17.0</td>\n",
       "      <td>60.0</td>\n",
       "      <td>0.99800</td>\n",
       "      <td>3.16</td>\n",
       "      <td>0.58</td>\n",
       "      <td>9.800000</td>\n",
       "      <td>6</td>\n",
       "    </tr>\n",
       "    <tr>\n",
       "      <th>4</th>\n",
       "      <td>7.4</td>\n",
       "      <td>0.700</td>\n",
       "      <td>0.00</td>\n",
       "      <td>1.90</td>\n",
       "      <td>0.076</td>\n",
       "      <td>11.0</td>\n",
       "      <td>34.0</td>\n",
       "      <td>0.99780</td>\n",
       "      <td>3.51</td>\n",
       "      <td>0.56</td>\n",
       "      <td>9.400000</td>\n",
       "      <td>5</td>\n",
       "    </tr>\n",
       "    <tr>\n",
       "      <th>5</th>\n",
       "      <td>7.4</td>\n",
       "      <td>0.660</td>\n",
       "      <td>0.00</td>\n",
       "      <td>1.80</td>\n",
       "      <td>0.075</td>\n",
       "      <td>13.0</td>\n",
       "      <td>40.0</td>\n",
       "      <td>0.99780</td>\n",
       "      <td>3.51</td>\n",
       "      <td>0.56</td>\n",
       "      <td>9.400000</td>\n",
       "      <td>5</td>\n",
       "    </tr>\n",
       "    <tr>\n",
       "      <th>6</th>\n",
       "      <td>7.9</td>\n",
       "      <td>0.600</td>\n",
       "      <td>0.06</td>\n",
       "      <td>1.60</td>\n",
       "      <td>0.069</td>\n",
       "      <td>15.0</td>\n",
       "      <td>59.0</td>\n",
       "      <td>0.99640</td>\n",
       "      <td>3.30</td>\n",
       "      <td>0.46</td>\n",
       "      <td>9.400000</td>\n",
       "      <td>5</td>\n",
       "    </tr>\n",
       "    <tr>\n",
       "      <th>7</th>\n",
       "      <td>7.3</td>\n",
       "      <td>0.650</td>\n",
       "      <td>0.00</td>\n",
       "      <td>1.20</td>\n",
       "      <td>0.065</td>\n",
       "      <td>15.0</td>\n",
       "      <td>21.0</td>\n",
       "      <td>0.99460</td>\n",
       "      <td>3.39</td>\n",
       "      <td>0.47</td>\n",
       "      <td>10.000000</td>\n",
       "      <td>7</td>\n",
       "    </tr>\n",
       "    <tr>\n",
       "      <th>8</th>\n",
       "      <td>7.8</td>\n",
       "      <td>0.580</td>\n",
       "      <td>0.02</td>\n",
       "      <td>2.00</td>\n",
       "      <td>0.073</td>\n",
       "      <td>9.0</td>\n",
       "      <td>18.0</td>\n",
       "      <td>0.99680</td>\n",
       "      <td>3.36</td>\n",
       "      <td>0.57</td>\n",
       "      <td>9.500000</td>\n",
       "      <td>7</td>\n",
       "    </tr>\n",
       "    <tr>\n",
       "      <th>9</th>\n",
       "      <td>7.5</td>\n",
       "      <td>0.500</td>\n",
       "      <td>0.36</td>\n",
       "      <td>6.10</td>\n",
       "      <td>0.071</td>\n",
       "      <td>17.0</td>\n",
       "      <td>102.0</td>\n",
       "      <td>0.99780</td>\n",
       "      <td>3.35</td>\n",
       "      <td>0.80</td>\n",
       "      <td>10.500000</td>\n",
       "      <td>5</td>\n",
       "    </tr>\n",
       "    <tr>\n",
       "      <th>10</th>\n",
       "      <td>6.7</td>\n",
       "      <td>0.580</td>\n",
       "      <td>0.08</td>\n",
       "      <td>1.80</td>\n",
       "      <td>0.097</td>\n",
       "      <td>15.0</td>\n",
       "      <td>65.0</td>\n",
       "      <td>0.99590</td>\n",
       "      <td>3.28</td>\n",
       "      <td>0.54</td>\n",
       "      <td>9.200000</td>\n",
       "      <td>5</td>\n",
       "    </tr>\n",
       "    <tr>\n",
       "      <th>11</th>\n",
       "      <td>7.5</td>\n",
       "      <td>0.500</td>\n",
       "      <td>0.36</td>\n",
       "      <td>6.10</td>\n",
       "      <td>0.071</td>\n",
       "      <td>17.0</td>\n",
       "      <td>102.0</td>\n",
       "      <td>0.99780</td>\n",
       "      <td>3.35</td>\n",
       "      <td>0.80</td>\n",
       "      <td>10.500000</td>\n",
       "      <td>5</td>\n",
       "    </tr>\n",
       "    <tr>\n",
       "      <th>12</th>\n",
       "      <td>5.6</td>\n",
       "      <td>0.615</td>\n",
       "      <td>0.00</td>\n",
       "      <td>1.60</td>\n",
       "      <td>0.089</td>\n",
       "      <td>16.0</td>\n",
       "      <td>59.0</td>\n",
       "      <td>0.99430</td>\n",
       "      <td>3.58</td>\n",
       "      <td>0.52</td>\n",
       "      <td>9.900000</td>\n",
       "      <td>5</td>\n",
       "    </tr>\n",
       "    <tr>\n",
       "      <th>13</th>\n",
       "      <td>7.8</td>\n",
       "      <td>0.610</td>\n",
       "      <td>0.29</td>\n",
       "      <td>1.60</td>\n",
       "      <td>0.114</td>\n",
       "      <td>9.0</td>\n",
       "      <td>29.0</td>\n",
       "      <td>0.99740</td>\n",
       "      <td>3.26</td>\n",
       "      <td>1.56</td>\n",
       "      <td>9.100000</td>\n",
       "      <td>5</td>\n",
       "    </tr>\n",
       "    <tr>\n",
       "      <th>14</th>\n",
       "      <td>8.9</td>\n",
       "      <td>0.620</td>\n",
       "      <td>0.18</td>\n",
       "      <td>3.80</td>\n",
       "      <td>0.176</td>\n",
       "      <td>52.0</td>\n",
       "      <td>145.0</td>\n",
       "      <td>0.99860</td>\n",
       "      <td>3.16</td>\n",
       "      <td>0.88</td>\n",
       "      <td>9.200000</td>\n",
       "      <td>5</td>\n",
       "    </tr>\n",
       "    <tr>\n",
       "      <th>15</th>\n",
       "      <td>8.9</td>\n",
       "      <td>0.620</td>\n",
       "      <td>0.19</td>\n",
       "      <td>3.90</td>\n",
       "      <td>0.170</td>\n",
       "      <td>51.0</td>\n",
       "      <td>148.0</td>\n",
       "      <td>0.99860</td>\n",
       "      <td>3.17</td>\n",
       "      <td>0.93</td>\n",
       "      <td>9.200000</td>\n",
       "      <td>5</td>\n",
       "    </tr>\n",
       "    <tr>\n",
       "      <th>16</th>\n",
       "      <td>8.5</td>\n",
       "      <td>0.280</td>\n",
       "      <td>0.56</td>\n",
       "      <td>1.80</td>\n",
       "      <td>0.092</td>\n",
       "      <td>35.0</td>\n",
       "      <td>103.0</td>\n",
       "      <td>0.99690</td>\n",
       "      <td>3.30</td>\n",
       "      <td>0.75</td>\n",
       "      <td>10.500000</td>\n",
       "      <td>7</td>\n",
       "    </tr>\n",
       "    <tr>\n",
       "      <th>17</th>\n",
       "      <td>8.1</td>\n",
       "      <td>0.560</td>\n",
       "      <td>0.28</td>\n",
       "      <td>1.70</td>\n",
       "      <td>0.368</td>\n",
       "      <td>16.0</td>\n",
       "      <td>56.0</td>\n",
       "      <td>0.99680</td>\n",
       "      <td>3.11</td>\n",
       "      <td>1.28</td>\n",
       "      <td>9.300000</td>\n",
       "      <td>5</td>\n",
       "    </tr>\n",
       "    <tr>\n",
       "      <th>18</th>\n",
       "      <td>7.4</td>\n",
       "      <td>0.590</td>\n",
       "      <td>0.08</td>\n",
       "      <td>4.40</td>\n",
       "      <td>0.086</td>\n",
       "      <td>6.0</td>\n",
       "      <td>29.0</td>\n",
       "      <td>0.99740</td>\n",
       "      <td>3.38</td>\n",
       "      <td>0.50</td>\n",
       "      <td>9.000000</td>\n",
       "      <td>4</td>\n",
       "    </tr>\n",
       "    <tr>\n",
       "      <th>19</th>\n",
       "      <td>7.9</td>\n",
       "      <td>0.320</td>\n",
       "      <td>0.51</td>\n",
       "      <td>1.80</td>\n",
       "      <td>0.341</td>\n",
       "      <td>17.0</td>\n",
       "      <td>56.0</td>\n",
       "      <td>0.99690</td>\n",
       "      <td>3.04</td>\n",
       "      <td>1.08</td>\n",
       "      <td>9.200000</td>\n",
       "      <td>6</td>\n",
       "    </tr>\n",
       "    <tr>\n",
       "      <th>20</th>\n",
       "      <td>8.9</td>\n",
       "      <td>0.220</td>\n",
       "      <td>0.48</td>\n",
       "      <td>1.80</td>\n",
       "      <td>0.077</td>\n",
       "      <td>29.0</td>\n",
       "      <td>60.0</td>\n",
       "      <td>0.99680</td>\n",
       "      <td>3.39</td>\n",
       "      <td>0.53</td>\n",
       "      <td>9.400000</td>\n",
       "      <td>6</td>\n",
       "    </tr>\n",
       "    <tr>\n",
       "      <th>21</th>\n",
       "      <td>7.6</td>\n",
       "      <td>0.390</td>\n",
       "      <td>0.31</td>\n",
       "      <td>2.30</td>\n",
       "      <td>0.082</td>\n",
       "      <td>23.0</td>\n",
       "      <td>71.0</td>\n",
       "      <td>0.99820</td>\n",
       "      <td>3.52</td>\n",
       "      <td>0.65</td>\n",
       "      <td>9.700000</td>\n",
       "      <td>5</td>\n",
       "    </tr>\n",
       "    <tr>\n",
       "      <th>22</th>\n",
       "      <td>7.9</td>\n",
       "      <td>0.430</td>\n",
       "      <td>0.21</td>\n",
       "      <td>1.60</td>\n",
       "      <td>0.106</td>\n",
       "      <td>10.0</td>\n",
       "      <td>37.0</td>\n",
       "      <td>0.99660</td>\n",
       "      <td>3.17</td>\n",
       "      <td>0.91</td>\n",
       "      <td>9.500000</td>\n",
       "      <td>5</td>\n",
       "    </tr>\n",
       "    <tr>\n",
       "      <th>23</th>\n",
       "      <td>8.5</td>\n",
       "      <td>0.490</td>\n",
       "      <td>0.11</td>\n",
       "      <td>2.30</td>\n",
       "      <td>0.084</td>\n",
       "      <td>9.0</td>\n",
       "      <td>67.0</td>\n",
       "      <td>0.99680</td>\n",
       "      <td>3.17</td>\n",
       "      <td>0.53</td>\n",
       "      <td>9.400000</td>\n",
       "      <td>5</td>\n",
       "    </tr>\n",
       "    <tr>\n",
       "      <th>24</th>\n",
       "      <td>6.9</td>\n",
       "      <td>0.400</td>\n",
       "      <td>0.14</td>\n",
       "      <td>2.40</td>\n",
       "      <td>0.085</td>\n",
       "      <td>21.0</td>\n",
       "      <td>40.0</td>\n",
       "      <td>0.99680</td>\n",
       "      <td>3.43</td>\n",
       "      <td>0.63</td>\n",
       "      <td>9.700000</td>\n",
       "      <td>6</td>\n",
       "    </tr>\n",
       "    <tr>\n",
       "      <th>25</th>\n",
       "      <td>6.3</td>\n",
       "      <td>0.390</td>\n",
       "      <td>0.16</td>\n",
       "      <td>1.40</td>\n",
       "      <td>0.080</td>\n",
       "      <td>11.0</td>\n",
       "      <td>23.0</td>\n",
       "      <td>0.99550</td>\n",
       "      <td>3.34</td>\n",
       "      <td>0.56</td>\n",
       "      <td>9.300000</td>\n",
       "      <td>5</td>\n",
       "    </tr>\n",
       "    <tr>\n",
       "      <th>26</th>\n",
       "      <td>7.6</td>\n",
       "      <td>0.410</td>\n",
       "      <td>0.24</td>\n",
       "      <td>1.80</td>\n",
       "      <td>0.080</td>\n",
       "      <td>4.0</td>\n",
       "      <td>11.0</td>\n",
       "      <td>0.99620</td>\n",
       "      <td>3.28</td>\n",
       "      <td>0.59</td>\n",
       "      <td>9.500000</td>\n",
       "      <td>5</td>\n",
       "    </tr>\n",
       "    <tr>\n",
       "      <th>27</th>\n",
       "      <td>7.9</td>\n",
       "      <td>0.430</td>\n",
       "      <td>0.21</td>\n",
       "      <td>1.60</td>\n",
       "      <td>0.106</td>\n",
       "      <td>10.0</td>\n",
       "      <td>37.0</td>\n",
       "      <td>0.99660</td>\n",
       "      <td>3.17</td>\n",
       "      <td>0.91</td>\n",
       "      <td>9.500000</td>\n",
       "      <td>5</td>\n",
       "    </tr>\n",
       "    <tr>\n",
       "      <th>28</th>\n",
       "      <td>7.1</td>\n",
       "      <td>0.710</td>\n",
       "      <td>0.00</td>\n",
       "      <td>1.90</td>\n",
       "      <td>0.080</td>\n",
       "      <td>14.0</td>\n",
       "      <td>35.0</td>\n",
       "      <td>0.99720</td>\n",
       "      <td>3.47</td>\n",
       "      <td>0.55</td>\n",
       "      <td>9.400000</td>\n",
       "      <td>5</td>\n",
       "    </tr>\n",
       "    <tr>\n",
       "      <th>29</th>\n",
       "      <td>7.8</td>\n",
       "      <td>0.645</td>\n",
       "      <td>0.00</td>\n",
       "      <td>2.00</td>\n",
       "      <td>0.082</td>\n",
       "      <td>8.0</td>\n",
       "      <td>16.0</td>\n",
       "      <td>0.99640</td>\n",
       "      <td>3.38</td>\n",
       "      <td>0.59</td>\n",
       "      <td>9.800000</td>\n",
       "      <td>6</td>\n",
       "    </tr>\n",
       "    <tr>\n",
       "      <th>...</th>\n",
       "      <td>...</td>\n",
       "      <td>...</td>\n",
       "      <td>...</td>\n",
       "      <td>...</td>\n",
       "      <td>...</td>\n",
       "      <td>...</td>\n",
       "      <td>...</td>\n",
       "      <td>...</td>\n",
       "      <td>...</td>\n",
       "      <td>...</td>\n",
       "      <td>...</td>\n",
       "      <td>...</td>\n",
       "    </tr>\n",
       "    <tr>\n",
       "      <th>6467</th>\n",
       "      <td>5.8</td>\n",
       "      <td>0.230</td>\n",
       "      <td>0.31</td>\n",
       "      <td>4.50</td>\n",
       "      <td>0.046</td>\n",
       "      <td>42.0</td>\n",
       "      <td>124.0</td>\n",
       "      <td>0.99324</td>\n",
       "      <td>3.31</td>\n",
       "      <td>0.64</td>\n",
       "      <td>10.800000</td>\n",
       "      <td>6</td>\n",
       "    </tr>\n",
       "    <tr>\n",
       "      <th>6468</th>\n",
       "      <td>6.6</td>\n",
       "      <td>0.240</td>\n",
       "      <td>0.33</td>\n",
       "      <td>10.10</td>\n",
       "      <td>0.032</td>\n",
       "      <td>8.0</td>\n",
       "      <td>81.0</td>\n",
       "      <td>0.99626</td>\n",
       "      <td>3.19</td>\n",
       "      <td>0.51</td>\n",
       "      <td>9.800000</td>\n",
       "      <td>6</td>\n",
       "    </tr>\n",
       "    <tr>\n",
       "      <th>6469</th>\n",
       "      <td>6.1</td>\n",
       "      <td>0.320</td>\n",
       "      <td>0.28</td>\n",
       "      <td>6.60</td>\n",
       "      <td>0.021</td>\n",
       "      <td>29.0</td>\n",
       "      <td>132.0</td>\n",
       "      <td>0.99188</td>\n",
       "      <td>3.15</td>\n",
       "      <td>0.36</td>\n",
       "      <td>11.450000</td>\n",
       "      <td>7</td>\n",
       "    </tr>\n",
       "    <tr>\n",
       "      <th>6470</th>\n",
       "      <td>5.0</td>\n",
       "      <td>0.200</td>\n",
       "      <td>0.40</td>\n",
       "      <td>1.90</td>\n",
       "      <td>0.015</td>\n",
       "      <td>20.0</td>\n",
       "      <td>98.0</td>\n",
       "      <td>0.98970</td>\n",
       "      <td>3.37</td>\n",
       "      <td>0.55</td>\n",
       "      <td>12.050000</td>\n",
       "      <td>6</td>\n",
       "    </tr>\n",
       "    <tr>\n",
       "      <th>6471</th>\n",
       "      <td>6.0</td>\n",
       "      <td>0.420</td>\n",
       "      <td>0.41</td>\n",
       "      <td>12.40</td>\n",
       "      <td>0.032</td>\n",
       "      <td>50.0</td>\n",
       "      <td>179.0</td>\n",
       "      <td>0.99622</td>\n",
       "      <td>3.14</td>\n",
       "      <td>0.60</td>\n",
       "      <td>9.700000</td>\n",
       "      <td>5</td>\n",
       "    </tr>\n",
       "    <tr>\n",
       "      <th>6472</th>\n",
       "      <td>5.7</td>\n",
       "      <td>0.210</td>\n",
       "      <td>0.32</td>\n",
       "      <td>1.60</td>\n",
       "      <td>0.030</td>\n",
       "      <td>33.0</td>\n",
       "      <td>122.0</td>\n",
       "      <td>0.99044</td>\n",
       "      <td>3.33</td>\n",
       "      <td>0.52</td>\n",
       "      <td>11.900000</td>\n",
       "      <td>6</td>\n",
       "    </tr>\n",
       "    <tr>\n",
       "      <th>6473</th>\n",
       "      <td>5.6</td>\n",
       "      <td>0.200</td>\n",
       "      <td>0.36</td>\n",
       "      <td>2.50</td>\n",
       "      <td>0.048</td>\n",
       "      <td>16.0</td>\n",
       "      <td>125.0</td>\n",
       "      <td>0.99282</td>\n",
       "      <td>3.49</td>\n",
       "      <td>0.49</td>\n",
       "      <td>10.000000</td>\n",
       "      <td>6</td>\n",
       "    </tr>\n",
       "    <tr>\n",
       "      <th>6474</th>\n",
       "      <td>7.4</td>\n",
       "      <td>0.220</td>\n",
       "      <td>0.26</td>\n",
       "      <td>1.20</td>\n",
       "      <td>0.035</td>\n",
       "      <td>18.0</td>\n",
       "      <td>97.0</td>\n",
       "      <td>0.99245</td>\n",
       "      <td>3.12</td>\n",
       "      <td>0.41</td>\n",
       "      <td>9.700000</td>\n",
       "      <td>6</td>\n",
       "    </tr>\n",
       "    <tr>\n",
       "      <th>6475</th>\n",
       "      <td>6.2</td>\n",
       "      <td>0.380</td>\n",
       "      <td>0.42</td>\n",
       "      <td>2.50</td>\n",
       "      <td>0.038</td>\n",
       "      <td>34.0</td>\n",
       "      <td>117.0</td>\n",
       "      <td>0.99132</td>\n",
       "      <td>3.36</td>\n",
       "      <td>0.59</td>\n",
       "      <td>11.600000</td>\n",
       "      <td>7</td>\n",
       "    </tr>\n",
       "    <tr>\n",
       "      <th>6476</th>\n",
       "      <td>5.9</td>\n",
       "      <td>0.540</td>\n",
       "      <td>0.00</td>\n",
       "      <td>0.80</td>\n",
       "      <td>0.032</td>\n",
       "      <td>12.0</td>\n",
       "      <td>82.0</td>\n",
       "      <td>0.99286</td>\n",
       "      <td>3.25</td>\n",
       "      <td>0.36</td>\n",
       "      <td>8.800000</td>\n",
       "      <td>5</td>\n",
       "    </tr>\n",
       "    <tr>\n",
       "      <th>6477</th>\n",
       "      <td>6.2</td>\n",
       "      <td>0.530</td>\n",
       "      <td>0.02</td>\n",
       "      <td>0.90</td>\n",
       "      <td>0.035</td>\n",
       "      <td>6.0</td>\n",
       "      <td>81.0</td>\n",
       "      <td>0.99234</td>\n",
       "      <td>3.24</td>\n",
       "      <td>0.35</td>\n",
       "      <td>9.500000</td>\n",
       "      <td>4</td>\n",
       "    </tr>\n",
       "    <tr>\n",
       "      <th>6478</th>\n",
       "      <td>6.6</td>\n",
       "      <td>0.340</td>\n",
       "      <td>0.40</td>\n",
       "      <td>8.10</td>\n",
       "      <td>0.046</td>\n",
       "      <td>68.0</td>\n",
       "      <td>170.0</td>\n",
       "      <td>0.99494</td>\n",
       "      <td>3.15</td>\n",
       "      <td>0.50</td>\n",
       "      <td>9.533333</td>\n",
       "      <td>6</td>\n",
       "    </tr>\n",
       "    <tr>\n",
       "      <th>6479</th>\n",
       "      <td>6.6</td>\n",
       "      <td>0.340</td>\n",
       "      <td>0.40</td>\n",
       "      <td>8.10</td>\n",
       "      <td>0.046</td>\n",
       "      <td>68.0</td>\n",
       "      <td>170.0</td>\n",
       "      <td>0.99494</td>\n",
       "      <td>3.15</td>\n",
       "      <td>0.50</td>\n",
       "      <td>9.533333</td>\n",
       "      <td>6</td>\n",
       "    </tr>\n",
       "    <tr>\n",
       "      <th>6480</th>\n",
       "      <td>5.0</td>\n",
       "      <td>0.235</td>\n",
       "      <td>0.27</td>\n",
       "      <td>11.75</td>\n",
       "      <td>0.030</td>\n",
       "      <td>34.0</td>\n",
       "      <td>118.0</td>\n",
       "      <td>0.99540</td>\n",
       "      <td>3.07</td>\n",
       "      <td>0.50</td>\n",
       "      <td>9.400000</td>\n",
       "      <td>6</td>\n",
       "    </tr>\n",
       "    <tr>\n",
       "      <th>6481</th>\n",
       "      <td>5.5</td>\n",
       "      <td>0.320</td>\n",
       "      <td>0.13</td>\n",
       "      <td>1.30</td>\n",
       "      <td>0.037</td>\n",
       "      <td>45.0</td>\n",
       "      <td>156.0</td>\n",
       "      <td>0.99184</td>\n",
       "      <td>3.26</td>\n",
       "      <td>0.38</td>\n",
       "      <td>10.700000</td>\n",
       "      <td>5</td>\n",
       "    </tr>\n",
       "    <tr>\n",
       "      <th>6482</th>\n",
       "      <td>4.9</td>\n",
       "      <td>0.470</td>\n",
       "      <td>0.17</td>\n",
       "      <td>1.90</td>\n",
       "      <td>0.035</td>\n",
       "      <td>60.0</td>\n",
       "      <td>148.0</td>\n",
       "      <td>0.98964</td>\n",
       "      <td>3.27</td>\n",
       "      <td>0.35</td>\n",
       "      <td>11.500000</td>\n",
       "      <td>6</td>\n",
       "    </tr>\n",
       "    <tr>\n",
       "      <th>6483</th>\n",
       "      <td>6.5</td>\n",
       "      <td>0.330</td>\n",
       "      <td>0.38</td>\n",
       "      <td>8.30</td>\n",
       "      <td>0.048</td>\n",
       "      <td>68.0</td>\n",
       "      <td>174.0</td>\n",
       "      <td>0.99492</td>\n",
       "      <td>3.14</td>\n",
       "      <td>0.50</td>\n",
       "      <td>9.600000</td>\n",
       "      <td>5</td>\n",
       "    </tr>\n",
       "    <tr>\n",
       "      <th>6484</th>\n",
       "      <td>6.6</td>\n",
       "      <td>0.340</td>\n",
       "      <td>0.40</td>\n",
       "      <td>8.10</td>\n",
       "      <td>0.046</td>\n",
       "      <td>68.0</td>\n",
       "      <td>170.0</td>\n",
       "      <td>0.99494</td>\n",
       "      <td>3.15</td>\n",
       "      <td>0.50</td>\n",
       "      <td>9.550000</td>\n",
       "      <td>6</td>\n",
       "    </tr>\n",
       "    <tr>\n",
       "      <th>6485</th>\n",
       "      <td>6.2</td>\n",
       "      <td>0.210</td>\n",
       "      <td>0.28</td>\n",
       "      <td>5.70</td>\n",
       "      <td>0.028</td>\n",
       "      <td>45.0</td>\n",
       "      <td>121.0</td>\n",
       "      <td>0.99168</td>\n",
       "      <td>3.21</td>\n",
       "      <td>1.08</td>\n",
       "      <td>12.150000</td>\n",
       "      <td>7</td>\n",
       "    </tr>\n",
       "    <tr>\n",
       "      <th>6486</th>\n",
       "      <td>6.2</td>\n",
       "      <td>0.410</td>\n",
       "      <td>0.22</td>\n",
       "      <td>1.90</td>\n",
       "      <td>0.023</td>\n",
       "      <td>5.0</td>\n",
       "      <td>56.0</td>\n",
       "      <td>0.98928</td>\n",
       "      <td>3.04</td>\n",
       "      <td>0.79</td>\n",
       "      <td>13.000000</td>\n",
       "      <td>7</td>\n",
       "    </tr>\n",
       "    <tr>\n",
       "      <th>6487</th>\n",
       "      <td>6.8</td>\n",
       "      <td>0.220</td>\n",
       "      <td>0.36</td>\n",
       "      <td>1.20</td>\n",
       "      <td>0.052</td>\n",
       "      <td>38.0</td>\n",
       "      <td>127.0</td>\n",
       "      <td>0.99330</td>\n",
       "      <td>3.04</td>\n",
       "      <td>0.54</td>\n",
       "      <td>9.200000</td>\n",
       "      <td>5</td>\n",
       "    </tr>\n",
       "    <tr>\n",
       "      <th>6488</th>\n",
       "      <td>4.9</td>\n",
       "      <td>0.235</td>\n",
       "      <td>0.27</td>\n",
       "      <td>11.75</td>\n",
       "      <td>0.030</td>\n",
       "      <td>34.0</td>\n",
       "      <td>118.0</td>\n",
       "      <td>0.99540</td>\n",
       "      <td>3.07</td>\n",
       "      <td>0.50</td>\n",
       "      <td>9.400000</td>\n",
       "      <td>6</td>\n",
       "    </tr>\n",
       "    <tr>\n",
       "      <th>6489</th>\n",
       "      <td>6.1</td>\n",
       "      <td>0.340</td>\n",
       "      <td>0.29</td>\n",
       "      <td>2.20</td>\n",
       "      <td>0.036</td>\n",
       "      <td>25.0</td>\n",
       "      <td>100.0</td>\n",
       "      <td>0.98938</td>\n",
       "      <td>3.06</td>\n",
       "      <td>0.44</td>\n",
       "      <td>11.800000</td>\n",
       "      <td>6</td>\n",
       "    </tr>\n",
       "    <tr>\n",
       "      <th>6490</th>\n",
       "      <td>5.7</td>\n",
       "      <td>0.210</td>\n",
       "      <td>0.32</td>\n",
       "      <td>0.90</td>\n",
       "      <td>0.038</td>\n",
       "      <td>38.0</td>\n",
       "      <td>121.0</td>\n",
       "      <td>0.99074</td>\n",
       "      <td>3.24</td>\n",
       "      <td>0.46</td>\n",
       "      <td>10.600000</td>\n",
       "      <td>6</td>\n",
       "    </tr>\n",
       "    <tr>\n",
       "      <th>6491</th>\n",
       "      <td>6.5</td>\n",
       "      <td>0.230</td>\n",
       "      <td>0.38</td>\n",
       "      <td>1.30</td>\n",
       "      <td>0.032</td>\n",
       "      <td>29.0</td>\n",
       "      <td>112.0</td>\n",
       "      <td>0.99298</td>\n",
       "      <td>3.29</td>\n",
       "      <td>0.54</td>\n",
       "      <td>9.700000</td>\n",
       "      <td>5</td>\n",
       "    </tr>\n",
       "    <tr>\n",
       "      <th>6492</th>\n",
       "      <td>6.2</td>\n",
       "      <td>0.210</td>\n",
       "      <td>0.29</td>\n",
       "      <td>1.60</td>\n",
       "      <td>0.039</td>\n",
       "      <td>24.0</td>\n",
       "      <td>92.0</td>\n",
       "      <td>0.99114</td>\n",
       "      <td>3.27</td>\n",
       "      <td>0.50</td>\n",
       "      <td>11.200000</td>\n",
       "      <td>6</td>\n",
       "    </tr>\n",
       "    <tr>\n",
       "      <th>6493</th>\n",
       "      <td>6.6</td>\n",
       "      <td>0.320</td>\n",
       "      <td>0.36</td>\n",
       "      <td>8.00</td>\n",
       "      <td>0.047</td>\n",
       "      <td>57.0</td>\n",
       "      <td>168.0</td>\n",
       "      <td>0.99490</td>\n",
       "      <td>3.15</td>\n",
       "      <td>0.46</td>\n",
       "      <td>9.600000</td>\n",
       "      <td>5</td>\n",
       "    </tr>\n",
       "    <tr>\n",
       "      <th>6494</th>\n",
       "      <td>6.5</td>\n",
       "      <td>0.240</td>\n",
       "      <td>0.19</td>\n",
       "      <td>1.20</td>\n",
       "      <td>0.041</td>\n",
       "      <td>30.0</td>\n",
       "      <td>111.0</td>\n",
       "      <td>0.99254</td>\n",
       "      <td>2.99</td>\n",
       "      <td>0.46</td>\n",
       "      <td>9.400000</td>\n",
       "      <td>6</td>\n",
       "    </tr>\n",
       "    <tr>\n",
       "      <th>6495</th>\n",
       "      <td>5.5</td>\n",
       "      <td>0.290</td>\n",
       "      <td>0.30</td>\n",
       "      <td>1.10</td>\n",
       "      <td>0.022</td>\n",
       "      <td>20.0</td>\n",
       "      <td>110.0</td>\n",
       "      <td>0.98869</td>\n",
       "      <td>3.34</td>\n",
       "      <td>0.38</td>\n",
       "      <td>12.800000</td>\n",
       "      <td>7</td>\n",
       "    </tr>\n",
       "    <tr>\n",
       "      <th>6496</th>\n",
       "      <td>6.0</td>\n",
       "      <td>0.210</td>\n",
       "      <td>0.38</td>\n",
       "      <td>0.80</td>\n",
       "      <td>0.020</td>\n",
       "      <td>22.0</td>\n",
       "      <td>98.0</td>\n",
       "      <td>0.98941</td>\n",
       "      <td>3.26</td>\n",
       "      <td>0.32</td>\n",
       "      <td>11.800000</td>\n",
       "      <td>6</td>\n",
       "    </tr>\n",
       "  </tbody>\n",
       "</table>\n",
       "<p>6497 rows × 12 columns</p>\n",
       "</div>"
      ],
      "text/plain": [
       "      fixed acidity  volatile acidity  citric acid  residual sugar  chlorides  \\\n",
       "0               7.4             0.700         0.00            1.90      0.076   \n",
       "1               7.8             0.880         0.00            2.60      0.098   \n",
       "2               7.8             0.760         0.04            2.30      0.092   \n",
       "3              11.2             0.280         0.56            1.90      0.075   \n",
       "4               7.4             0.700         0.00            1.90      0.076   \n",
       "5               7.4             0.660         0.00            1.80      0.075   \n",
       "6               7.9             0.600         0.06            1.60      0.069   \n",
       "7               7.3             0.650         0.00            1.20      0.065   \n",
       "8               7.8             0.580         0.02            2.00      0.073   \n",
       "9               7.5             0.500         0.36            6.10      0.071   \n",
       "10              6.7             0.580         0.08            1.80      0.097   \n",
       "11              7.5             0.500         0.36            6.10      0.071   \n",
       "12              5.6             0.615         0.00            1.60      0.089   \n",
       "13              7.8             0.610         0.29            1.60      0.114   \n",
       "14              8.9             0.620         0.18            3.80      0.176   \n",
       "15              8.9             0.620         0.19            3.90      0.170   \n",
       "16              8.5             0.280         0.56            1.80      0.092   \n",
       "17              8.1             0.560         0.28            1.70      0.368   \n",
       "18              7.4             0.590         0.08            4.40      0.086   \n",
       "19              7.9             0.320         0.51            1.80      0.341   \n",
       "20              8.9             0.220         0.48            1.80      0.077   \n",
       "21              7.6             0.390         0.31            2.30      0.082   \n",
       "22              7.9             0.430         0.21            1.60      0.106   \n",
       "23              8.5             0.490         0.11            2.30      0.084   \n",
       "24              6.9             0.400         0.14            2.40      0.085   \n",
       "25              6.3             0.390         0.16            1.40      0.080   \n",
       "26              7.6             0.410         0.24            1.80      0.080   \n",
       "27              7.9             0.430         0.21            1.60      0.106   \n",
       "28              7.1             0.710         0.00            1.90      0.080   \n",
       "29              7.8             0.645         0.00            2.00      0.082   \n",
       "...             ...               ...          ...             ...        ...   \n",
       "6467            5.8             0.230         0.31            4.50      0.046   \n",
       "6468            6.6             0.240         0.33           10.10      0.032   \n",
       "6469            6.1             0.320         0.28            6.60      0.021   \n",
       "6470            5.0             0.200         0.40            1.90      0.015   \n",
       "6471            6.0             0.420         0.41           12.40      0.032   \n",
       "6472            5.7             0.210         0.32            1.60      0.030   \n",
       "6473            5.6             0.200         0.36            2.50      0.048   \n",
       "6474            7.4             0.220         0.26            1.20      0.035   \n",
       "6475            6.2             0.380         0.42            2.50      0.038   \n",
       "6476            5.9             0.540         0.00            0.80      0.032   \n",
       "6477            6.2             0.530         0.02            0.90      0.035   \n",
       "6478            6.6             0.340         0.40            8.10      0.046   \n",
       "6479            6.6             0.340         0.40            8.10      0.046   \n",
       "6480            5.0             0.235         0.27           11.75      0.030   \n",
       "6481            5.5             0.320         0.13            1.30      0.037   \n",
       "6482            4.9             0.470         0.17            1.90      0.035   \n",
       "6483            6.5             0.330         0.38            8.30      0.048   \n",
       "6484            6.6             0.340         0.40            8.10      0.046   \n",
       "6485            6.2             0.210         0.28            5.70      0.028   \n",
       "6486            6.2             0.410         0.22            1.90      0.023   \n",
       "6487            6.8             0.220         0.36            1.20      0.052   \n",
       "6488            4.9             0.235         0.27           11.75      0.030   \n",
       "6489            6.1             0.340         0.29            2.20      0.036   \n",
       "6490            5.7             0.210         0.32            0.90      0.038   \n",
       "6491            6.5             0.230         0.38            1.30      0.032   \n",
       "6492            6.2             0.210         0.29            1.60      0.039   \n",
       "6493            6.6             0.320         0.36            8.00      0.047   \n",
       "6494            6.5             0.240         0.19            1.20      0.041   \n",
       "6495            5.5             0.290         0.30            1.10      0.022   \n",
       "6496            6.0             0.210         0.38            0.80      0.020   \n",
       "\n",
       "      free sulfur dioxide  total sulfur dioxide  density    pH  sulphates  \\\n",
       "0                    11.0                  34.0  0.99780  3.51       0.56   \n",
       "1                    25.0                  67.0  0.99680  3.20       0.68   \n",
       "2                    15.0                  54.0  0.99700  3.26       0.65   \n",
       "3                    17.0                  60.0  0.99800  3.16       0.58   \n",
       "4                    11.0                  34.0  0.99780  3.51       0.56   \n",
       "5                    13.0                  40.0  0.99780  3.51       0.56   \n",
       "6                    15.0                  59.0  0.99640  3.30       0.46   \n",
       "7                    15.0                  21.0  0.99460  3.39       0.47   \n",
       "8                     9.0                  18.0  0.99680  3.36       0.57   \n",
       "9                    17.0                 102.0  0.99780  3.35       0.80   \n",
       "10                   15.0                  65.0  0.99590  3.28       0.54   \n",
       "11                   17.0                 102.0  0.99780  3.35       0.80   \n",
       "12                   16.0                  59.0  0.99430  3.58       0.52   \n",
       "13                    9.0                  29.0  0.99740  3.26       1.56   \n",
       "14                   52.0                 145.0  0.99860  3.16       0.88   \n",
       "15                   51.0                 148.0  0.99860  3.17       0.93   \n",
       "16                   35.0                 103.0  0.99690  3.30       0.75   \n",
       "17                   16.0                  56.0  0.99680  3.11       1.28   \n",
       "18                    6.0                  29.0  0.99740  3.38       0.50   \n",
       "19                   17.0                  56.0  0.99690  3.04       1.08   \n",
       "20                   29.0                  60.0  0.99680  3.39       0.53   \n",
       "21                   23.0                  71.0  0.99820  3.52       0.65   \n",
       "22                   10.0                  37.0  0.99660  3.17       0.91   \n",
       "23                    9.0                  67.0  0.99680  3.17       0.53   \n",
       "24                   21.0                  40.0  0.99680  3.43       0.63   \n",
       "25                   11.0                  23.0  0.99550  3.34       0.56   \n",
       "26                    4.0                  11.0  0.99620  3.28       0.59   \n",
       "27                   10.0                  37.0  0.99660  3.17       0.91   \n",
       "28                   14.0                  35.0  0.99720  3.47       0.55   \n",
       "29                    8.0                  16.0  0.99640  3.38       0.59   \n",
       "...                   ...                   ...      ...   ...        ...   \n",
       "6467                 42.0                 124.0  0.99324  3.31       0.64   \n",
       "6468                  8.0                  81.0  0.99626  3.19       0.51   \n",
       "6469                 29.0                 132.0  0.99188  3.15       0.36   \n",
       "6470                 20.0                  98.0  0.98970  3.37       0.55   \n",
       "6471                 50.0                 179.0  0.99622  3.14       0.60   \n",
       "6472                 33.0                 122.0  0.99044  3.33       0.52   \n",
       "6473                 16.0                 125.0  0.99282  3.49       0.49   \n",
       "6474                 18.0                  97.0  0.99245  3.12       0.41   \n",
       "6475                 34.0                 117.0  0.99132  3.36       0.59   \n",
       "6476                 12.0                  82.0  0.99286  3.25       0.36   \n",
       "6477                  6.0                  81.0  0.99234  3.24       0.35   \n",
       "6478                 68.0                 170.0  0.99494  3.15       0.50   \n",
       "6479                 68.0                 170.0  0.99494  3.15       0.50   \n",
       "6480                 34.0                 118.0  0.99540  3.07       0.50   \n",
       "6481                 45.0                 156.0  0.99184  3.26       0.38   \n",
       "6482                 60.0                 148.0  0.98964  3.27       0.35   \n",
       "6483                 68.0                 174.0  0.99492  3.14       0.50   \n",
       "6484                 68.0                 170.0  0.99494  3.15       0.50   \n",
       "6485                 45.0                 121.0  0.99168  3.21       1.08   \n",
       "6486                  5.0                  56.0  0.98928  3.04       0.79   \n",
       "6487                 38.0                 127.0  0.99330  3.04       0.54   \n",
       "6488                 34.0                 118.0  0.99540  3.07       0.50   \n",
       "6489                 25.0                 100.0  0.98938  3.06       0.44   \n",
       "6490                 38.0                 121.0  0.99074  3.24       0.46   \n",
       "6491                 29.0                 112.0  0.99298  3.29       0.54   \n",
       "6492                 24.0                  92.0  0.99114  3.27       0.50   \n",
       "6493                 57.0                 168.0  0.99490  3.15       0.46   \n",
       "6494                 30.0                 111.0  0.99254  2.99       0.46   \n",
       "6495                 20.0                 110.0  0.98869  3.34       0.38   \n",
       "6496                 22.0                  98.0  0.98941  3.26       0.32   \n",
       "\n",
       "        alcohol  quality  \n",
       "0      9.400000        5  \n",
       "1      9.800000        5  \n",
       "2      9.800000        5  \n",
       "3      9.800000        6  \n",
       "4      9.400000        5  \n",
       "5      9.400000        5  \n",
       "6      9.400000        5  \n",
       "7     10.000000        7  \n",
       "8      9.500000        7  \n",
       "9     10.500000        5  \n",
       "10     9.200000        5  \n",
       "11    10.500000        5  \n",
       "12     9.900000        5  \n",
       "13     9.100000        5  \n",
       "14     9.200000        5  \n",
       "15     9.200000        5  \n",
       "16    10.500000        7  \n",
       "17     9.300000        5  \n",
       "18     9.000000        4  \n",
       "19     9.200000        6  \n",
       "20     9.400000        6  \n",
       "21     9.700000        5  \n",
       "22     9.500000        5  \n",
       "23     9.400000        5  \n",
       "24     9.700000        6  \n",
       "25     9.300000        5  \n",
       "26     9.500000        5  \n",
       "27     9.500000        5  \n",
       "28     9.400000        5  \n",
       "29     9.800000        6  \n",
       "...         ...      ...  \n",
       "6467  10.800000        6  \n",
       "6468   9.800000        6  \n",
       "6469  11.450000        7  \n",
       "6470  12.050000        6  \n",
       "6471   9.700000        5  \n",
       "6472  11.900000        6  \n",
       "6473  10.000000        6  \n",
       "6474   9.700000        6  \n",
       "6475  11.600000        7  \n",
       "6476   8.800000        5  \n",
       "6477   9.500000        4  \n",
       "6478   9.533333        6  \n",
       "6479   9.533333        6  \n",
       "6480   9.400000        6  \n",
       "6481  10.700000        5  \n",
       "6482  11.500000        6  \n",
       "6483   9.600000        5  \n",
       "6484   9.550000        6  \n",
       "6485  12.150000        7  \n",
       "6486  13.000000        7  \n",
       "6487   9.200000        5  \n",
       "6488   9.400000        6  \n",
       "6489  11.800000        6  \n",
       "6490  10.600000        6  \n",
       "6491   9.700000        5  \n",
       "6492  11.200000        6  \n",
       "6493   9.600000        5  \n",
       "6494   9.400000        6  \n",
       "6495  12.800000        7  \n",
       "6496  11.800000        6  \n",
       "\n",
       "[6497 rows x 12 columns]"
      ]
     },
     "execution_count": 423,
     "metadata": {},
     "output_type": "execute_result"
    }
   ],
   "source": [
    "wine"
   ]
  },
  {
   "cell_type": "code",
   "execution_count": 425,
   "metadata": {},
   "outputs": [
    {
     "data": {
      "text/plain": [
       "count    6497.000000\n",
       "mean        7.215307\n",
       "std         1.296434\n",
       "min         3.800000\n",
       "25%         6.400000\n",
       "50%         7.000000\n",
       "75%         7.700000\n",
       "max        15.900000\n",
       "Name: fixed acidity, dtype: float64"
      ]
     },
     "execution_count": 425,
     "metadata": {},
     "output_type": "execute_result"
    }
   ],
   "source": [
    "wine['fixed acidity'].describe()"
   ]
  },
  {
   "cell_type": "code",
   "execution_count": null,
   "metadata": {},
   "outputs": [
    {
     "name": "stderr",
     "output_type": "stream",
     "text": [
      "C:\\Users\\Vincent\\Anaconda3\\lib\\site-packages\\pandas\\core\\indexing.py:179: SettingWithCopyWarning: \n",
      "A value is trying to be set on a copy of a slice from a DataFrame\n",
      "\n",
      "See the caveats in the documentation: http://pandas.pydata.org/pandas-docs/stable/indexing.html#indexing-view-versus-copy\n",
      "  self._setitem_with_indexer(indexer, value)\n"
     ]
    }
   ],
   "source": [
    "for i in range(len(wine)):\n",
    "    if wine['fixed acidity'].loc[i] < 6.4:\n",
    "        wine['acid'].loc[i] = 'L'\n",
    "    elif wine['fixed acidity'].loc[i] > 7.7:\n",
    "        wine['acid'].loc[i] = 'H'\n",
    "    else:\n",
    "        wine['acid'].loc[i] = 'M'"
   ]
  },
  {
   "cell_type": "code",
   "execution_count": 12,
   "metadata": {},
   "outputs": [],
   "source": [
    "wine.insert(11, 'acid', '')"
   ]
  },
  {
   "cell_type": "code",
   "execution_count": null,
   "metadata": {},
   "outputs": [],
   "source": [
    "wine['acid'].value_counts()"
   ]
  },
  {
   "cell_type": "code",
   "execution_count": 7,
   "metadata": {},
   "outputs": [],
   "source": [
    "stuff = []"
   ]
  },
  {
   "cell_type": "code",
   "execution_count": 10,
   "metadata": {},
   "outputs": [],
   "source": [
    "stuff.append('bye')"
   ]
  },
  {
   "cell_type": "code",
   "execution_count": 11,
   "metadata": {},
   "outputs": [
    {
     "data": {
      "text/plain": [
       "['hi', 'bye']"
      ]
     },
     "execution_count": 11,
     "metadata": {},
     "output_type": "execute_result"
    }
   ],
   "source": [
    "stuff"
   ]
  },
  {
   "cell_type": "code",
   "execution_count": 26,
   "metadata": {
    "collapsed": true
   },
   "outputs": [],
   "source": [
    "test = wine.copy()\n",
    "acid = []\n",
    "for i in wine['fixed acidity']:\n",
    "    if i < 6.4:\n",
    "        acid.append('1')\n",
    "    elif i > 7.7:\n",
    "        acid.append('3')\n",
    "    else:\n",
    "        acid.append('2')"
   ]
  },
  {
   "cell_type": "code",
   "execution_count": 27,
   "metadata": {},
   "outputs": [],
   "source": [
    "test.insert(11, 'acid', pd.Series(acid))"
   ]
  },
  {
   "cell_type": "code",
   "execution_count": 56,
   "metadata": {},
   "outputs": [],
   "source": [
    "test.insert(5, 'sulfur ratio', wine['free sulfur dioxide'] / wine['total sulfur dioxide'])\n",
    "test.drop(['free sulfur dioxide', 'total sulfur dioxide'], axis=1, inplace=True)"
   ]
  },
  {
   "cell_type": "code",
   "execution_count": 57,
   "metadata": {},
   "outputs": [
    {
     "data": {
      "text/html": [
       "<div>\n",
       "<style>\n",
       "    .dataframe thead tr:only-child th {\n",
       "        text-align: right;\n",
       "    }\n",
       "\n",
       "    .dataframe thead th {\n",
       "        text-align: left;\n",
       "    }\n",
       "\n",
       "    .dataframe tbody tr th {\n",
       "        vertical-align: top;\n",
       "    }\n",
       "</style>\n",
       "<table border=\"1\" class=\"dataframe\">\n",
       "  <thead>\n",
       "    <tr style=\"text-align: right;\">\n",
       "      <th></th>\n",
       "      <th>fixed acidity</th>\n",
       "      <th>volatile acidity</th>\n",
       "      <th>citric acid</th>\n",
       "      <th>residual sugar</th>\n",
       "      <th>chlorides</th>\n",
       "      <th>sulfur ratio</th>\n",
       "      <th>density</th>\n",
       "      <th>pH</th>\n",
       "      <th>sulphates</th>\n",
       "      <th>alcohol</th>\n",
       "      <th>quality</th>\n",
       "    </tr>\n",
       "  </thead>\n",
       "  <tbody>\n",
       "    <tr>\n",
       "      <th>0</th>\n",
       "      <td>7.4</td>\n",
       "      <td>0.70</td>\n",
       "      <td>0.00</td>\n",
       "      <td>1.9</td>\n",
       "      <td>0.076</td>\n",
       "      <td>0.323529</td>\n",
       "      <td>0.9978</td>\n",
       "      <td>3.51</td>\n",
       "      <td>0.56</td>\n",
       "      <td>9.4</td>\n",
       "      <td>5</td>\n",
       "    </tr>\n",
       "    <tr>\n",
       "      <th>1</th>\n",
       "      <td>7.8</td>\n",
       "      <td>0.88</td>\n",
       "      <td>0.00</td>\n",
       "      <td>2.6</td>\n",
       "      <td>0.098</td>\n",
       "      <td>0.373134</td>\n",
       "      <td>0.9968</td>\n",
       "      <td>3.20</td>\n",
       "      <td>0.68</td>\n",
       "      <td>9.8</td>\n",
       "      <td>5</td>\n",
       "    </tr>\n",
       "    <tr>\n",
       "      <th>2</th>\n",
       "      <td>7.8</td>\n",
       "      <td>0.76</td>\n",
       "      <td>0.04</td>\n",
       "      <td>2.3</td>\n",
       "      <td>0.092</td>\n",
       "      <td>0.277778</td>\n",
       "      <td>0.9970</td>\n",
       "      <td>3.26</td>\n",
       "      <td>0.65</td>\n",
       "      <td>9.8</td>\n",
       "      <td>5</td>\n",
       "    </tr>\n",
       "    <tr>\n",
       "      <th>3</th>\n",
       "      <td>11.2</td>\n",
       "      <td>0.28</td>\n",
       "      <td>0.56</td>\n",
       "      <td>1.9</td>\n",
       "      <td>0.075</td>\n",
       "      <td>0.283333</td>\n",
       "      <td>0.9980</td>\n",
       "      <td>3.16</td>\n",
       "      <td>0.58</td>\n",
       "      <td>9.8</td>\n",
       "      <td>6</td>\n",
       "    </tr>\n",
       "    <tr>\n",
       "      <th>4</th>\n",
       "      <td>7.4</td>\n",
       "      <td>0.70</td>\n",
       "      <td>0.00</td>\n",
       "      <td>1.9</td>\n",
       "      <td>0.076</td>\n",
       "      <td>0.323529</td>\n",
       "      <td>0.9978</td>\n",
       "      <td>3.51</td>\n",
       "      <td>0.56</td>\n",
       "      <td>9.4</td>\n",
       "      <td>5</td>\n",
       "    </tr>\n",
       "  </tbody>\n",
       "</table>\n",
       "</div>"
      ],
      "text/plain": [
       "   fixed acidity  volatile acidity  citric acid  residual sugar  chlorides  \\\n",
       "0            7.4              0.70         0.00             1.9      0.076   \n",
       "1            7.8              0.88         0.00             2.6      0.098   \n",
       "2            7.8              0.76         0.04             2.3      0.092   \n",
       "3           11.2              0.28         0.56             1.9      0.075   \n",
       "4            7.4              0.70         0.00             1.9      0.076   \n",
       "\n",
       "   sulfur ratio  density    pH  sulphates  alcohol  quality  \n",
       "0      0.323529   0.9978  3.51       0.56      9.4        5  \n",
       "1      0.373134   0.9968  3.20       0.68      9.8        5  \n",
       "2      0.277778   0.9970  3.26       0.65      9.8        5  \n",
       "3      0.283333   0.9980  3.16       0.58      9.8        6  \n",
       "4      0.323529   0.9978  3.51       0.56      9.4        5  "
      ]
     },
     "execution_count": 57,
     "metadata": {},
     "output_type": "execute_result"
    }
   ],
   "source": [
    "test.head()"
   ]
  },
  {
   "cell_type": "code",
   "execution_count": 91,
   "metadata": {},
   "outputs": [
    {
     "name": "stdout",
     "output_type": "stream",
     "text": [
      "-0.5701816376449969\n"
     ]
    }
   ],
   "source": [
    "model = PLSRegression(n_components=9)\n",
    "score = cross_val_score(model, test.iloc[:,:-1], test.iloc[:,-1], cv=20, scoring='neg_mean_absolute_error')\n",
    "print(score.mean())"
   ]
  },
  {
   "cell_type": "code",
   "execution_count": 40,
   "metadata": {},
   "outputs": [
    {
     "data": {
      "text/plain": [
       "count    6497.000000\n",
       "mean        3.218501\n",
       "std         0.160787\n",
       "min         2.720000\n",
       "25%         3.110000\n",
       "50%         3.210000\n",
       "75%         3.320000\n",
       "max         4.010000\n",
       "Name: pH, dtype: float64"
      ]
     },
     "execution_count": 40,
     "metadata": {},
     "output_type": "execute_result"
    }
   ],
   "source": [
    "wine['pH'].describe()"
   ]
  },
  {
   "cell_type": "code",
   "execution_count": 50,
   "metadata": {},
   "outputs": [],
   "source": [
    "ph = []\n",
    "for i in wine['pH']:\n",
    "    if i < 3.11:\n",
    "        ph.append('1')\n",
    "    elif i > 3.32:\n",
    "        ph.append('3')\n",
    "    else:\n",
    "        ph.append('2')\n",
    "test['ph'] = pd.Series(ph)        \n",
    "#test.insert(7, 'ph', pd.Series(ph))"
   ]
  },
  {
   "cell_type": "code",
   "execution_count": 60,
   "metadata": {},
   "outputs": [
    {
     "data": {
      "text/html": [
       "<div>\n",
       "<style>\n",
       "    .dataframe thead tr:only-child th {\n",
       "        text-align: right;\n",
       "    }\n",
       "\n",
       "    .dataframe thead th {\n",
       "        text-align: left;\n",
       "    }\n",
       "\n",
       "    .dataframe tbody tr th {\n",
       "        vertical-align: top;\n",
       "    }\n",
       "</style>\n",
       "<table border=\"1\" class=\"dataframe\">\n",
       "  <thead>\n",
       "    <tr style=\"text-align: right;\">\n",
       "      <th></th>\n",
       "      <th>fixed acidity</th>\n",
       "      <th>volatile acidity</th>\n",
       "      <th>citric acid</th>\n",
       "      <th>residual sugar</th>\n",
       "      <th>chlorides</th>\n",
       "      <th>sulfur ratio</th>\n",
       "      <th>density</th>\n",
       "      <th>pH</th>\n",
       "      <th>sulphates</th>\n",
       "      <th>alcohol</th>\n",
       "      <th>q</th>\n",
       "    </tr>\n",
       "  </thead>\n",
       "  <tbody>\n",
       "    <tr>\n",
       "      <th>0</th>\n",
       "      <td>7.4</td>\n",
       "      <td>0.70</td>\n",
       "      <td>0.00</td>\n",
       "      <td>1.9</td>\n",
       "      <td>0.076</td>\n",
       "      <td>0.323529</td>\n",
       "      <td>0.9978</td>\n",
       "      <td>3.51</td>\n",
       "      <td>0.56</td>\n",
       "      <td>9.4</td>\n",
       "      <td>2</td>\n",
       "    </tr>\n",
       "    <tr>\n",
       "      <th>1</th>\n",
       "      <td>7.8</td>\n",
       "      <td>0.88</td>\n",
       "      <td>0.00</td>\n",
       "      <td>2.6</td>\n",
       "      <td>0.098</td>\n",
       "      <td>0.373134</td>\n",
       "      <td>0.9968</td>\n",
       "      <td>3.20</td>\n",
       "      <td>0.68</td>\n",
       "      <td>9.8</td>\n",
       "      <td>2</td>\n",
       "    </tr>\n",
       "    <tr>\n",
       "      <th>2</th>\n",
       "      <td>7.8</td>\n",
       "      <td>0.76</td>\n",
       "      <td>0.04</td>\n",
       "      <td>2.3</td>\n",
       "      <td>0.092</td>\n",
       "      <td>0.277778</td>\n",
       "      <td>0.9970</td>\n",
       "      <td>3.26</td>\n",
       "      <td>0.65</td>\n",
       "      <td>9.8</td>\n",
       "      <td>2</td>\n",
       "    </tr>\n",
       "    <tr>\n",
       "      <th>3</th>\n",
       "      <td>11.2</td>\n",
       "      <td>0.28</td>\n",
       "      <td>0.56</td>\n",
       "      <td>1.9</td>\n",
       "      <td>0.075</td>\n",
       "      <td>0.283333</td>\n",
       "      <td>0.9980</td>\n",
       "      <td>3.16</td>\n",
       "      <td>0.58</td>\n",
       "      <td>9.8</td>\n",
       "      <td>2</td>\n",
       "    </tr>\n",
       "    <tr>\n",
       "      <th>4</th>\n",
       "      <td>7.4</td>\n",
       "      <td>0.70</td>\n",
       "      <td>0.00</td>\n",
       "      <td>1.9</td>\n",
       "      <td>0.076</td>\n",
       "      <td>0.323529</td>\n",
       "      <td>0.9978</td>\n",
       "      <td>3.51</td>\n",
       "      <td>0.56</td>\n",
       "      <td>9.4</td>\n",
       "      <td>2</td>\n",
       "    </tr>\n",
       "  </tbody>\n",
       "</table>\n",
       "</div>"
      ],
      "text/plain": [
       "   fixed acidity  volatile acidity  citric acid  residual sugar  chlorides  \\\n",
       "0            7.4              0.70         0.00             1.9      0.076   \n",
       "1            7.8              0.88         0.00             2.6      0.098   \n",
       "2            7.8              0.76         0.04             2.3      0.092   \n",
       "3           11.2              0.28         0.56             1.9      0.075   \n",
       "4            7.4              0.70         0.00             1.9      0.076   \n",
       "\n",
       "   sulfur ratio  density    pH  sulphates  alcohol  q  \n",
       "0      0.323529   0.9978  3.51       0.56      9.4  2  \n",
       "1      0.373134   0.9968  3.20       0.68      9.8  2  \n",
       "2      0.277778   0.9970  3.26       0.65      9.8  2  \n",
       "3      0.283333   0.9980  3.16       0.58      9.8  2  \n",
       "4      0.323529   0.9978  3.51       0.56      9.4  2  "
      ]
     },
     "execution_count": 60,
     "metadata": {},
     "output_type": "execute_result"
    }
   ],
   "source": [
    "test.head()"
   ]
  },
  {
   "cell_type": "code",
   "execution_count": 44,
   "metadata": {
    "collapsed": true
   },
   "outputs": [],
   "source": [
    "test.drop(['pH','citric acid'], axis=1, inplace=True)"
   ]
  },
  {
   "cell_type": "code",
   "execution_count": 55,
   "metadata": {
    "collapsed": true
   },
   "outputs": [],
   "source": [
    "test=wine.copy()"
   ]
  },
  {
   "cell_type": "code",
   "execution_count": 59,
   "metadata": {},
   "outputs": [],
   "source": [
    "q=[]\n",
    "for i in wine['quality']:\n",
    "    if i < 5:\n",
    "        q.append(1)\n",
    "    elif i > 7:\n",
    "        q.append(3)\n",
    "    else:\n",
    "        q.append(2)\n",
    "test.insert(10, 'q', pd.Series(q))\n",
    "test.drop('quality', axis=1,inplace=True)"
   ]
  },
  {
   "cell_type": "code",
   "execution_count": 62,
   "metadata": {
    "collapsed": true
   },
   "outputs": [],
   "source": [
    "pred = cross_val_predict(model,test.iloc[:,:-1], test.iloc[:,-1], cv=20)"
   ]
  },
  {
   "cell_type": "code",
   "execution_count": 74,
   "metadata": {},
   "outputs": [
    {
     "data": {
      "text/plain": [
       "(array([   0., 6497.,    0.]),\n",
       " array([1.5       , 1.83333333, 2.16666667, 2.5       ]),\n",
       " <a list of 3 Patch objects>)"
      ]
     },
     "execution_count": 74,
     "metadata": {},
     "output_type": "execute_result"
    },
    {
     "data": {
      "image/png": "[encoded data removed]",
      "text/plain": [
       "<matplotlib.figure.Figure at 0x16b8d8a25c0>"
      ]
     },
     "metadata": {},
     "output_type": "display_data"
    }
   ],
   "source": [
    "plt.hist(pred,bins=3)"
   ]
  },
  {
   "cell_type": "code",
   "execution_count": 73,
   "metadata": {},
   "outputs": [],
   "source": [
    "for i in range(len(pred)):\n",
    "    if pred[i] < 1.5:\n",
    "        pred[i] = 1\n",
    "    elif pred[i] > 2.5:\n",
    "        pred[i] = 3\n",
    "    else:\n",
    "        pred[i] = 2"
   ]
  },
  {
   "cell_type": "code",
   "execution_count": 79,
   "metadata": {},
   "outputs": [
    {
     "ename": "AttributeError",
     "evalue": "'numpy.ndarray' object has no attribute 'values'",
     "output_type": "error",
     "traceback": [
      "\u001b[1;31m---------------------------------------------------------------------------\u001b[0m",
      "\u001b[1;31mAttributeError\u001b[0m                            Traceback (most recent call last)",
      "\u001b[1;32m<ipython-input-79-8b0d2a73525b>\u001b[0m in \u001b[0;36m<module>\u001b[1;34m()\u001b[0m\n\u001b[1;32m----> 1\u001b[1;33m \u001b[0mpred\u001b[0m\u001b[1;33m.\u001b[0m\u001b[0mvalues\u001b[0m\u001b[1;33m\u001b[0m\u001b[0m\n\u001b[0m",
      "\u001b[1;31mAttributeError\u001b[0m: 'numpy.ndarray' object has no attribute 'values'"
     ]
    }
   ],
   "source": [
    "pred.values"
   ]
  },
  {
   "cell_type": "code",
   "execution_count": 80,
   "metadata": {},
   "outputs": [
    {
     "data": {
      "text/html": [
       "<div>\n",
       "<style>\n",
       "    .dataframe thead tr:only-child th {\n",
       "        text-align: right;\n",
       "    }\n",
       "\n",
       "    .dataframe thead th {\n",
       "        text-align: left;\n",
       "    }\n",
       "\n",
       "    .dataframe tbody tr th {\n",
       "        vertical-align: top;\n",
       "    }\n",
       "</style>\n",
       "<table border=\"1\" class=\"dataframe\">\n",
       "  <thead>\n",
       "    <tr style=\"text-align: right;\">\n",
       "      <th></th>\n",
       "      <th>fixed acidity</th>\n",
       "      <th>volatile acidity</th>\n",
       "      <th>citric acid</th>\n",
       "      <th>residual sugar</th>\n",
       "      <th>chlorides</th>\n",
       "      <th>free sulfur dioxide</th>\n",
       "      <th>total sulfur dioxide</th>\n",
       "      <th>density</th>\n",
       "      <th>pH</th>\n",
       "      <th>sulphates</th>\n",
       "      <th>alcohol</th>\n",
       "      <th>quality</th>\n",
       "    </tr>\n",
       "  </thead>\n",
       "  <tbody>\n",
       "    <tr>\n",
       "      <th>0</th>\n",
       "      <td>7.4</td>\n",
       "      <td>0.70</td>\n",
       "      <td>0.00</td>\n",
       "      <td>1.9</td>\n",
       "      <td>0.076</td>\n",
       "      <td>11.0</td>\n",
       "      <td>34.0</td>\n",
       "      <td>0.9978</td>\n",
       "      <td>3.51</td>\n",
       "      <td>0.56</td>\n",
       "      <td>9.4</td>\n",
       "      <td>5</td>\n",
       "    </tr>\n",
       "    <tr>\n",
       "      <th>1</th>\n",
       "      <td>7.8</td>\n",
       "      <td>0.88</td>\n",
       "      <td>0.00</td>\n",
       "      <td>2.6</td>\n",
       "      <td>0.098</td>\n",
       "      <td>25.0</td>\n",
       "      <td>67.0</td>\n",
       "      <td>0.9968</td>\n",
       "      <td>3.20</td>\n",
       "      <td>0.68</td>\n",
       "      <td>9.8</td>\n",
       "      <td>5</td>\n",
       "    </tr>\n",
       "    <tr>\n",
       "      <th>2</th>\n",
       "      <td>7.8</td>\n",
       "      <td>0.76</td>\n",
       "      <td>0.04</td>\n",
       "      <td>2.3</td>\n",
       "      <td>0.092</td>\n",
       "      <td>15.0</td>\n",
       "      <td>54.0</td>\n",
       "      <td>0.9970</td>\n",
       "      <td>3.26</td>\n",
       "      <td>0.65</td>\n",
       "      <td>9.8</td>\n",
       "      <td>5</td>\n",
       "    </tr>\n",
       "    <tr>\n",
       "      <th>3</th>\n",
       "      <td>11.2</td>\n",
       "      <td>0.28</td>\n",
       "      <td>0.56</td>\n",
       "      <td>1.9</td>\n",
       "      <td>0.075</td>\n",
       "      <td>17.0</td>\n",
       "      <td>60.0</td>\n",
       "      <td>0.9980</td>\n",
       "      <td>3.16</td>\n",
       "      <td>0.58</td>\n",
       "      <td>9.8</td>\n",
       "      <td>6</td>\n",
       "    </tr>\n",
       "    <tr>\n",
       "      <th>4</th>\n",
       "      <td>7.4</td>\n",
       "      <td>0.70</td>\n",
       "      <td>0.00</td>\n",
       "      <td>1.9</td>\n",
       "      <td>0.076</td>\n",
       "      <td>11.0</td>\n",
       "      <td>34.0</td>\n",
       "      <td>0.9978</td>\n",
       "      <td>3.51</td>\n",
       "      <td>0.56</td>\n",
       "      <td>9.4</td>\n",
       "      <td>5</td>\n",
       "    </tr>\n",
       "  </tbody>\n",
       "</table>\n",
       "</div>"
      ],
      "text/plain": [
       "   fixed acidity  volatile acidity  citric acid  residual sugar  chlorides  \\\n",
       "0            7.4              0.70         0.00             1.9      0.076   \n",
       "1            7.8              0.88         0.00             2.6      0.098   \n",
       "2            7.8              0.76         0.04             2.3      0.092   \n",
       "3           11.2              0.28         0.56             1.9      0.075   \n",
       "4            7.4              0.70         0.00             1.9      0.076   \n",
       "\n",
       "   free sulfur dioxide  total sulfur dioxide  density    pH  sulphates  \\\n",
       "0                 11.0                  34.0   0.9978  3.51       0.56   \n",
       "1                 25.0                  67.0   0.9968  3.20       0.68   \n",
       "2                 15.0                  54.0   0.9970  3.26       0.65   \n",
       "3                 17.0                  60.0   0.9980  3.16       0.58   \n",
       "4                 11.0                  34.0   0.9978  3.51       0.56   \n",
       "\n",
       "   alcohol  quality  \n",
       "0      9.4        5  \n",
       "1      9.8        5  \n",
       "2      9.8        5  \n",
       "3      9.8        6  \n",
       "4      9.4        5  "
      ]
     },
     "execution_count": 80,
     "metadata": {},
     "output_type": "execute_result"
    }
   ],
   "source": [
    "wine.head()"
   ]
  },
  {
   "cell_type": "code",
   "execution_count": 93,
   "metadata": {},
   "outputs": [
    {
     "data": {
      "text/plain": [
       "6    2836\n",
       "5    2138\n",
       "7    1079\n",
       "4     216\n",
       "8     193\n",
       "3      30\n",
       "9       5\n",
       "Name: quality, dtype: int64"
      ]
     },
     "execution_count": 93,
     "metadata": {},
     "output_type": "execute_result"
    }
   ],
   "source": [
    "wine['quality'].value_counts()"
   ]
  },
  {
   "cell_type": "code",
   "execution_count": 94,
   "metadata": {},
   "outputs": [
    {
     "data": {
      "text/plain": [
       "0.005387101739264276"
      ]
     },
     "execution_count": 94,
     "metadata": {},
     "output_type": "execute_result"
    }
   ],
   "source": [
    "35/len(wine)"
   ]
  },
  {
   "cell_type": "code",
   "execution_count": 95,
   "metadata": {},
   "outputs": [
    {
     "data": {
      "text/plain": [
       "0.06295213175311683"
      ]
     },
     "execution_count": 95,
     "metadata": {},
     "output_type": "execute_result"
    }
   ],
   "source": [
    "409/len(wine)"
   ]
  },
  {
   "cell_type": "code",
   "execution_count": 96,
   "metadata": {},
   "outputs": [
    {
     "data": {
      "text/html": [
       "<div>\n",
       "<style>\n",
       "    .dataframe thead tr:only-child th {\n",
       "        text-align: right;\n",
       "    }\n",
       "\n",
       "    .dataframe thead th {\n",
       "        text-align: left;\n",
       "    }\n",
       "\n",
       "    .dataframe tbody tr th {\n",
       "        vertical-align: top;\n",
       "    }\n",
       "</style>\n",
       "<table border=\"1\" class=\"dataframe\">\n",
       "  <thead>\n",
       "    <tr style=\"text-align: right;\">\n",
       "      <th></th>\n",
       "      <th>fixed acidity</th>\n",
       "      <th>volatile acidity</th>\n",
       "      <th>citric acid</th>\n",
       "      <th>residual sugar</th>\n",
       "      <th>chlorides</th>\n",
       "      <th>sulfur ratio</th>\n",
       "      <th>pH</th>\n",
       "      <th>sulphates</th>\n",
       "      <th>alcohol</th>\n",
       "      <th>quality</th>\n",
       "    </tr>\n",
       "  </thead>\n",
       "  <tbody>\n",
       "    <tr>\n",
       "      <th>0</th>\n",
       "      <td>1.189512</td>\n",
       "      <td>0.227025</td>\n",
       "      <td>0.000000</td>\n",
       "      <td>0.739740</td>\n",
       "      <td>0.033633</td>\n",
       "      <td>0.203762</td>\n",
       "      <td>0.557029</td>\n",
       "      <td>0.207029</td>\n",
       "      <td>0.867158</td>\n",
       "      <td>5</td>\n",
       "    </tr>\n",
       "    <tr>\n",
       "      <th>1</th>\n",
       "      <td>1.238344</td>\n",
       "      <td>0.242091</td>\n",
       "      <td>0.000000</td>\n",
       "      <td>0.940452</td>\n",
       "      <td>0.037278</td>\n",
       "      <td>0.224891</td>\n",
       "      <td>0.380512</td>\n",
       "      <td>0.243922</td>\n",
       "      <td>1.018138</td>\n",
       "      <td>5</td>\n",
       "    </tr>\n",
       "    <tr>\n",
       "      <th>2</th>\n",
       "      <td>1.238344</td>\n",
       "      <td>0.232891</td>\n",
       "      <td>0.039366</td>\n",
       "      <td>0.862713</td>\n",
       "      <td>0.036454</td>\n",
       "      <td>0.181988</td>\n",
       "      <td>0.417824</td>\n",
       "      <td>0.235709</td>\n",
       "      <td>1.018138</td>\n",
       "      <td>5</td>\n",
       "    </tr>\n",
       "    <tr>\n",
       "      <th>3</th>\n",
       "      <td>1.512852</td>\n",
       "      <td>0.133183</td>\n",
       "      <td>0.463782</td>\n",
       "      <td>0.739740</td>\n",
       "      <td>0.033421</td>\n",
       "      <td>0.184761</td>\n",
       "      <td>0.354655</td>\n",
       "      <td>0.213985</td>\n",
       "      <td>1.018138</td>\n",
       "      <td>6</td>\n",
       "    </tr>\n",
       "    <tr>\n",
       "      <th>4</th>\n",
       "      <td>1.189512</td>\n",
       "      <td>0.227025</td>\n",
       "      <td>0.000000</td>\n",
       "      <td>0.739740</td>\n",
       "      <td>0.033633</td>\n",
       "      <td>0.203762</td>\n",
       "      <td>0.557029</td>\n",
       "      <td>0.207029</td>\n",
       "      <td>0.867158</td>\n",
       "      <td>5</td>\n",
       "    </tr>\n",
       "  </tbody>\n",
       "</table>\n",
       "</div>"
      ],
      "text/plain": [
       "   fixed acidity  volatile acidity  citric acid  residual sugar  chlorides  \\\n",
       "0       1.189512          0.227025     0.000000        0.739740   0.033633   \n",
       "1       1.238344          0.242091     0.000000        0.940452   0.037278   \n",
       "2       1.238344          0.232891     0.039366        0.862713   0.036454   \n",
       "3       1.512852          0.133183     0.463782        0.739740   0.033421   \n",
       "4       1.189512          0.227025     0.000000        0.739740   0.033633   \n",
       "\n",
       "   sulfur ratio        pH  sulphates   alcohol  quality  \n",
       "0      0.203762  0.557029   0.207029  0.867158        5  \n",
       "1      0.224891  0.380512   0.243922  1.018138        5  \n",
       "2      0.181988  0.417824   0.235709  1.018138        5  \n",
       "3      0.184761  0.354655   0.213985  1.018138        6  \n",
       "4      0.203762  0.557029   0.207029  0.867158        5  "
      ]
     },
     "execution_count": 96,
     "metadata": {},
     "output_type": "execute_result"
    }
   ],
   "source": [
    "wines = pd.read_csv('winedata.csv')\n",
    "wines.head()"
   ]
  },
  {
   "cell_type": "code",
   "execution_count": 107,
   "metadata": {},
   "outputs": [
    {
     "data": {
      "text/plain": [
       "(array([5.555e+03, 8.240e+02, 1.130e+02, 2.000e+00, 2.000e+00, 0.000e+00,\n",
       "        0.000e+00, 0.000e+00, 0.000e+00, 1.000e+00]),\n",
       " array([6.76466061e-03, 6.04176466e+00, 1.20767647e+01, 1.81117647e+01,\n",
       "        2.41467647e+01, 3.01817647e+01, 3.62167647e+01, 4.22517647e+01,\n",
       "        4.82867647e+01, 5.43217647e+01, 6.03567647e+01]),\n",
       " <a list of 10 Patch objects>)"
      ]
     },
     "execution_count": 107,
     "metadata": {},
     "output_type": "execute_result"
    },
    {
     "data": {
      "image/png": "[encoded data removed]",
      "text/plain": [
       "<matplotlib.figure.Figure at 0x16b8f7203c8>"
      ]
     },
     "metadata": {},
     "output_type": "display_data"
    }
   ],
   "source": [
    "plt.hist(wines['residual sugar'])"
   ]
  },
  {
   "cell_type": "code",
   "execution_count": 105,
   "metadata": {
    "collapsed": true
   },
   "outputs": [],
   "source": [
    "wines['residual sugar'] = abs(wine['residual sugar']-wine['residual sugar'].mean())"
   ]
  },
  {
   "cell_type": "code",
   "execution_count": 100,
   "metadata": {},
   "outputs": [
    {
     "data": {
      "text/plain": [
       "6497"
      ]
     },
     "execution_count": 100,
     "metadata": {},
     "output_type": "execute_result"
    }
   ],
   "source": [
    "len(wines)"
   ]
  },
  {
   "cell_type": "code",
   "execution_count": 103,
   "metadata": {},
   "outputs": [
    {
     "data": {
      "text/html": [
       "<div>\n",
       "<style>\n",
       "    .dataframe thead tr:only-child th {\n",
       "        text-align: right;\n",
       "    }\n",
       "\n",
       "    .dataframe thead th {\n",
       "        text-align: left;\n",
       "    }\n",
       "\n",
       "    .dataframe tbody tr th {\n",
       "        vertical-align: top;\n",
       "    }\n",
       "</style>\n",
       "<table border=\"1\" class=\"dataframe\">\n",
       "  <thead>\n",
       "    <tr style=\"text-align: right;\">\n",
       "      <th></th>\n",
       "      <th>fixed acidity</th>\n",
       "      <th>volatile acidity</th>\n",
       "      <th>citric acid</th>\n",
       "      <th>residual sugar</th>\n",
       "      <th>chlorides</th>\n",
       "      <th>free sulfur dioxide</th>\n",
       "      <th>total sulfur dioxide</th>\n",
       "      <th>density</th>\n",
       "      <th>pH</th>\n",
       "      <th>sulphates</th>\n",
       "      <th>alcohol</th>\n",
       "      <th>quality</th>\n",
       "    </tr>\n",
       "  </thead>\n",
       "  <tbody>\n",
       "    <tr>\n",
       "      <th>0</th>\n",
       "      <td>7.4</td>\n",
       "      <td>0.70</td>\n",
       "      <td>0.00</td>\n",
       "      <td>1.9</td>\n",
       "      <td>0.076</td>\n",
       "      <td>11.0</td>\n",
       "      <td>34.0</td>\n",
       "      <td>0.9978</td>\n",
       "      <td>3.51</td>\n",
       "      <td>0.56</td>\n",
       "      <td>9.4</td>\n",
       "      <td>5</td>\n",
       "    </tr>\n",
       "    <tr>\n",
       "      <th>1</th>\n",
       "      <td>7.8</td>\n",
       "      <td>0.88</td>\n",
       "      <td>0.00</td>\n",
       "      <td>2.6</td>\n",
       "      <td>0.098</td>\n",
       "      <td>25.0</td>\n",
       "      <td>67.0</td>\n",
       "      <td>0.9968</td>\n",
       "      <td>3.20</td>\n",
       "      <td>0.68</td>\n",
       "      <td>9.8</td>\n",
       "      <td>5</td>\n",
       "    </tr>\n",
       "    <tr>\n",
       "      <th>2</th>\n",
       "      <td>7.8</td>\n",
       "      <td>0.76</td>\n",
       "      <td>0.04</td>\n",
       "      <td>2.3</td>\n",
       "      <td>0.092</td>\n",
       "      <td>15.0</td>\n",
       "      <td>54.0</td>\n",
       "      <td>0.9970</td>\n",
       "      <td>3.26</td>\n",
       "      <td>0.65</td>\n",
       "      <td>9.8</td>\n",
       "      <td>5</td>\n",
       "    </tr>\n",
       "    <tr>\n",
       "      <th>3</th>\n",
       "      <td>11.2</td>\n",
       "      <td>0.28</td>\n",
       "      <td>0.56</td>\n",
       "      <td>1.9</td>\n",
       "      <td>0.075</td>\n",
       "      <td>17.0</td>\n",
       "      <td>60.0</td>\n",
       "      <td>0.9980</td>\n",
       "      <td>3.16</td>\n",
       "      <td>0.58</td>\n",
       "      <td>9.8</td>\n",
       "      <td>6</td>\n",
       "    </tr>\n",
       "    <tr>\n",
       "      <th>4</th>\n",
       "      <td>7.4</td>\n",
       "      <td>0.70</td>\n",
       "      <td>0.00</td>\n",
       "      <td>1.9</td>\n",
       "      <td>0.076</td>\n",
       "      <td>11.0</td>\n",
       "      <td>34.0</td>\n",
       "      <td>0.9978</td>\n",
       "      <td>3.51</td>\n",
       "      <td>0.56</td>\n",
       "      <td>9.4</td>\n",
       "      <td>5</td>\n",
       "    </tr>\n",
       "  </tbody>\n",
       "</table>\n",
       "</div>"
      ],
      "text/plain": [
       "   fixed acidity  volatile acidity  citric acid  residual sugar  chlorides  \\\n",
       "0            7.4              0.70         0.00             1.9      0.076   \n",
       "1            7.8              0.88         0.00             2.6      0.098   \n",
       "2            7.8              0.76         0.04             2.3      0.092   \n",
       "3           11.2              0.28         0.56             1.9      0.075   \n",
       "4            7.4              0.70         0.00             1.9      0.076   \n",
       "\n",
       "   free sulfur dioxide  total sulfur dioxide  density    pH  sulphates  \\\n",
       "0                 11.0                  34.0   0.9978  3.51       0.56   \n",
       "1                 25.0                  67.0   0.9968  3.20       0.68   \n",
       "2                 15.0                  54.0   0.9970  3.26       0.65   \n",
       "3                 17.0                  60.0   0.9980  3.16       0.58   \n",
       "4                 11.0                  34.0   0.9978  3.51       0.56   \n",
       "\n",
       "   alcohol  quality  \n",
       "0      9.4        5  \n",
       "1      9.8        5  \n",
       "2      9.8        5  \n",
       "3      9.8        6  \n",
       "4      9.4        5  "
      ]
     },
     "execution_count": 103,
     "metadata": {},
     "output_type": "execute_result"
    }
   ],
   "source": [
    "wine.head()"
   ]
  },
  {
   "cell_type": "code",
   "execution_count": null,
   "metadata": {
    "collapsed": true
   },
   "outputs": [],
   "source": []
  }
 ],
 "metadata": {
  "kernelspec": {
   "display_name": "Python 3",
   "language": "python",
   "name": "python3"
  },
  "language_info": {
   "codemirror_mode": {
    "name": "ipython",
    "version": 3
   },
   "file_extension": ".py",
   "mimetype": "text/x-python",
   "name": "python",
   "nbconvert_exporter": "python",
   "pygments_lexer": "ipython3",
   "version": "3.6.4"
  }
 },
 "nbformat": 4,
 "nbformat_minor": 2
}
